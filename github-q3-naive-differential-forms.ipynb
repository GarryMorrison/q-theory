{
 "cells": [
  {
   "cell_type": "code",
   "execution_count": 1,
   "metadata": {},
   "outputs": [],
   "source": [
    "# Non cross term differential forms in matrix representation\n",
    "\n",
    "# define our root of unity:\n",
    "var('w')\n",
    "W = exp(I*2*pi/3)\n",
    "k = CyclotomicField(3)\n",
    "Z = k.gen()\n",
    "\n",
    "\n",
    "# variables to help with walking the parse tree:\n",
    "var('sym1 sym2')\n",
    "\n",
    "# Now on to some helper functions:\n",
    "# Noting that q = 3 requires more help than q = 2\n",
    "# define our w_modulus function:\n",
    "def w_mod(r):\n",
    "    r = expand(r)\n",
    "    try:\n",
    "        if len(r.operands()) == 0:\n",
    "            return r\n",
    "    except:\n",
    "        return r\n",
    "    if r.operator() == (sym1 + sym2).operator():\n",
    "        result = 0\n",
    "        for term in r.operands():\n",
    "            result += w_mod(term)\n",
    "        return result\n",
    "    if r.operator() == (sym1*sym2).operator():\n",
    "        result = 1\n",
    "        for term in r.operands():\n",
    "            result *= w_mod(term)\n",
    "        return result\n",
    "    if r.operator() == (sym1^sym2).operator():\n",
    "        head = r.operands()[0]\n",
    "        tail = r.operands()[1]\n",
    "        if head != w:\n",
    "            return r\n",
    "        try:\n",
    "            tail = Mod(tail, 3)\n",
    "            return head^tail\n",
    "        except:\n",
    "            return r\n",
    "\n",
    "# wrapper for our w_mod function, so we can apply it to matrices:\n",
    "def matrix_w_mod(A):\n",
    "    return A.apply_map(w_mod)\n",
    "\n",
    "\n",
    "# Implement 1 + w + w^2 = 0\n",
    "# Needs verifying!\n",
    "def expand_w(r):\n",
    "    r = expand(r)\n",
    "    if r.operator() != (sym1 + sym2).operator():  # Already compact, so return it unchanged\n",
    "        return r\n",
    "    non_w2_terms = r.substitute({w^2: 0})\n",
    "    w2_terms = r - non_w2_terms\n",
    "    w2_terms = expand(w2_terms.substitute({w: 1}))\n",
    "    r2 = expand(non_w2_terms - w2_terms*(1 + w))\n",
    "    if r2.operator() != (sym1 + sym2).operator(): # Compact, so return the new result\n",
    "        return r2\n",
    "    if len(r2.operands()) < len(r.operands()):  # Smaller, so let's keep this change\n",
    "        non_w_terms = r2.substitute({w: 0})\n",
    "        w_terms = r2 - non_w_terms\n",
    "        w_terms = expand(w_terms.substitute({w: 1}))\n",
    "        if w_terms.operator() != (sym1 + sym2).operator():\n",
    "            r3 = expand(non_w_terms - w_terms*(1 + w^2))\n",
    "            if r3.operator() != (sym1 + sym2).operator():\n",
    "                return r3\n",
    "            if len(r3.operands()) < len(r2.operands()):\n",
    "                return r3\n",
    "        result = r2\n",
    "        for t in w_terms.operands():\n",
    "            r3 = expand(result - t*(1 + w + w^2))\n",
    "            if r3.operator() != (sym1 + sym2).operator():\n",
    "                return r3\n",
    "            if len(r3.operands()) < len(result.operands()):\n",
    "                result = r3\n",
    "        if len(result.operands()) < len(r2.operands()):\n",
    "            return result\n",
    "        return r2\n",
    "    if w2_terms == 0:\n",
    "        non_w_terms = r.substitute({w: 0})\n",
    "        w_terms = r - non_w_terms\n",
    "        w_terms = expand(w_terms.substitute({w: 1}))\n",
    "        r2 = expand(non_w_terms - w_terms*(1 + w^2))\n",
    "        if r2.operator() != (sym1 + sym2).operator():\n",
    "            return r2\n",
    "        if len(r2.operands()) < len(r.operands()):\n",
    "            return r2\n",
    "        return r\n",
    "    return r\n",
    "    \n",
    "def layer2_expand_w(r):\n",
    "    r = w_mod(r)\n",
    "    r = expand_w(r)\n",
    "    if r.operator() != (sym1 + sym2).operator():  # Already compact, so return it unchanged\n",
    "        return r\n",
    "    test_r = w_mod(w^2*(expand_w(w_mod(w*r))))\n",
    "    if test_r.operator() != (sym1 + sym2).operator():\n",
    "        return test_r\n",
    "    if len(test_r.operands()) < len(r.operands()):\n",
    "        return test_r\n",
    "    return r\n",
    "\n",
    "\n",
    "def matrix_expand_w(A):\n",
    "    return A.apply_map(expand_w)\n"
   ]
  },
  {
   "cell_type": "code",
   "execution_count": 4,
   "metadata": {},
   "outputs": [
    {
     "data": {
      "text/html": [
       "<html><script type=\"math/tex; mode=display\">\\newcommand{\\Bold}[1]{\\mathbf{#1}}\\verb|dim|\\phantom{\\verb!x!}\\verb|3|\\phantom{\\verb!x!}\\verb|matrices:|</script></html>"
      ],
      "text/plain": [
       "'dim 3 matrices:'"
      ]
     },
     "metadata": {},
     "output_type": "display_data"
    },
    {
     "data": {
      "text/html": [
       "<html><script type=\"math/tex; mode=display\">\\newcommand{\\Bold}[1]{\\mathbf{#1}}\\verb|N1:| \\left(\\begin{array}{rrr}\n",
       "0 & 1 & 0 \\\\\n",
       "0 & 0 & 1 \\\\\n",
       "1 & 0 & 0\n",
       "\\end{array}\\right)</script></html>"
      ],
      "text/plain": [
       "'N1:' [0 1 0]\n",
       "[0 0 1]\n",
       "[1 0 0]"
      ]
     },
     "metadata": {},
     "output_type": "display_data"
    },
    {
     "data": {
      "text/html": [
       "<html><script type=\"math/tex; mode=display\">\\newcommand{\\Bold}[1]{\\mathbf{#1}}\\verb|N2:| \\left(\\begin{array}{rrr}\n",
       "0 & 1 & 0 \\\\\n",
       "0 & 0 & w^{2} \\\\\n",
       "w & 0 & 0\n",
       "\\end{array}\\right)</script></html>"
      ],
      "text/plain": [
       "'N2:' [  0   1   0]\n",
       "[  0   0 w^2]\n",
       "[  w   0   0]"
      ]
     },
     "metadata": {},
     "output_type": "display_data"
    },
    {
     "data": {
      "text/html": [
       "<html><script type=\"math/tex; mode=display\">\\newcommand{\\Bold}[1]{\\mathbf{#1}}\\verb|N3:| \\left(\\begin{array}{rrr}\n",
       "1 & 0 & 0 \\\\\n",
       "0 & w^{2} & 0 \\\\\n",
       "0 & 0 & w\n",
       "\\end{array}\\right)</script></html>"
      ],
      "text/plain": [
       "'N3:' [  1   0   0]\n",
       "[  0 w^2   0]\n",
       "[  0   0   w]"
      ]
     },
     "metadata": {},
     "output_type": "display_data"
    },
    {
     "data": {
      "text/html": [
       "<html><script type=\"math/tex; mode=display\">\\newcommand{\\Bold}[1]{\\mathbf{#1}}\\verb|Their|\\phantom{\\verb!x!}\\verb|commutator|\\phantom{\\verb!x!}\\verb|properties:|</script></html>"
      ],
      "text/plain": [
       "'Their commutator properties:'"
      ]
     },
     "metadata": {},
     "output_type": "display_data"
    },
    {
     "data": {
      "text/html": [
       "<html><script type=\"math/tex; mode=display\">\\newcommand{\\Bold}[1]{\\mathbf{#1}}\\verb|N3|\\phantom{\\verb!x!}\\verb|N1|\\phantom{\\verb!x!}\\verb|-|\\phantom{\\verb!x!}\\verb|w|\\phantom{\\verb!x!}\\verb|N1|\\phantom{\\verb!x!}\\verb|N3:| \\left(\\begin{array}{rrr}\n",
       "0 & 0 & 0 \\\\\n",
       "0 & 0 & 0 \\\\\n",
       "0 & 0 & 0\n",
       "\\end{array}\\right)</script></html>"
      ],
      "text/plain": [
       "'N3 N1 - w N1 N3:' [0 0 0]\n",
       "[0 0 0]\n",
       "[0 0 0]"
      ]
     },
     "metadata": {},
     "output_type": "display_data"
    },
    {
     "data": {
      "text/html": [
       "<html><script type=\"math/tex; mode=display\">\\newcommand{\\Bold}[1]{\\mathbf{#1}}\\verb|N2|\\phantom{\\verb!x!}\\verb|N1|\\phantom{\\verb!x!}\\verb|-|\\phantom{\\verb!x!}\\verb|w|\\phantom{\\verb!x!}\\verb|N1|\\phantom{\\verb!x!}\\verb|N2:| \\left(\\begin{array}{rrr}\n",
       "0 & 0 & 0 \\\\\n",
       "0 & 0 & 0 \\\\\n",
       "0 & 0 & 0\n",
       "\\end{array}\\right)</script></html>"
      ],
      "text/plain": [
       "'N2 N1 - w N1 N2:' [0 0 0]\n",
       "[0 0 0]\n",
       "[0 0 0]"
      ]
     },
     "metadata": {},
     "output_type": "display_data"
    },
    {
     "data": {
      "text/html": [
       "<html><script type=\"math/tex; mode=display\">\\newcommand{\\Bold}[1]{\\mathbf{#1}}\\verb|N3|\\phantom{\\verb!x!}\\verb|N2|\\phantom{\\verb!x!}\\verb|-|\\phantom{\\verb!x!}\\verb|w|\\phantom{\\verb!x!}\\verb|N2|\\phantom{\\verb!x!}\\verb|N3:| \\left(\\begin{array}{rrr}\n",
       "0 & 0 & 0 \\\\\n",
       "0 & 0 & 0 \\\\\n",
       "0 & 0 & 0\n",
       "\\end{array}\\right)</script></html>"
      ],
      "text/plain": [
       "'N3 N2 - w N2 N3:' [0 0 0]\n",
       "[0 0 0]\n",
       "[0 0 0]"
      ]
     },
     "metadata": {},
     "output_type": "display_data"
    },
    {
     "data": {
      "text/html": [
       "<html><script type=\"math/tex; mode=display\">\\newcommand{\\Bold}[1]{\\mathbf{#1}}\\verb|Check|\\phantom{\\verb!x!}\\verb|they|\\phantom{\\verb!x!}\\verb|are|\\phantom{\\verb!x!}\\verb|a|\\phantom{\\verb!x!}\\verb|matrix|\\phantom{\\verb!x!}\\verb|cube|\\phantom{\\verb!x!}\\verb|root:|</script></html>"
      ],
      "text/plain": [
       "'Check they are a matrix cube root:'"
      ]
     },
     "metadata": {},
     "output_type": "display_data"
    },
    {
     "data": {
      "text/html": [
       "<html><script type=\"math/tex; mode=display\">\\newcommand{\\Bold}[1]{\\mathbf{#1}}\\verb|r^3:| \\left(\\begin{array}{rrr}\n",
       "p_{1}^{3} + p_{2}^{3} + p_{3}^{3} & 0 & 0 \\\\\n",
       "0 & p_{1}^{3} + p_{2}^{3} + p_{3}^{3} & 0 \\\\\n",
       "0 & 0 & p_{1}^{3} + p_{2}^{3} + p_{3}^{3}\n",
       "\\end{array}\\right)</script></html>"
      ],
      "text/plain": [
       "'r^3:' [p1^3 + p2^3 + p3^3                  0                  0]\n",
       "[                 0 p1^3 + p2^3 + p3^3                  0]\n",
       "[                 0                  0 p1^3 + p2^3 + p3^3]"
      ]
     },
     "metadata": {},
     "output_type": "display_data"
    },
    {
     "data": {
      "text/html": [
       "<html><script type=\"math/tex; mode=display\">\\newcommand{\\Bold}[1]{\\mathbf{#1}}\\verb|-------------------------------------|</script></html>"
      ],
      "text/plain": [
       "'-------------------------------------'"
      ]
     },
     "metadata": {},
     "output_type": "display_data"
    },
    {
     "data": {
      "text/html": [
       "<html><script type=\"math/tex; mode=display\">\\newcommand{\\Bold}[1]{\\mathbf{#1}}\\verb|dim|\\phantom{\\verb!x!}\\verb|4|\\phantom{\\verb!x!}\\verb|matrices:|</script></html>"
      ],
      "text/plain": [
       "'dim 4 matrices:'"
      ]
     },
     "metadata": {},
     "output_type": "display_data"
    },
    {
     "data": {
      "text/html": [
       "<html><script type=\"math/tex; mode=display\">\\newcommand{\\Bold}[1]{\\mathbf{#1}}\\verb|NN0:| \\left(\\begin{array}{rrr|rrr|rrr}\n",
       "0 & 0 & 0 & 1 & 0 & 0 & 0 & 0 & 0 \\\\\n",
       "0 & 0 & 0 & 0 & 1 & 0 & 0 & 0 & 0 \\\\\n",
       "0 & 0 & 0 & 0 & 0 & 1 & 0 & 0 & 0 \\\\\n",
       "\\hline\n",
       " 0 & 0 & 0 & 0 & 0 & 0 & 1 & 0 & 0 \\\\\n",
       "0 & 0 & 0 & 0 & 0 & 0 & 0 & 1 & 0 \\\\\n",
       "0 & 0 & 0 & 0 & 0 & 0 & 0 & 0 & 1 \\\\\n",
       "\\hline\n",
       " 1 & 0 & 0 & 0 & 0 & 0 & 0 & 0 & 0 \\\\\n",
       "0 & 1 & 0 & 0 & 0 & 0 & 0 & 0 & 0 \\\\\n",
       "0 & 0 & 1 & 0 & 0 & 0 & 0 & 0 & 0\n",
       "\\end{array}\\right)</script></html>"
      ],
      "text/plain": [
       "'NN0:' [0 0 0|1 0 0|0 0 0]\n",
       "[0 0 0|0 1 0|0 0 0]\n",
       "[0 0 0|0 0 1|0 0 0]\n",
       "[-----+-----+-----]\n",
       "[0 0 0|0 0 0|1 0 0]\n",
       "[0 0 0|0 0 0|0 1 0]\n",
       "[0 0 0|0 0 0|0 0 1]\n",
       "[-----+-----+-----]\n",
       "[1 0 0|0 0 0|0 0 0]\n",
       "[0 1 0|0 0 0|0 0 0]\n",
       "[0 0 1|0 0 0|0 0 0]"
      ]
     },
     "metadata": {},
     "output_type": "display_data"
    },
    {
     "data": {
      "text/html": [
       "<html><script type=\"math/tex; mode=display\">\\newcommand{\\Bold}[1]{\\mathbf{#1}}\\verb|NN1:| \\left(\\begin{array}{rrr|rrr|rrr}\n",
       "0 & 1 & 0 & 0 & 0 & 0 & 0 & 0 & 0 \\\\\n",
       "0 & 0 & 1 & 0 & 0 & 0 & 0 & 0 & 0 \\\\\n",
       "1 & 0 & 0 & 0 & 0 & 0 & 0 & 0 & 0 \\\\\n",
       "\\hline\n",
       " 0 & 0 & 0 & 0 & w^{2} & 0 & 0 & 0 & 0 \\\\\n",
       "0 & 0 & 0 & 0 & 0 & w^{2} & 0 & 0 & 0 \\\\\n",
       "0 & 0 & 0 & w^{2} & 0 & 0 & 0 & 0 & 0 \\\\\n",
       "\\hline\n",
       " 0 & 0 & 0 & 0 & 0 & 0 & 0 & w & 0 \\\\\n",
       "0 & 0 & 0 & 0 & 0 & 0 & 0 & 0 & w \\\\\n",
       "0 & 0 & 0 & 0 & 0 & 0 & w & 0 & 0\n",
       "\\end{array}\\right)</script></html>"
      ],
      "text/plain": [
       "'NN1:' [  0   1   0|  0   0   0|  0   0   0]\n",
       "[  0   0   1|  0   0   0|  0   0   0]\n",
       "[  1   0   0|  0   0   0|  0   0   0]\n",
       "[-----------+-----------+-----------]\n",
       "[  0   0   0|  0 w^2   0|  0   0   0]\n",
       "[  0   0   0|  0   0 w^2|  0   0   0]\n",
       "[  0   0   0|w^2   0   0|  0   0   0]\n",
       "[-----------+-----------+-----------]\n",
       "[  0   0   0|  0   0   0|  0   w   0]\n",
       "[  0   0   0|  0   0   0|  0   0   w]\n",
       "[  0   0   0|  0   0   0|  w   0   0]"
      ]
     },
     "metadata": {},
     "output_type": "display_data"
    },
    {
     "data": {
      "text/html": [
       "<html><script type=\"math/tex; mode=display\">\\newcommand{\\Bold}[1]{\\mathbf{#1}}\\verb|NN2:| \\left(\\begin{array}{rrr|rrr|rrr}\n",
       "0 & 1 & 0 & 0 & 0 & 0 & 0 & 0 & 0 \\\\\n",
       "0 & 0 & w^{2} & 0 & 0 & 0 & 0 & 0 & 0 \\\\\n",
       "w & 0 & 0 & 0 & 0 & 0 & 0 & 0 & 0 \\\\\n",
       "\\hline\n",
       " 0 & 0 & 0 & 0 & w^{2} & 0 & 0 & 0 & 0 \\\\\n",
       "0 & 0 & 0 & 0 & 0 & w^{4} & 0 & 0 & 0 \\\\\n",
       "0 & 0 & 0 & w^{3} & 0 & 0 & 0 & 0 & 0 \\\\\n",
       "\\hline\n",
       " 0 & 0 & 0 & 0 & 0 & 0 & 0 & w & 0 \\\\\n",
       "0 & 0 & 0 & 0 & 0 & 0 & 0 & 0 & w^{3} \\\\\n",
       "0 & 0 & 0 & 0 & 0 & 0 & w^{2} & 0 & 0\n",
       "\\end{array}\\right)</script></html>"
      ],
      "text/plain": [
       "'NN2:' [  0   1   0|  0   0   0|  0   0   0]\n",
       "[  0   0 w^2|  0   0   0|  0   0   0]\n",
       "[  w   0   0|  0   0   0|  0   0   0]\n",
       "[-----------+-----------+-----------]\n",
       "[  0   0   0|  0 w^2   0|  0   0   0]\n",
       "[  0   0   0|  0   0 w^4|  0   0   0]\n",
       "[  0   0   0|w^3   0   0|  0   0   0]\n",
       "[-----------+-----------+-----------]\n",
       "[  0   0   0|  0   0   0|  0   w   0]\n",
       "[  0   0   0|  0   0   0|  0   0 w^3]\n",
       "[  0   0   0|  0   0   0|w^2   0   0]"
      ]
     },
     "metadata": {},
     "output_type": "display_data"
    },
    {
     "data": {
      "text/html": [
       "<html><script type=\"math/tex; mode=display\">\\newcommand{\\Bold}[1]{\\mathbf{#1}}\\verb|NN3:| \\left(\\begin{array}{rrr|rrr|rrr}\n",
       "1 & 0 & 0 & 0 & 0 & 0 & 0 & 0 & 0 \\\\\n",
       "0 & w^{2} & 0 & 0 & 0 & 0 & 0 & 0 & 0 \\\\\n",
       "0 & 0 & w & 0 & 0 & 0 & 0 & 0 & 0 \\\\\n",
       "\\hline\n",
       " 0 & 0 & 0 & w^{2} & 0 & 0 & 0 & 0 & 0 \\\\\n",
       "0 & 0 & 0 & 0 & w^{4} & 0 & 0 & 0 & 0 \\\\\n",
       "0 & 0 & 0 & 0 & 0 & w^{3} & 0 & 0 & 0 \\\\\n",
       "\\hline\n",
       " 0 & 0 & 0 & 0 & 0 & 0 & w & 0 & 0 \\\\\n",
       "0 & 0 & 0 & 0 & 0 & 0 & 0 & w^{3} & 0 \\\\\n",
       "0 & 0 & 0 & 0 & 0 & 0 & 0 & 0 & w^{2}\n",
       "\\end{array}\\right)</script></html>"
      ],
      "text/plain": [
       "'NN3:' [  1   0   0|  0   0   0|  0   0   0]\n",
       "[  0 w^2   0|  0   0   0|  0   0   0]\n",
       "[  0   0   w|  0   0   0|  0   0   0]\n",
       "[-----------+-----------+-----------]\n",
       "[  0   0   0|w^2   0   0|  0   0   0]\n",
       "[  0   0   0|  0 w^4   0|  0   0   0]\n",
       "[  0   0   0|  0   0 w^3|  0   0   0]\n",
       "[-----------+-----------+-----------]\n",
       "[  0   0   0|  0   0   0|  w   0   0]\n",
       "[  0   0   0|  0   0   0|  0 w^3   0]\n",
       "[  0   0   0|  0   0   0|  0   0 w^2]"
      ]
     },
     "metadata": {},
     "output_type": "display_data"
    },
    {
     "data": {
      "text/html": [
       "<html><script type=\"math/tex; mode=display\">\\newcommand{\\Bold}[1]{\\mathbf{#1}}\\verb|Their|\\phantom{\\verb!x!}\\verb|commutator|\\phantom{\\verb!x!}\\verb|properties:|</script></html>"
      ],
      "text/plain": [
       "'Their commutator properties:'"
      ]
     },
     "metadata": {},
     "output_type": "display_data"
    },
    {
     "data": {
      "text/html": [
       "<html><script type=\"math/tex; mode=display\">\\newcommand{\\Bold}[1]{\\mathbf{#1}}\\verb|NN1|\\phantom{\\verb!x!}\\verb|NN0|\\phantom{\\verb!x!}\\verb|-|\\phantom{\\verb!x!}\\verb|w|\\phantom{\\verb!x!}\\verb|NN0|\\phantom{\\verb!x!}\\verb|NN1:| \\left(\\begin{array}{rrrrrrrrr}\n",
       "0 & 0 & 0 & 0 & 0 & 0 & 0 & 0 & 0 \\\\\n",
       "0 & 0 & 0 & 0 & 0 & 0 & 0 & 0 & 0 \\\\\n",
       "0 & 0 & 0 & 0 & 0 & 0 & 0 & 0 & 0 \\\\\n",
       "0 & 0 & 0 & 0 & 0 & 0 & 0 & 0 & 0 \\\\\n",
       "0 & 0 & 0 & 0 & 0 & 0 & 0 & 0 & 0 \\\\\n",
       "0 & 0 & 0 & 0 & 0 & 0 & 0 & 0 & 0 \\\\\n",
       "0 & 0 & 0 & 0 & 0 & 0 & 0 & 0 & 0 \\\\\n",
       "0 & 0 & 0 & 0 & 0 & 0 & 0 & 0 & 0 \\\\\n",
       "0 & 0 & 0 & 0 & 0 & 0 & 0 & 0 & 0\n",
       "\\end{array}\\right)</script></html>"
      ],
      "text/plain": [
       "'NN1 NN0 - w NN0 NN1:' [0 0 0 0 0 0 0 0 0]\n",
       "[0 0 0 0 0 0 0 0 0]\n",
       "[0 0 0 0 0 0 0 0 0]\n",
       "[0 0 0 0 0 0 0 0 0]\n",
       "[0 0 0 0 0 0 0 0 0]\n",
       "[0 0 0 0 0 0 0 0 0]\n",
       "[0 0 0 0 0 0 0 0 0]\n",
       "[0 0 0 0 0 0 0 0 0]\n",
       "[0 0 0 0 0 0 0 0 0]"
      ]
     },
     "metadata": {},
     "output_type": "display_data"
    },
    {
     "data": {
      "text/html": [
       "<html><script type=\"math/tex; mode=display\">\\newcommand{\\Bold}[1]{\\mathbf{#1}}\\verb|NN2|\\phantom{\\verb!x!}\\verb|NN0|\\phantom{\\verb!x!}\\verb|-|\\phantom{\\verb!x!}\\verb|w|\\phantom{\\verb!x!}\\verb|NN0|\\phantom{\\verb!x!}\\verb|NN2:| \\left(\\begin{array}{rrrrrrrrr}\n",
       "0 & 0 & 0 & 0 & 0 & 0 & 0 & 0 & 0 \\\\\n",
       "0 & 0 & 0 & 0 & 0 & 0 & 0 & 0 & 0 \\\\\n",
       "0 & 0 & 0 & 0 & 0 & 0 & 0 & 0 & 0 \\\\\n",
       "0 & 0 & 0 & 0 & 0 & 0 & 0 & 0 & 0 \\\\\n",
       "0 & 0 & 0 & 0 & 0 & 0 & 0 & 0 & 0 \\\\\n",
       "0 & 0 & 0 & 0 & 0 & 0 & 0 & 0 & 0 \\\\\n",
       "0 & 0 & 0 & 0 & 0 & 0 & 0 & 0 & 0 \\\\\n",
       "0 & 0 & 0 & 0 & 0 & 0 & 0 & 0 & 0 \\\\\n",
       "0 & 0 & 0 & 0 & 0 & 0 & 0 & 0 & 0\n",
       "\\end{array}\\right)</script></html>"
      ],
      "text/plain": [
       "'NN2 NN0 - w NN0 NN2:' [0 0 0 0 0 0 0 0 0]\n",
       "[0 0 0 0 0 0 0 0 0]\n",
       "[0 0 0 0 0 0 0 0 0]\n",
       "[0 0 0 0 0 0 0 0 0]\n",
       "[0 0 0 0 0 0 0 0 0]\n",
       "[0 0 0 0 0 0 0 0 0]\n",
       "[0 0 0 0 0 0 0 0 0]\n",
       "[0 0 0 0 0 0 0 0 0]\n",
       "[0 0 0 0 0 0 0 0 0]"
      ]
     },
     "metadata": {},
     "output_type": "display_data"
    },
    {
     "data": {
      "text/html": [
       "<html><script type=\"math/tex; mode=display\">\\newcommand{\\Bold}[1]{\\mathbf{#1}}\\verb|NN3|\\phantom{\\verb!x!}\\verb|NN0|\\phantom{\\verb!x!}\\verb|-|\\phantom{\\verb!x!}\\verb|w|\\phantom{\\verb!x!}\\verb|NN0|\\phantom{\\verb!x!}\\verb|NN3:| \\left(\\begin{array}{rrrrrrrrr}\n",
       "0 & 0 & 0 & 0 & 0 & 0 & 0 & 0 & 0 \\\\\n",
       "0 & 0 & 0 & 0 & 0 & 0 & 0 & 0 & 0 \\\\\n",
       "0 & 0 & 0 & 0 & 0 & 0 & 0 & 0 & 0 \\\\\n",
       "0 & 0 & 0 & 0 & 0 & 0 & 0 & 0 & 0 \\\\\n",
       "0 & 0 & 0 & 0 & 0 & 0 & 0 & 0 & 0 \\\\\n",
       "0 & 0 & 0 & 0 & 0 & 0 & 0 & 0 & 0 \\\\\n",
       "0 & 0 & 0 & 0 & 0 & 0 & 0 & 0 & 0 \\\\\n",
       "0 & 0 & 0 & 0 & 0 & 0 & 0 & 0 & 0 \\\\\n",
       "0 & 0 & 0 & 0 & 0 & 0 & 0 & 0 & 0\n",
       "\\end{array}\\right)</script></html>"
      ],
      "text/plain": [
       "'NN3 NN0 - w NN0 NN3:' [0 0 0 0 0 0 0 0 0]\n",
       "[0 0 0 0 0 0 0 0 0]\n",
       "[0 0 0 0 0 0 0 0 0]\n",
       "[0 0 0 0 0 0 0 0 0]\n",
       "[0 0 0 0 0 0 0 0 0]\n",
       "[0 0 0 0 0 0 0 0 0]\n",
       "[0 0 0 0 0 0 0 0 0]\n",
       "[0 0 0 0 0 0 0 0 0]\n",
       "[0 0 0 0 0 0 0 0 0]"
      ]
     },
     "metadata": {},
     "output_type": "display_data"
    },
    {
     "data": {
      "text/html": [
       "<html><script type=\"math/tex; mode=display\">\\newcommand{\\Bold}[1]{\\mathbf{#1}}</script></html>"
      ],
      "text/plain": [
       "'  '"
      ]
     },
     "metadata": {},
     "output_type": "display_data"
    },
    {
     "data": {
      "text/html": [
       "<html><script type=\"math/tex; mode=display\">\\newcommand{\\Bold}[1]{\\mathbf{#1}}\\verb|NN3|\\phantom{\\verb!x!}\\verb|NN1|\\phantom{\\verb!x!}\\verb|-|\\phantom{\\verb!x!}\\verb|w|\\phantom{\\verb!x!}\\verb|NN1|\\phantom{\\verb!x!}\\verb|NN3:| \\left(\\begin{array}{rrrrrrrrr}\n",
       "0 & 0 & 0 & 0 & 0 & 0 & 0 & 0 & 0 \\\\\n",
       "0 & 0 & 0 & 0 & 0 & 0 & 0 & 0 & 0 \\\\\n",
       "0 & 0 & 0 & 0 & 0 & 0 & 0 & 0 & 0 \\\\\n",
       "0 & 0 & 0 & 0 & 0 & 0 & 0 & 0 & 0 \\\\\n",
       "0 & 0 & 0 & 0 & 0 & 0 & 0 & 0 & 0 \\\\\n",
       "0 & 0 & 0 & 0 & 0 & 0 & 0 & 0 & 0 \\\\\n",
       "0 & 0 & 0 & 0 & 0 & 0 & 0 & 0 & 0 \\\\\n",
       "0 & 0 & 0 & 0 & 0 & 0 & 0 & 0 & 0 \\\\\n",
       "0 & 0 & 0 & 0 & 0 & 0 & 0 & 0 & 0\n",
       "\\end{array}\\right)</script></html>"
      ],
      "text/plain": [
       "'NN3 NN1 - w NN1 NN3:' [0 0 0 0 0 0 0 0 0]\n",
       "[0 0 0 0 0 0 0 0 0]\n",
       "[0 0 0 0 0 0 0 0 0]\n",
       "[0 0 0 0 0 0 0 0 0]\n",
       "[0 0 0 0 0 0 0 0 0]\n",
       "[0 0 0 0 0 0 0 0 0]\n",
       "[0 0 0 0 0 0 0 0 0]\n",
       "[0 0 0 0 0 0 0 0 0]\n",
       "[0 0 0 0 0 0 0 0 0]"
      ]
     },
     "metadata": {},
     "output_type": "display_data"
    },
    {
     "data": {
      "text/html": [
       "<html><script type=\"math/tex; mode=display\">\\newcommand{\\Bold}[1]{\\mathbf{#1}}\\verb|NN2|\\phantom{\\verb!x!}\\verb|NN1|\\phantom{\\verb!x!}\\verb|-|\\phantom{\\verb!x!}\\verb|w|\\phantom{\\verb!x!}\\verb|NN1|\\phantom{\\verb!x!}\\verb|NN2:| \\left(\\begin{array}{rrrrrrrrr}\n",
       "0 & 0 & 0 & 0 & 0 & 0 & 0 & 0 & 0 \\\\\n",
       "0 & 0 & 0 & 0 & 0 & 0 & 0 & 0 & 0 \\\\\n",
       "0 & 0 & 0 & 0 & 0 & 0 & 0 & 0 & 0 \\\\\n",
       "0 & 0 & 0 & 0 & 0 & 0 & 0 & 0 & 0 \\\\\n",
       "0 & 0 & 0 & 0 & 0 & 0 & 0 & 0 & 0 \\\\\n",
       "0 & 0 & 0 & 0 & 0 & 0 & 0 & 0 & 0 \\\\\n",
       "0 & 0 & 0 & 0 & 0 & 0 & 0 & 0 & 0 \\\\\n",
       "0 & 0 & 0 & 0 & 0 & 0 & 0 & 0 & 0 \\\\\n",
       "0 & 0 & 0 & 0 & 0 & 0 & 0 & 0 & 0\n",
       "\\end{array}\\right)</script></html>"
      ],
      "text/plain": [
       "'NN2 NN1 - w NN1 NN2:' [0 0 0 0 0 0 0 0 0]\n",
       "[0 0 0 0 0 0 0 0 0]\n",
       "[0 0 0 0 0 0 0 0 0]\n",
       "[0 0 0 0 0 0 0 0 0]\n",
       "[0 0 0 0 0 0 0 0 0]\n",
       "[0 0 0 0 0 0 0 0 0]\n",
       "[0 0 0 0 0 0 0 0 0]\n",
       "[0 0 0 0 0 0 0 0 0]\n",
       "[0 0 0 0 0 0 0 0 0]"
      ]
     },
     "metadata": {},
     "output_type": "display_data"
    },
    {
     "data": {
      "text/html": [
       "<html><script type=\"math/tex; mode=display\">\\newcommand{\\Bold}[1]{\\mathbf{#1}}\\verb|NN3|\\phantom{\\verb!x!}\\verb|NN2|\\phantom{\\verb!x!}\\verb|-|\\phantom{\\verb!x!}\\verb|w|\\phantom{\\verb!x!}\\verb|NN2|\\phantom{\\verb!x!}\\verb|NN3:| \\left(\\begin{array}{rrrrrrrrr}\n",
       "0 & 0 & 0 & 0 & 0 & 0 & 0 & 0 & 0 \\\\\n",
       "0 & 0 & 0 & 0 & 0 & 0 & 0 & 0 & 0 \\\\\n",
       "0 & 0 & 0 & 0 & 0 & 0 & 0 & 0 & 0 \\\\\n",
       "0 & 0 & 0 & 0 & 0 & 0 & 0 & 0 & 0 \\\\\n",
       "0 & 0 & 0 & 0 & 0 & 0 & 0 & 0 & 0 \\\\\n",
       "0 & 0 & 0 & 0 & 0 & 0 & 0 & 0 & 0 \\\\\n",
       "0 & 0 & 0 & 0 & 0 & 0 & 0 & 0 & 0 \\\\\n",
       "0 & 0 & 0 & 0 & 0 & 0 & 0 & 0 & 0 \\\\\n",
       "0 & 0 & 0 & 0 & 0 & 0 & 0 & 0 & 0\n",
       "\\end{array}\\right)</script></html>"
      ],
      "text/plain": [
       "'NN3 NN2 - w NN2 NN3:' [0 0 0 0 0 0 0 0 0]\n",
       "[0 0 0 0 0 0 0 0 0]\n",
       "[0 0 0 0 0 0 0 0 0]\n",
       "[0 0 0 0 0 0 0 0 0]\n",
       "[0 0 0 0 0 0 0 0 0]\n",
       "[0 0 0 0 0 0 0 0 0]\n",
       "[0 0 0 0 0 0 0 0 0]\n",
       "[0 0 0 0 0 0 0 0 0]\n",
       "[0 0 0 0 0 0 0 0 0]"
      ]
     },
     "metadata": {},
     "output_type": "display_data"
    },
    {
     "data": {
      "text/html": [
       "<html><script type=\"math/tex; mode=display\">\\newcommand{\\Bold}[1]{\\mathbf{#1}}\\verb|----------------------|</script></html>"
      ],
      "text/plain": [
       "'----------------------'"
      ]
     },
     "metadata": {},
     "output_type": "display_data"
    },
    {
     "data": {
      "text/html": [
       "<html><script type=\"math/tex; mode=display\">\\newcommand{\\Bold}[1]{\\mathbf{#1}}\\verb|Check|\\phantom{\\verb!x!}\\verb|they|\\phantom{\\verb!x!}\\verb|are|\\phantom{\\verb!x!}\\verb|a|\\phantom{\\verb!x!}\\verb|matrix|\\phantom{\\verb!x!}\\verb|cube|\\phantom{\\verb!x!}\\verb|root:|</script></html>"
      ],
      "text/plain": [
       "'Check they are a matrix cube root:'"
      ]
     },
     "metadata": {},
     "output_type": "display_data"
    },
    {
     "data": {
      "text/html": [
       "<html><script type=\"math/tex; mode=display\">\\newcommand{\\Bold}[1]{\\mathbf{#1}}\\verb|r^3:| \\left(\\begin{array}{rrrrrrrrr}\n",
       "p_{0}^{3} + p_{1}^{3} + p_{2}^{3} + p_{3}^{3} & 0 & 0 & 0 & 0 & 0 & 0 & 0 & 0 \\\\\n",
       "0 & p_{0}^{3} + p_{1}^{3} + p_{2}^{3} + p_{3}^{3} & 0 & 0 & 0 & 0 & 0 & 0 & 0 \\\\\n",
       "0 & 0 & p_{0}^{3} + p_{1}^{3} + p_{2}^{3} + p_{3}^{3} & 0 & 0 & 0 & 0 & 0 & 0 \\\\\n",
       "0 & 0 & 0 & p_{0}^{3} + p_{1}^{3} + p_{2}^{3} + p_{3}^{3} & 0 & 0 & 0 & 0 & 0 \\\\\n",
       "0 & 0 & 0 & 0 & p_{0}^{3} + p_{1}^{3} + p_{2}^{3} + p_{3}^{3} & 0 & 0 & 0 & 0 \\\\\n",
       "0 & 0 & 0 & 0 & 0 & p_{0}^{3} + p_{1}^{3} + p_{2}^{3} + p_{3}^{3} & 0 & 0 & 0 \\\\\n",
       "0 & 0 & 0 & 0 & 0 & 0 & p_{0}^{3} + p_{1}^{3} + p_{2}^{3} + p_{3}^{3} & 0 & 0 \\\\\n",
       "0 & 0 & 0 & 0 & 0 & 0 & 0 & p_{0}^{3} + p_{1}^{3} + p_{2}^{3} + p_{3}^{3} & 0 \\\\\n",
       "0 & 0 & 0 & 0 & 0 & 0 & 0 & 0 & p_{0}^{3} + p_{1}^{3} + p_{2}^{3} + p_{3}^{3}\n",
       "\\end{array}\\right)</script></html>"
      ],
      "text/plain": [
       "'r^3:' [p0^3 + p1^3 + p2^3 + p3^3                         0                         0                         0                         0                         0                         0                         0                         0]\n",
       "[                        0 p0^3 + p1^3 + p2^3 + p3^3                         0                         0                         0                         0                         0                         0                         0]\n",
       "[                        0                         0 p0^3 + p1^3 + p2^3 + p3^3                         0                         0                         0                         0                         0                         0]\n",
       "[                        0                         0                         0 p0^3 + p1^3 + p2^3 + p3^3                         0                         0                         0                         0                         0]\n",
       "[                        0                         0                         0                         0 p0^3 + p1^3 + p2^3 + p3^3                         0                         0                         0                         0]\n",
       "[                        0                         0                         0                         0                         0 p0^3 + p1^3 + p2^3 + p3^3                         0                         0                         0]\n",
       "[                        0                         0                         0                         0                         0                         0 p0^3 + p1^3 + p2^3 + p3^3                         0                         0]\n",
       "[                        0                         0                         0                         0                         0                         0                         0 p0^3 + p1^3 + p2^3 + p3^3                         0]\n",
       "[                        0                         0                         0                         0                         0                         0                         0                         0 p0^3 + p1^3 + p2^3 + p3^3]"
      ]
     },
     "metadata": {},
     "output_type": "display_data"
    }
   ],
   "source": [
    "# Define our 3x3 matrices:\n",
    "N1 = matrix([[0,1,0],[0,0,1],[1,0,0]])\n",
    "N2 = matrix([[0,1,0],[0,0,w^2],[w,0,0]])\n",
    "N3 = matrix([[1,0,0],[0,w^2,0],[0,0,w]])\n",
    "I3 = matrix([[1,0,0],[0,1,0],[0,0,1]])\n",
    "\n",
    "# Display them:\n",
    "show('dim 3 matrices:')\n",
    "show('N1:', N1)\n",
    "show('N2:', N2)\n",
    "show('N3:', N3)\n",
    "\n",
    "# Check their commutator properties match those required for differential forms:\n",
    "show('Their commutator properties:')\n",
    "show('N3 N1 - w N1 N3:', matrix_w_mod(N3*N1 - w * N1 * N3))\n",
    "show('N2 N1 - w N1 N2:', matrix_w_mod(N2*N1 - w * N1 * N2))\n",
    "show('N3 N2 - w N2 N3:', matrix_w_mod(N3*N2 - w * N2 * N3))\n",
    "\n",
    "# Check they are matrix cube root:\n",
    "var('p1 p2 p3')\n",
    "r = p1*N1 + p2*N2 + p3*N3\n",
    "show('Check they are a matrix cube root:')\n",
    "show('r^3:', matrix_expand_w(matrix_w_mod(r^3)))\n",
    "\n",
    "show('-------------------------------------')\n",
    "# Define our 9x9 matrices:\n",
    "I9 = I3.tensor_product(I3)\n",
    "NN0 = N1.tensor_product(I3)\n",
    "NN1 = N3.tensor_product(N1)\n",
    "NN2 = N3.tensor_product(N2)\n",
    "NN3 = N3.tensor_product(N3)\n",
    "\n",
    "show('dim 4 matrices:')\n",
    "show('NN0:', NN0)\n",
    "show('NN1:', NN1)\n",
    "show('NN2:', NN2)\n",
    "show('NN3:', NN3)\n",
    "\n",
    "# Check their commutator properties:\n",
    "show('Their commutator properties:')\n",
    "show('NN1 NN0 - w NN0 NN1:', matrix_w_mod(NN1*NN0 - w * NN0 * NN1))\n",
    "show('NN2 NN0 - w NN0 NN2:', matrix_w_mod(NN2*NN0 - w * NN0 * NN2))\n",
    "show('NN3 NN0 - w NN0 NN3:', matrix_w_mod(NN3*NN0 - w * NN0 * NN3))\n",
    "show('  ')\n",
    "show('NN3 NN1 - w NN1 NN3:', matrix_w_mod(NN3*NN1 - w * NN1 * NN3))\n",
    "show('NN2 NN1 - w NN1 NN2:', matrix_w_mod(NN2*NN1 - w * NN1 * NN2))\n",
    "show('NN3 NN2 - w NN2 NN3:', matrix_w_mod(NN3*NN2 - w * NN2 * NN3))\n",
    "\n",
    "show('----------------------')\n",
    "var('p0')\n",
    "r = p0*NN0 + p1*NN1 + p2*NN2 + p3*NN3\n",
    "show('Check they are a matrix cube root:')\n",
    "show('r^3:', matrix_expand_w(matrix_w_mod(r^3)))"
   ]
  },
  {
   "cell_type": "code",
   "execution_count": 5,
   "metadata": {},
   "outputs": [
    {
     "data": {
      "text/html": [
       "<html><script type=\"math/tex; mode=display\">\\newcommand{\\Bold}[1]{\\mathbf{#1}}\\verb|The|\\phantom{\\verb!x!}\\verb|dim|\\phantom{\\verb!x!}\\verb|=|\\phantom{\\verb!x!}\\verb|4,|\\phantom{\\verb!x!}\\verb|q|\\phantom{\\verb!x!}\\verb|=|\\phantom{\\verb!x!}\\verb|3|\\phantom{\\verb!x!}\\verb|k-form|\\phantom{\\verb!x!}\\verb|dimension|\\phantom{\\verb!x!}\\verb|table:|</script></html>"
      ],
      "text/plain": [
       "'The dim = 4, q = 3 k-form dimension table:'"
      ]
     },
     "metadata": {},
     "output_type": "display_data"
    },
    {
     "data": {
      "text/html": [
       "<div class=\"notruncate\">\n",
       "<table  class=\"table_form\">\n",
       "<tbody>\n",
       "<tr>\n",
       "<th>k</th>\n",
       "<th>dim</th>\n",
       "<th>basis</th>\n",
       "</tr>\n",
       "<tr class =\"row-a\">\n",
       "<td><script type=\"math/tex\">0</script></td>\n",
       "<td><script type=\"math/tex\">1</script></td>\n",
       "<td></td>\n",
       "</tr>\n",
       "<tr class =\"row-b\">\n",
       "<td><script type=\"math/tex\">1</script></td>\n",
       "<td><script type=\"math/tex\">4</script></td>\n",
       "<td>0 1 2 3</td>\n",
       "</tr>\n",
       "<tr class =\"row-a\">\n",
       "<td><script type=\"math/tex\">2</script></td>\n",
       "<td><script type=\"math/tex\">10</script></td>\n",
       "<td>00 01 02 03 11 12 13 22 23 33</td>\n",
       "</tr>\n",
       "<tr class =\"row-b\">\n",
       "<td><script type=\"math/tex\">3</script></td>\n",
       "<td><script type=\"math/tex\">16</script></td>\n",
       "<td>001 002 003 011 012 013 022 023 033 112 113 122 123 133 223 233</td>\n",
       "</tr>\n",
       "<tr class =\"row-a\">\n",
       "<td><script type=\"math/tex\">4</script></td>\n",
       "<td><script type=\"math/tex\">19</script></td>\n",
       "<td>0011 0012 0013 0022 0023 0033 0112 0113 0122 0123 0133 0223 0233 1122 1123 1133 1223 1233 2233</td>\n",
       "</tr>\n",
       "<tr class =\"row-b\">\n",
       "<td><script type=\"math/tex\">5</script></td>\n",
       "<td><script type=\"math/tex\">16</script></td>\n",
       "<td>00112 00113 00122 00123 00133 00223 00233 01122 01123 01133 01223 01233 02233 11223 11233 12233</td>\n",
       "</tr>\n",
       "<tr class =\"row-a\">\n",
       "<td><script type=\"math/tex\">6</script></td>\n",
       "<td><script type=\"math/tex\">10</script></td>\n",
       "<td>001122 001123 001133 001223 001233 002233 011223 011233 012233 112233</td>\n",
       "</tr>\n",
       "<tr class =\"row-b\">\n",
       "<td><script type=\"math/tex\">7</script></td>\n",
       "<td><script type=\"math/tex\">4</script></td>\n",
       "<td>0011223 0011233 0012233 0112233</td>\n",
       "</tr>\n",
       "<tr class =\"row-a\">\n",
       "<td><script type=\"math/tex\">8</script></td>\n",
       "<td><script type=\"math/tex\">1</script></td>\n",
       "<td>00112233</td>\n",
       "</tr>\n",
       "</tbody>\n",
       "</table>\n",
       "</div>"
      ],
      "text/plain": [
       "  k   dim   basis\n",
       "+---+-----+-------------------------------------------------------------------------------------------------+\n",
       "  0   1\n",
       "  1   4     0 1 2 3\n",
       "  2   10    00 01 02 03 11 12 13 22 23 33\n",
       "  3   16    001 002 003 011 012 013 022 023 033 112 113 122 123 133 223 233\n",
       "  4   19    0011 0012 0013 0022 0023 0033 0112 0113 0122 0123 0133 0223 0233 1122 1123 1133 1223 1233 2233\n",
       "  5   16    00112 00113 00122 00123 00133 00223 00233 01122 01123 01133 01223 01233 02233 11223 11233 12233\n",
       "  6   10    001122 001123 001133 001223 001233 002233 011223 011233 012233 112233\n",
       "  7   4     0011223 0011233 0012233 0112233\n",
       "  8   1     00112233"
      ]
     },
     "metadata": {},
     "output_type": "display_data"
    },
    {
     "data": {
      "text/html": [
       "<html><script type=\"math/tex; mode=display\">\\newcommand{\\Bold}[1]{\\mathbf{#1}}\\verb|k|\\phantom{\\verb!x!}\\verb|=|\\phantom{\\verb!x!}\\verb|2|\\phantom{\\verb!x!}\\verb|basis4|\\phantom{\\verb!x!}\\verb|labels:|</script></html>"
      ],
      "text/plain": [
       "'k = 2 basis4 labels:'"
      ]
     },
     "metadata": {},
     "output_type": "display_data"
    },
    {
     "data": {
      "text/html": [
       "<html><script type=\"math/tex; mode=display\">\\newcommand{\\Bold}[1]{\\mathbf{#1}}\\left[\\verb|D00|, \\verb|D01|, \\verb|D02|, \\verb|D03|, \\verb|D11|, \\verb|D12|, \\verb|D13|, \\verb|D22|, \\verb|D23|, \\verb|D33|\\right]</script></html>"
      ],
      "text/plain": [
       "['D00', 'D01', 'D02', 'D03', 'D11', 'D12', 'D13', 'D22', 'D23', 'D33']"
      ]
     },
     "metadata": {},
     "output_type": "display_data"
    },
    {
     "data": {
      "text/html": [
       "<html><script type=\"math/tex; mode=display\">\\newcommand{\\Bold}[1]{\\mathbf{#1}}\\verb|k|\\phantom{\\verb!x!}\\verb|=|\\phantom{\\verb!x!}\\verb|2|\\phantom{\\verb!x!}\\verb|unique|\\phantom{\\verb!x!}\\verb|basis4|\\phantom{\\verb!x!}\\verb|labels:|</script></html>"
      ],
      "text/plain": [
       "'k = 2 unique basis4 labels:'"
      ]
     },
     "metadata": {},
     "output_type": "display_data"
    },
    {
     "data": {
      "text/html": [
       "<html><script type=\"math/tex; mode=display\">\\newcommand{\\Bold}[1]{\\mathbf{#1}}\\left[\\verb|D00|, \\verb|D01|, \\verb|D02|, \\verb|D03|, \\verb|D11|, \\verb|D12|, \\verb|D13|, \\verb|D22|, \\verb|D23|, \\verb|D33|\\right]</script></html>"
      ],
      "text/plain": [
       "['D00', 'D01', 'D02', 'D03', 'D11', 'D12', 'D13', 'D22', 'D23', 'D33']"
      ]
     },
     "metadata": {},
     "output_type": "display_data"
    },
    {
     "data": {
      "text/html": [
       "<html><script type=\"math/tex; mode=display\">\\newcommand{\\Bold}[1]{\\mathbf{#1}}\\verb|----------------------------------|</script></html>"
      ],
      "text/plain": [
       "'----------------------------------'"
      ]
     },
     "metadata": {},
     "output_type": "display_data"
    },
    {
     "data": {
      "text/html": [
       "<html><script type=\"math/tex; mode=display\">\\newcommand{\\Bold}[1]{\\mathbf{#1}}\\verb|The|\\phantom{\\verb!x!}\\verb|unique|\\phantom{\\verb!x!}\\verb|k-form|\\phantom{\\verb!x!}\\verb|dimension|\\phantom{\\verb!x!}\\verb|table:|</script></html>"
      ],
      "text/plain": [
       "'The unique k-form dimension table:'"
      ]
     },
     "metadata": {},
     "output_type": "display_data"
    },
    {
     "data": {
      "text/html": [
       "<div class=\"notruncate\">\n",
       "<table  class=\"table_form\">\n",
       "<tbody>\n",
       "<tr>\n",
       "<th>k</th>\n",
       "<th>dim</th>\n",
       "<th>unique dim</th>\n",
       "</tr>\n",
       "<tr class =\"row-a\">\n",
       "<td><script type=\"math/tex\">0</script></td>\n",
       "<td><script type=\"math/tex\">1</script></td>\n",
       "<td><script type=\"math/tex\">1</script></td>\n",
       "</tr>\n",
       "<tr class =\"row-b\">\n",
       "<td><script type=\"math/tex\">1</script></td>\n",
       "<td><script type=\"math/tex\">4</script></td>\n",
       "<td><script type=\"math/tex\">4</script></td>\n",
       "</tr>\n",
       "<tr class =\"row-a\">\n",
       "<td><script type=\"math/tex\">2</script></td>\n",
       "<td><script type=\"math/tex\">10</script></td>\n",
       "<td><script type=\"math/tex\">10</script></td>\n",
       "</tr>\n",
       "<tr class =\"row-b\">\n",
       "<td><script type=\"math/tex\">3</script></td>\n",
       "<td><script type=\"math/tex\">16</script></td>\n",
       "<td><script type=\"math/tex\">16</script></td>\n",
       "</tr>\n",
       "<tr class =\"row-a\">\n",
       "<td><script type=\"math/tex\">4</script></td>\n",
       "<td><script type=\"math/tex\">19</script></td>\n",
       "<td><script type=\"math/tex\">19</script></td>\n",
       "</tr>\n",
       "<tr class =\"row-b\">\n",
       "<td><script type=\"math/tex\">5</script></td>\n",
       "<td><script type=\"math/tex\">16</script></td>\n",
       "<td><script type=\"math/tex\">16</script></td>\n",
       "</tr>\n",
       "<tr class =\"row-a\">\n",
       "<td><script type=\"math/tex\">6</script></td>\n",
       "<td><script type=\"math/tex\">10</script></td>\n",
       "<td><script type=\"math/tex\">10</script></td>\n",
       "</tr>\n",
       "<tr class =\"row-b\">\n",
       "<td><script type=\"math/tex\">7</script></td>\n",
       "<td><script type=\"math/tex\">4</script></td>\n",
       "<td><script type=\"math/tex\">4</script></td>\n",
       "</tr>\n",
       "<tr class =\"row-a\">\n",
       "<td><script type=\"math/tex\">8</script></td>\n",
       "<td><script type=\"math/tex\">1</script></td>\n",
       "<td><script type=\"math/tex\">1</script></td>\n",
       "</tr>\n",
       "<tr class =\"row-b\">\n",
       "<td><script type=\"math/tex\">9</script></td>\n",
       "<td><script type=\"math/tex\">0</script></td>\n",
       "<td><script type=\"math/tex\">0</script></td>\n",
       "</tr>\n",
       "</tbody>\n",
       "</table>\n",
       "</div>"
      ],
      "text/plain": [
       "  k   dim   unique dim\n",
       "+---+-----+------------+\n",
       "  0   1     1\n",
       "  1   4     4\n",
       "  2   10    10\n",
       "  3   16    16\n",
       "  4   19    19\n",
       "  5   16    16\n",
       "  6   10    10\n",
       "  7   4     4\n",
       "  8   1     1\n",
       "  9   0     0"
      ]
     },
     "metadata": {},
     "output_type": "display_data"
    },
    {
     "data": {
      "text/plain": [
       "\\begin{tabular}{lll}\n",
       "k & dim & unique dim \\\\ \\hline\n",
       "$0$ & $1$ & $1$ \\\\\n",
       "$1$ & $4$ & $4$ \\\\\n",
       "$2$ & $10$ & $10$ \\\\\n",
       "$3$ & $16$ & $16$ \\\\\n",
       "$4$ & $19$ & $19$ \\\\\n",
       "$5$ & $16$ & $16$ \\\\\n",
       "$6$ & $10$ & $10$ \\\\\n",
       "$7$ & $4$ & $4$ \\\\\n",
       "$8$ & $1$ & $1$ \\\\\n",
       "$9$ & $0$ & $0$ \\\\\n",
       "\\end{tabular}"
      ]
     },
     "execution_count": 5,
     "metadata": {},
     "output_type": "execute_result"
    }
   ],
   "source": [
    "# Now, let's generate the basis matrices:\n",
    "import itertools\n",
    "\n",
    "\n",
    "# Display the k-forms dimensions table given d and q, and return the basis_dict:\n",
    "def dim_table(d, q):\n",
    "    basis_indices = []\n",
    "    if d == 3 and q == 2:\n",
    "        basis_indices = [1,2,3]\n",
    "    if d == 4 and q == 2:\n",
    "        basis_indices = [0,1,2,3]\n",
    "    if d == 3 and q == 3:\n",
    "        basis_indices = [1,2,3]\n",
    "    if d == 4 and q == 3:\n",
    "        # basis_indices = [0,1,2,3,4,5,6]\n",
    "        basis_indices = [0,1,2,3]\n",
    "    basis_dict = {}\n",
    "    k = 0\n",
    "    while True:\n",
    "        basis_dict[k] = []\n",
    "        basis_count = 0\n",
    "        for elt in itertools.combinations_with_replacement(basis_indices, k):\n",
    "            match = False\n",
    "            for b in basis_indices:\n",
    "                if elt.count(b) >= q:\n",
    "                    match = True\n",
    "                    break\n",
    "            if match:\n",
    "                continue\n",
    "            # print(elt)\n",
    "            basis_dict[k] += [elt]\n",
    "            basis_count += 1\n",
    "        k += 1\n",
    "        if basis_count == 0:\n",
    "            break\n",
    "    rows = [['k', 'dim', 'basis']]\n",
    "    for i in range(k - 1):\n",
    "        basis_result = basis_dict[i]\n",
    "        str_basis_result = \" \".join(\"\".join(str(x) for x in b) for b in basis_result)\n",
    "        rows += [[i, len(basis_result), str_basis_result]]\n",
    "    show(table(rows, header_row=True))\n",
    "    return basis_dict\n",
    "\n",
    "\n",
    "# generate the d = 4, q = 3 basis dictionary:\n",
    "show('The dim = 4, q = 3 k-form dimension table:')\n",
    "basis4_dict = dim_table(4, 3)\n",
    "\n",
    "\n",
    "# Extract out all the basis labels:\n",
    "def generate_basis_labels(basis_dict):\n",
    "    basis_labels = {}\n",
    "    for i in basis_dict:\n",
    "        basis_labels[i] = ['D' + \"\".join(str(x) for x in b) for b in basis_dict[i]]\n",
    "    return basis_labels\n",
    "\n",
    "basis4_labels = generate_basis_labels(basis4_dict)\n",
    "\n",
    "# Given the matrix indices, return the resulting basis matrix, here for d = 3:\n",
    "def D3(indices):\n",
    "    # matrices = [T1, T2, T3]\n",
    "    matrices = [N1, N2, N3]\n",
    "    r = I3\n",
    "    for i in indices:\n",
    "        r = r*matrices[i - 1]\n",
    "    # show(r)\n",
    "    return matrix_w_mod(expand(r))\n",
    "\n",
    "def D4(indices):\n",
    "    # matrices = [S0, S1, S2, S3, S4, S5, S6]\n",
    "    matrices = [NN0, NN1, NN2, NN3]\n",
    "    r = I9\n",
    "    for i in indices:\n",
    "        r = r*matrices[i]\n",
    "    # show(r)\n",
    "    return matrix_w_mod(expand(r))\n",
    "\n",
    "# Quick test of basis4_labels:\n",
    "show('k = 2 basis4 labels:')\n",
    "show(basis4_labels[2])\n",
    "\n",
    "# Learn all the d = 4, q = 3, basis matrices:\n",
    "# NB; makes generate_basis_labels() redundant.\n",
    "def generate_basis4_matrices(basis_dict):\n",
    "    basis_labels = {}\n",
    "    basis_matrices = {}\n",
    "    for i in basis_dict:\n",
    "        basis_labels[i] = []\n",
    "        for b in basis_dict[i]:\n",
    "            label = 'D' + \"\".join(str(x) for x in b)\n",
    "            matrix = D4(list(b))\n",
    "            # show(list(b), matrix)\n",
    "            basis_labels[i] += [label]\n",
    "            basis_matrices[label] = matrix\n",
    "    return basis_labels, basis_matrices\n",
    "\n",
    "basis4_labels, basis4_matrices = generate_basis4_matrices(basis4_dict)\n",
    "\n",
    "\n",
    "# Explore the basis overlap property:\n",
    "# Test if two matrices are equal up to some w coefficient:\n",
    "def find_k(A,B):\n",
    "    for k in range(3):\n",
    "        if matrix_w_mod(A - w^k*B) == 0:\n",
    "            return k\n",
    "        if matrix_w_mod(A + w^k*B) == 0:\n",
    "            return -k\n",
    "    return None\n",
    "\n",
    "# Find the commutator structure for a pair of matrices:\n",
    "# Ie, A*B = (w)^k B*A\n",
    "def find_commutator(A,B):\n",
    "    for k in range(3):\n",
    "        if matrix_w_mod(A*B - w^k*B*A) == 0:\n",
    "            return k\n",
    "    return None\n",
    "\n",
    "# Get a unique basis given a k:\n",
    "def get_unique_basis4(k):\n",
    "    if k not in basis4_labels:\n",
    "        return\n",
    "    result = []\n",
    "    for label in basis4_labels[k]:\n",
    "        # show(label)\n",
    "        matrix = basis4_matrices[label]\n",
    "        match = False\n",
    "        for A_label in result:\n",
    "            A = basis4_matrices[A_label]\n",
    "            # show('A:', A)\n",
    "            # show(find_k(A, matrix))\n",
    "            if find_k(A, matrix) is not None:\n",
    "                match = True\n",
    "                break\n",
    "        if not match:\n",
    "            result += [label]\n",
    "    return result\n",
    "\n",
    "# Learn unique basis labels all at once:\n",
    "def generate_unique_basis4_labels():\n",
    "    unique_basis_labels = {}\n",
    "    for k in range(16):\n",
    "        unique_basis_labels[k] = get_unique_basis4(k)\n",
    "    return unique_basis_labels\n",
    "\n",
    "unique_basis4_labels = generate_unique_basis4_labels()\n",
    "\n",
    "# Quick test:\n",
    "show('k = 2 unique basis4 labels:')\n",
    "show(unique_basis4_labels[2])\n",
    "\n",
    "# Display the unique dimension table:\n",
    "def unique_dim_table(basis_dict):\n",
    "    rows = [['k', 'dim', 'unique dim']]\n",
    "    for k in basis_dict:\n",
    "        # rows += [[k, len(basis_dict[k]), len(get_unique_basis4(k))]]\n",
    "        rows += [[k, len(basis_dict[k]), len(unique_basis4_labels[k])]]\n",
    "    show(table(rows, header_row=True))\n",
    "    return latex(table(rows, header_row=True))\n",
    "    \n",
    "show('----------------------------------')\n",
    "show('The unique k-form dimension table:')\n",
    "unique_dim_table(basis4_dict)"
   ]
  },
  {
   "cell_type": "code",
   "execution_count": 7,
   "metadata": {},
   "outputs": [
    {
     "data": {
      "text/html": [
       "<html><script type=\"math/tex; mode=display\">\\newcommand{\\Bold}[1]{\\mathbf{#1}}\\verb|commutation|\\phantom{\\verb!x!}\\verb|table|\\phantom{\\verb!x!}\\verb|for|\\phantom{\\verb!x!}\\verb|1-form|\\phantom{\\verb!x!}\\verb|matrices:|</script></html>"
      ],
      "text/plain": [
       "'commutation table for 1-form matrices:'"
      ]
     },
     "metadata": {},
     "output_type": "display_data"
    },
    {
     "data": {
      "text/html": [
       "<div class=\"notruncate\">\n",
       "<table  class=\"table_form\">\n",
       "<tbody>\n",
       "<tr>\n",
       "<th class=\"ch\"> </th>\n",
       "<th>D0</th>\n",
       "<th>D1</th>\n",
       "<th>D2</th>\n",
       "<th>D3</th>\n",
       "</tr>\n",
       "<tr class =\"row-a\">\n",
       "<td class=\"ch\">D0</td>\n",
       "<td><script type=\"math/tex\">0</script></td>\n",
       "<td><script type=\"math/tex\">1</script></td>\n",
       "<td><script type=\"math/tex\">1</script></td>\n",
       "<td><script type=\"math/tex\">1</script></td>\n",
       "</tr>\n",
       "<tr class =\"row-b\">\n",
       "<td class=\"ch\">D1</td>\n",
       "<td><script type=\"math/tex\">2</script></td>\n",
       "<td><script type=\"math/tex\">0</script></td>\n",
       "<td><script type=\"math/tex\">1</script></td>\n",
       "<td><script type=\"math/tex\">1</script></td>\n",
       "</tr>\n",
       "<tr class =\"row-a\">\n",
       "<td class=\"ch\">D2</td>\n",
       "<td><script type=\"math/tex\">2</script></td>\n",
       "<td><script type=\"math/tex\">2</script></td>\n",
       "<td><script type=\"math/tex\">0</script></td>\n",
       "<td><script type=\"math/tex\">1</script></td>\n",
       "</tr>\n",
       "<tr class =\"row-b\">\n",
       "<td class=\"ch\">D3</td>\n",
       "<td><script type=\"math/tex\">2</script></td>\n",
       "<td><script type=\"math/tex\">2</script></td>\n",
       "<td><script type=\"math/tex\">2</script></td>\n",
       "<td><script type=\"math/tex\">0</script></td>\n",
       "</tr>\n",
       "</tbody>\n",
       "</table>\n",
       "</div>"
      ],
      "text/plain": [
       "     | D0   D1   D2   D3\n",
       "+----+----+----+----+----+\n",
       "  D0 | 0    1    1    1\n",
       "  D1 | 2    0    1    1\n",
       "  D2 | 2    2    0    1\n",
       "  D3 | 2    2    2    0"
      ]
     },
     "metadata": {},
     "output_type": "display_data"
    },
    {
     "data": {
      "text/plain": [
       "\\begin{tabular}{l|llll}\n",
       "  & D0 & D1 & D2 & D3 \\\\ \\hline\n",
       "D0 & $0$ & $1$ & $1$ & $1$ \\\\\n",
       "D1 & $2$ & $0$ & $1$ & $1$ \\\\\n",
       "D2 & $2$ & $2$ & $0$ & $1$ \\\\\n",
       "D3 & $2$ & $2$ & $2$ & $0$ \\\\\n",
       "\\end{tabular}"
      ]
     },
     "execution_count": 7,
     "metadata": {},
     "output_type": "execute_result"
    }
   ],
   "source": [
    "def commutation_table(labels):\n",
    "    show(table([[find_commutator(basis4_matrices[y],basis4_matrices[x]) for y in labels] for x in labels], header_column=[' '] + labels, header_row=labels))\n",
    "    return latex(table([[find_commutator(basis4_matrices[y],basis4_matrices[x]) for y in labels] for x in labels], header_column=[' '] + labels, header_row=labels))\n",
    "\n",
    "show('commutation table for 1-form matrices:')\n",
    "commutation_table(unique_basis4_labels[1])"
   ]
  },
  {
   "cell_type": "code",
   "execution_count": 8,
   "metadata": {},
   "outputs": [
    {
     "data": {
      "text/html": [
       "<html><script type=\"math/tex; mode=display\">\\newcommand{\\Bold}[1]{\\mathbf{#1}}\\verb|Quick|\\phantom{\\verb!x!}\\verb|test|\\phantom{\\verb!x!}\\verb|of|\\phantom{\\verb!x!}\\verb|custom|\\phantom{\\verb!x!}\\verb|latex|\\phantom{\\verb!x!}\\verb|function:|</script></html>"
      ],
      "text/plain": [
       "'Quick test of custom latex function:'"
      ]
     },
     "metadata": {},
     "output_type": "display_data"
    },
    {
     "name": "stdout",
     "output_type": "stream",
     "text": [
      " - 3.14000000000000 \\partial_5^{ 7 } + w^{ 2 } \\partial_3 A_5 + \\partial_4 A_2 + w^{2} + A_3 + w\n"
     ]
    }
   ],
   "source": [
    "# Let's write the custum_latex(r) code:\n",
    "# Converts an expression into correctly sorted and formatted latex\n",
    "\n",
    "# Define our variables:\n",
    "var('d0 d1 d2 d3 d4 d5 d6')\n",
    "var('A0 A1 A2 A3 A4 A5 A6')\n",
    "\n",
    "# The order of the terms in this list, is the order they will be sorted to in expressions:\n",
    "custom_latex_sort_order = [-1, w, w^2]\n",
    "custom_latex_sort_order += [d0, d1, d2, d3, d4, d5, d6]\n",
    "custom_latex_sort_order += [A0, A1, A2, A3, A4, A5, A6]\n",
    "\n",
    "# Maps indecies to their associated latex:\n",
    "custom_latex_string = ['-', 'w', 'w^2']\n",
    "custom_latex_string += [r'\\partial_0', r'\\partial_1', r'\\partial_2', r'\\partial_3', r'\\partial_4', r'\\partial_5', r'\\partial_6']\n",
    "custom_latex_string += ['A_0', 'A_1', 'A_2', 'A_3', 'A_4', 'A_5', 'A_6']\n",
    "\n",
    "# The function itself:\n",
    "def custom_latex(r):\n",
    "    r = expand(r)\n",
    "    latex_result = ''\n",
    "    if r.operator() == (sym1 * sym2).operator():\n",
    "        # show('r.operands:', r.operands())\n",
    "        match = False\n",
    "        for x in r.operands():\n",
    "            if x < 0:\n",
    "                match = True\n",
    "        if match:\n",
    "            # show('Match!')\n",
    "            latex_result += ' - ' + custom_latex(-r)\n",
    "        else:\n",
    "            idx_list = []\n",
    "            power_term_tails = {}\n",
    "            number = 1\n",
    "            for t in r.operands():\n",
    "                # show('t:', t)\n",
    "                if t.operator() == (sym1^sym2).operator():\n",
    "                    head, tail = t.operands()\n",
    "                    idx = custom_latex_sort_order.index(head)\n",
    "                    idx_list.append(idx)\n",
    "                    power_term_tails[idx] = tail\n",
    "                else:\n",
    "                    if t not in custom_latex_sort_order:\n",
    "                        number = t\n",
    "                    else:\n",
    "                        idx = custom_latex_sort_order.index(t)\n",
    "                        idx_list.append(idx)\n",
    "            idx_list.sort()\n",
    "            result_list = []\n",
    "            if number != 1:\n",
    "                result_list.append(latex(number))\n",
    "            for i in idx_list:\n",
    "                if i in power_term_tails:\n",
    "                    result_list.append(custom_latex_string[i] + '^{' + latex(power_term_tails[i]) + '}')\n",
    "                else:\n",
    "                    result_list.append(custom_latex_string[i])\n",
    "            latex_result += ' '.join(x for x in result_list)\n",
    "    elif r.operator() == (sym1 + sym2).operator():\n",
    "        latex_result += ' + '.join(custom_latex(term) for term in r.operands())\n",
    "    elif r.operator() == (sym1^sym2).operator():\n",
    "        head, tail = r.operands()\n",
    "        head_idx = custom_latex_sort_order.index(head)\n",
    "        latex_result += '%s^{%s}' % (custom_latex_string[head_idx], latex(tail))\n",
    "    else:\n",
    "        idx = custom_latex_sort_order.index(r)\n",
    "        latex_result += custom_latex_string[idx]\n",
    "    return latex_result\n",
    "    # return latex_result.replace(' + - ', ' - ')\n",
    "            \n",
    "# Quick test:    \n",
    "# custom_latex(2*w)\n",
    "# custom_latex(- 2* w*d5^7)\n",
    "show('Quick test of custom latex function:')\n",
    "print(custom_latex(A5*d3*w^2 + A2*d4 - 3.14* d5^7 + w + A3 + w^2))"
   ]
  },
  {
   "cell_type": "code",
   "execution_count": 10,
   "metadata": {},
   "outputs": [
    {
     "data": {
      "text/html": [
       "<html><script type=\"math/tex; mode=display\">\\newcommand{\\Bold}[1]{\\mathbf{#1}}\\verb|Quick|\\phantom{\\verb!x!}\\verb|test|\\phantom{\\verb!x!}\\verb|of|\\phantom{\\verb!x!}\\verb|get_basis4(k,|\\phantom{\\verb!x!}\\verb|A),|\\phantom{\\verb!x!}\\verb|for|\\phantom{\\verb!x!}\\verb|A|\\phantom{\\verb!x!}\\verb|a|\\phantom{\\verb!x!}\\verb|1-form:|</script></html>"
      ],
      "text/plain": [
       "'Quick test of get_basis4(k, A), for A a 1-form:'"
      ]
     },
     "metadata": {},
     "output_type": "display_data"
    },
    {
     "data": {
      "text/html": [
       "<html><script type=\"math/tex; mode=display\">\\newcommand{\\Bold}[1]{\\mathbf{#1}}\\verb|D0| \\verb|::| A_{0}</script></html>"
      ],
      "text/plain": [
       "'D0' '::' A0"
      ]
     },
     "metadata": {},
     "output_type": "display_data"
    },
    {
     "data": {
      "text/html": [
       "<html><script type=\"math/tex; mode=display\">\\newcommand{\\Bold}[1]{\\mathbf{#1}}\\verb|D1| \\verb|::| A_{1}</script></html>"
      ],
      "text/plain": [
       "'D1' '::' A1"
      ]
     },
     "metadata": {},
     "output_type": "display_data"
    },
    {
     "data": {
      "text/html": [
       "<html><script type=\"math/tex; mode=display\">\\newcommand{\\Bold}[1]{\\mathbf{#1}}\\verb|D2| \\verb|::| A_{2}</script></html>"
      ],
      "text/plain": [
       "'D2' '::' A2"
      ]
     },
     "metadata": {},
     "output_type": "display_data"
    },
    {
     "data": {
      "text/html": [
       "<html><script type=\"math/tex; mode=display\">\\newcommand{\\Bold}[1]{\\mathbf{#1}}\\verb|D3| \\verb|::| A_{3}</script></html>"
      ],
      "text/plain": [
       "'D3' '::' A3"
      ]
     },
     "metadata": {},
     "output_type": "display_data"
    },
    {
     "name": "stdout",
     "output_type": "stream",
     "text": [
      "& \\text{\\texttt{D0:{ }}} A_0 \\\\\n",
      " & \\text{\\texttt{D1:{ }}} A_1 \\\\\n",
      " & \\text{\\texttt{D2:{ }}} A_2 \\\\\n",
      " & \\text{\\texttt{D3:{ }}} A_3 \\\\\n",
      "\n"
     ]
    },
    {
     "data": {
      "text/html": [
       "<html><script type=\"math/tex; mode=display\">\\newcommand{\\Bold}[1]{\\mathbf{#1}}\\verb|Quick|\\phantom{\\verb!x!}\\verb|test|\\phantom{\\verb!x!}\\verb|of|\\phantom{\\verb!x!}\\verb|dA|\\phantom{\\verb!x!}\\verb|as|\\phantom{\\verb!x!}\\verb|a|\\phantom{\\verb!x!}\\verb|2-form:|</script></html>"
      ],
      "text/plain": [
       "'Quick test of dA as a 2-form:'"
      ]
     },
     "metadata": {},
     "output_type": "display_data"
    },
    {
     "data": {
      "text/html": [
       "<html><script type=\"math/tex; mode=display\">\\newcommand{\\Bold}[1]{\\mathbf{#1}}\\verb|D00| \\verb|::| A_{0} d_{0}</script></html>"
      ],
      "text/plain": [
       "'D00' '::' A0*d0"
      ]
     },
     "metadata": {},
     "output_type": "display_data"
    },
    {
     "data": {
      "text/html": [
       "<html><script type=\"math/tex; mode=display\">\\newcommand{\\Bold}[1]{\\mathbf{#1}}\\verb|D01| \\verb|::| A_{0} d_{1} w + A_{1} d_{0}</script></html>"
      ],
      "text/plain": [
       "'D01' '::' A0*d1*w + A1*d0"
      ]
     },
     "metadata": {},
     "output_type": "display_data"
    },
    {
     "data": {
      "text/html": [
       "<html><script type=\"math/tex; mode=display\">\\newcommand{\\Bold}[1]{\\mathbf{#1}}\\verb|D02| \\verb|::| A_{0} d_{2} w + A_{2} d_{0}</script></html>"
      ],
      "text/plain": [
       "'D02' '::' A0*d2*w + A2*d0"
      ]
     },
     "metadata": {},
     "output_type": "display_data"
    },
    {
     "data": {
      "text/html": [
       "<html><script type=\"math/tex; mode=display\">\\newcommand{\\Bold}[1]{\\mathbf{#1}}\\verb|D03| \\verb|::| A_{0} d_{3} w + A_{3} d_{0}</script></html>"
      ],
      "text/plain": [
       "'D03' '::' A0*d3*w + A3*d0"
      ]
     },
     "metadata": {},
     "output_type": "display_data"
    },
    {
     "data": {
      "text/html": [
       "<html><script type=\"math/tex; mode=display\">\\newcommand{\\Bold}[1]{\\mathbf{#1}}\\verb|D11| \\verb|::| A_{1} d_{1}</script></html>"
      ],
      "text/plain": [
       "'D11' '::' A1*d1"
      ]
     },
     "metadata": {},
     "output_type": "display_data"
    },
    {
     "data": {
      "text/html": [
       "<html><script type=\"math/tex; mode=display\">\\newcommand{\\Bold}[1]{\\mathbf{#1}}\\verb|D12| \\verb|::| A_{1} d_{2} w + A_{2} d_{1}</script></html>"
      ],
      "text/plain": [
       "'D12' '::' A1*d2*w + A2*d1"
      ]
     },
     "metadata": {},
     "output_type": "display_data"
    },
    {
     "data": {
      "text/html": [
       "<html><script type=\"math/tex; mode=display\">\\newcommand{\\Bold}[1]{\\mathbf{#1}}\\verb|D13| \\verb|::| A_{1} d_{3} w + A_{3} d_{1}</script></html>"
      ],
      "text/plain": [
       "'D13' '::' A1*d3*w + A3*d1"
      ]
     },
     "metadata": {},
     "output_type": "display_data"
    },
    {
     "data": {
      "text/html": [
       "<html><script type=\"math/tex; mode=display\">\\newcommand{\\Bold}[1]{\\mathbf{#1}}\\verb|D22| \\verb|::| A_{2} d_{2}</script></html>"
      ],
      "text/plain": [
       "'D22' '::' A2*d2"
      ]
     },
     "metadata": {},
     "output_type": "display_data"
    },
    {
     "data": {
      "text/html": [
       "<html><script type=\"math/tex; mode=display\">\\newcommand{\\Bold}[1]{\\mathbf{#1}}\\verb|D23| \\verb|::| A_{2} d_{3} w + A_{3} d_{2}</script></html>"
      ],
      "text/plain": [
       "'D23' '::' A2*d3*w + A3*d2"
      ]
     },
     "metadata": {},
     "output_type": "display_data"
    },
    {
     "data": {
      "text/html": [
       "<html><script type=\"math/tex; mode=display\">\\newcommand{\\Bold}[1]{\\mathbf{#1}}\\verb|D33| \\verb|::| A_{3} d_{3}</script></html>"
      ],
      "text/plain": [
       "'D33' '::' A3*d3"
      ]
     },
     "metadata": {},
     "output_type": "display_data"
    },
    {
     "name": "stdout",
     "output_type": "stream",
     "text": [
      "& \\text{\\texttt{D00:{ }}} \\partial_0 A_0 \\\\\n",
      " & \\text{\\texttt{D01:{ }}} w \\partial_1 A_0 + \\partial_0 A_1 \\\\\n",
      " & \\text{\\texttt{D02:{ }}} w \\partial_2 A_0 + \\partial_0 A_2 \\\\\n",
      " & \\text{\\texttt{D03:{ }}} w \\partial_3 A_0 + \\partial_0 A_3 \\\\\n",
      " & \\text{\\texttt{D11:{ }}} \\partial_1 A_1 \\\\\n",
      " & \\text{\\texttt{D12:{ }}} w \\partial_2 A_1 + \\partial_1 A_2 \\\\\n",
      " & \\text{\\texttt{D13:{ }}} w \\partial_3 A_1 + \\partial_1 A_3 \\\\\n",
      " & \\text{\\texttt{D22:{ }}} \\partial_2 A_2 \\\\\n",
      " & \\text{\\texttt{D23:{ }}} w \\partial_3 A_2 + \\partial_2 A_3 \\\\\n",
      " & \\text{\\texttt{D33:{ }}} \\partial_3 A_3 \\\\\n",
      "\n"
     ]
    },
    {
     "data": {
      "text/plain": [
       "{'D00': A0*d0,\n",
       " 'D01': A0*d1*w + A1*d0,\n",
       " 'D02': A0*d2*w + A2*d0,\n",
       " 'D03': A0*d3*w + A3*d0,\n",
       " 'D11': A1*d1,\n",
       " 'D12': A1*d2*w + A2*d1,\n",
       " 'D13': A1*d3*w + A3*d1,\n",
       " 'D22': A2*d2,\n",
       " 'D23': A2*d3*w + A3*d2,\n",
       " 'D33': A3*d3}"
      ]
     },
     "execution_count": 10,
     "metadata": {},
     "output_type": "execute_result"
    }
   ],
   "source": [
    "# Now extract out basis terms:\n",
    "def get_basis4(k, A):\n",
    "    if k not in unique_basis4_labels:\n",
    "        return\n",
    "    labels = unique_basis4_labels[k]\n",
    "    latex_result = ''\n",
    "    results = {}\n",
    "    for label in labels:\n",
    "        matrix = basis4_matrices[label]\n",
    "        term = (expand(A*matrix^5)).trace()/9\n",
    "        term = w_mod(term)\n",
    "        # term = expand_w(term)\n",
    "        term = layer2_expand_w(term)\n",
    "        term = expand(term)\n",
    "        # term = expand_w(term)\n",
    "        term = layer2_expand_w(term)\n",
    "        if term != 0:\n",
    "            show(label, '::', term)\n",
    "            results[label] = term\n",
    "            latex_result += '& ' + latex(label + ': ') + custom_latex(term) + '\\\\\\\\\\n'\n",
    "    print(latex_result)\n",
    "    return results\n",
    "\n",
    "# Now a quick test:\n",
    "var('A0 A1 A2 A3')\n",
    "A = A0*NN0 + A1*NN1 + A2*NN2 + A3*NN3\n",
    "show('Quick test of get_basis4(k, A), for A a 1-form:')\n",
    "get_basis4(1, A)\n",
    "\n",
    "show('Quick test of dA as a 2-form:')\n",
    "d = d0*NN0 + d1*NN1 + d2*NN2 + d3*NN3\n",
    "get_basis4(2, d*A)"
   ]
  },
  {
   "cell_type": "code",
   "execution_count": null,
   "metadata": {},
   "outputs": [],
   "source": []
  }
 ],
 "metadata": {
  "kernelspec": {
   "display_name": "SageMath 9.0",
   "language": "sage",
   "name": "sagemath"
  },
  "language_info": {
   "codemirror_mode": {
    "name": "ipython",
    "version": 3
   },
   "file_extension": ".py",
   "mimetype": "text/x-python",
   "name": "python",
   "nbconvert_exporter": "python",
   "pygments_lexer": "ipython3",
   "version": "3.7.3"
  }
 },
 "nbformat": 4,
 "nbformat_minor": 2
}
