{
 "cells": [
  {
   "cell_type": "code",
   "execution_count": 1,
   "metadata": {},
   "outputs": [],
   "source": [
    "# Tensor product, q = 3 matrix Maxwell, Dirac and differential forms:\n",
    "\n",
    "# First some helper code:\n",
    "# define our root of unity:\n",
    "var('w')\n",
    "W = exp(I*2*pi/3)\n",
    "k = CyclotomicField(3)\n",
    "Z = k.gen()\n",
    "\n",
    "# Choose rotation/Lorentz type for p.T terms:\n",
    "use_rotation = False\n",
    "\n",
    "# Define symbols to help with walking the parse tree:\n",
    "var('sym1 sym2')\n",
    "\n",
    "# define our w_modulus function:\n",
    "def w_mod(r):\n",
    "    r = expand(r)\n",
    "    try:\n",
    "        if len(r.operands()) == 0:\n",
    "            return r\n",
    "    except:\n",
    "        return r\n",
    "    if r.operator() == (sym1 + sym2).operator():\n",
    "        result = 0\n",
    "        for term in r.operands():\n",
    "            result += w_mod(term)\n",
    "        return result\n",
    "    if r.operator() == (sym1*sym2).operator():\n",
    "        result = 1\n",
    "        for term in r.operands():\n",
    "            result *= w_mod(term)\n",
    "        return result\n",
    "    if r.operator() == (sym1^sym2).operator():\n",
    "        head = r.operands()[0]\n",
    "        tail = r.operands()[1]\n",
    "        if head != w:\n",
    "            return r\n",
    "        try:\n",
    "            tail = Mod(tail, 3)\n",
    "            return head^tail\n",
    "        except:\n",
    "            return r\n",
    "\n",
    "# wrapper for our w_mod function, so we can apply it to matrices:\n",
    "def matrix_w_mod(A):\n",
    "    return A.apply_map(w_mod)\n",
    "\n",
    "\n",
    "# Implement 1 + w + w^2 = 0\n",
    "# Needs verifying!\n",
    "def expand_w(r):\n",
    "    r = expand(r)\n",
    "    try:\n",
    "        if r.operator() != (sym1 + sym2).operator():  # Already compact, so return it unchanged\n",
    "            return r\n",
    "    except:\n",
    "        return r\n",
    "    non_w2_terms = r.substitute({w^2: 0})\n",
    "    w2_terms = r - non_w2_terms\n",
    "    w2_terms = expand(w2_terms.substitute({w: 1}))\n",
    "    r2 = expand(non_w2_terms - w2_terms*(1 + w))\n",
    "    if r2.operator() != (sym1 + sym2).operator(): # Compact, so return the new result\n",
    "        return r2\n",
    "    if len(r2.operands()) < len(r.operands()):  # Smaller, so let's keep this change\n",
    "        non_w_terms = r2.substitute({w: 0})\n",
    "        w_terms = r2 - non_w_terms\n",
    "        w_terms = expand(w_terms.substitute({w: 1}))\n",
    "        if w_terms.operator() != (sym1 + sym2).operator():\n",
    "            r3 = expand(non_w_terms - w_terms*(1 + w^2))\n",
    "            if r3.operator() != (sym1 + sym2).operator():\n",
    "                return r3\n",
    "            if len(r3.operands()) < len(r2.operands()):\n",
    "                return r3\n",
    "        result = r2\n",
    "        for t in w_terms.operands():\n",
    "            r3 = expand(result - t*(1 + w + w^2))\n",
    "            if r3.operator() != (sym1 + sym2).operator():\n",
    "                return r3\n",
    "            if len(r3.operands()) < len(result.operands()):\n",
    "                result = r3\n",
    "        if len(result.operands()) < len(r2.operands()):\n",
    "            return result\n",
    "        return r2\n",
    "    if w2_terms == 0:\n",
    "        non_w_terms = r.substitute({w: 0})\n",
    "        w_terms = r - non_w_terms\n",
    "        w_terms = expand(w_terms.substitute({w: 1}))\n",
    "        r2 = expand(non_w_terms - w_terms*(1 + w^2))\n",
    "        if r2.operator() != (sym1 + sym2).operator():\n",
    "            return r2\n",
    "        if len(r2.operands()) < len(r.operands()):\n",
    "            return r2\n",
    "        return r\n",
    "    return r\n",
    "    \n",
    "def layer2_expand_w(r):\n",
    "    r = w_mod(r)\n",
    "    r = expand_w(r)\n",
    "    if r.operator() != (sym1 + sym2).operator():  # Already compact, so return it unchanged\n",
    "        return r\n",
    "    test_r = w_mod(w^2*(expand_w(w_mod(w*r))))\n",
    "    if test_r.operator() != (sym1 + sym2).operator():\n",
    "        return test_r\n",
    "    if len(test_r.operands()) < len(r.operands()):\n",
    "        return test_r\n",
    "    return r\n",
    "\n",
    "\n",
    "def matrix_expand_w(A):\n",
    "    return A.apply_map(expand_w)\n",
    "\n",
    "# Implement some equations that simplify our results:\n",
    "var('J3')\n",
    "var('E p1 p2 p3 q1 q2 q3')\n",
    "tidy_dict = {}\n",
    "\n",
    "# tidy_dict['p...q'] = {p1: (ZZ - p2*q1 - p3*q2)/q3}\n",
    "# tidy_dict['p1*p...q'] = {p1^2: (ZZ - p2*q1 - p3*q2)*p1/q3}\n",
    "tidy_dict['p...q'] = {p1: (0 - p2*q1 - p3*q2)/q3}\n",
    "tidy_dict['p1*p...q'] = {p1^2: (0 - p2*q1 - p3*q2)*p1/q3}\n",
    "tidy_dict['p..q'] = {p1: (0 - p2*q3 - p3*q1)/q2}\n",
    "\n",
    "# tidy_dict['p...q'] = {d1: (0 - d2*d4 - d3*d5)/d6}\n",
    "# tidy_dict['p..q'] = {d1: (0 - d2*d6 - d3*d4)/d5}\n",
    "\n",
    "var('d1 d2 d3')\n",
    "var('e1 e2 e3')\n",
    "# tidy_dict['e1'] = {d1^2 : e1 + d2*d3}\n",
    "# tidy_dict['e2'] = {d2^2 : e2 + d1*d3}\n",
    "# tidy_dict['e3'] = {d3^2 : e3 + d1*d2}\n",
    "tidy_dict['e1'] = {d1 : (e1 + d2*d3)/d1}\n",
    "tidy_dict['e2'] = {d2 : (e2 + d1*d3)/d2}\n",
    "tidy_dict['e3'] = {d3 : (e3 + d1*d2)/d3}\n",
    "\n",
    "\n",
    "def tidy(r):\n",
    "    if r.operator() != (sym1 + sym2).operator():\n",
    "        return r\n",
    "    result = r\n",
    "    for label, the_tidy_dict in tidy_dict.items():\n",
    "        tmp_result = result.substitute(the_tidy_dict)\n",
    "        tmp_result = expand(tmp_result)\n",
    "        if tmp_result.operator() != (sym1 + sym2).operator():\n",
    "            return tmp_result\n",
    "        if len(tmp_result.operands()) < len(result.operands()):\n",
    "            return tmp_result\n",
    "    return result\n",
    "\n",
    "def matrix_tidy(A):\n",
    "    return A.apply_map(tidy)\n",
    "\n",
    "var('J3 JR3 Z1 Z2 e0 e1 e2 e3 e4 e5 e6')\n",
    "var('d0 d1 d2 d3 d4 d5 d6')\n",
    "improved_tidy_dict = {}\n",
    "\n",
    "# improved_tidy_dict['p..q'] = {p1: (0 - p2*q3 - p3*q1)/q2} # Fix!\n",
    "# p as Lorentz transform:\n",
    "# improved_tidy_dict['e1'] = {d1^2 : e1 + d2*d3 + d0*d4}\n",
    "# improved_tidy_dict['e2'] = {d2^2 : e2 + d1*d3 + d0*d5}\n",
    "# improved_tidy_dict['e3'] = {d3^2 : e3 + d1*d2 + d0*d6}\n",
    "# improved_tidy_dict['e4'] = {d4^2 : e4 + d5*d6 + d0*d1}\n",
    "# improved_tidy_dict['e5'] = {d5^2 : e5 + d4*d6 + d0*d2}\n",
    "# improved_tidy_dict['e6'] = {d6^2 : e6 + d4*d5 + d0*d3}\n",
    "\n",
    "# improved_tidy_dict['p...q'] = {p1: (Z1 + p2*q1 + p3*q2)/q3}\n",
    "# improved_tidy_dict['p1*p...q'] = {p1^2: (Z1 + p2*q1 + p3*q2)*p1/q3}\n",
    "improved_tidy_dict['e0'] = {d0^2 : e0 + d1*d4 + d2*d5 + d3*d6}\n",
    "\n",
    "# p as Lorentz transform, but don't chomp the d0 terms:\n",
    "if not use_rotation:\n",
    "    improved_tidy_dict['J3'] = {E^3 : J3 - p1^3 - p2^3 - p3^3 + 3*p1*p2*p3 - q1^3 - q2^3 - q3^3 + 3*q1*q2*q3 + 3*E*p1*q1 + 3*E*p2*q2 + 3*E*p3*q3 }\n",
    "    improved_tidy_dict['p...q'] = {p1: (Z1 - p2*q1 - p3*q2)/q3}\n",
    "    improved_tidy_dict['p1*p...q'] = {p1^2: (Z1 - p2*q1 - p3*q2)*p1/q3}\n",
    "    improved_tidy_dict['e1'] = {d1^2 : e1 + d2*d3}\n",
    "    improved_tidy_dict['e2'] = {d2^2 : e2 + d1*d3}\n",
    "    improved_tidy_dict['e3'] = {d3^2 : e3 + d1*d2}\n",
    "    improved_tidy_dict['e4'] = {d4^2 : e4 + d5*d6}\n",
    "    improved_tidy_dict['e5'] = {d5^2 : e5 + d4*d6}\n",
    "    improved_tidy_dict['e6'] = {d6^2 : e6 + d4*d5}\n",
    "    improved_tidy_dict['d...'] = {d1: (Z1 - d2*d4 - d3*d5)/d6}\n",
    "    improved_tidy_dict['d..'] = {d1: (Z2 - d2*d6 - d3*d4)/d5}\n",
    "\n",
    "# p as rotation:\n",
    "# improved_tidy_dict['e0'] = {d0^2 : e0 + d1*d4 + d2*d5 + d3*d6}\n",
    "# improved_tidy_dict['e1'] = {d1^2 : e1 - d2*d3 + d0*d4}\n",
    "# improved_tidy_dict['e2'] = {d2^2 : - e2 + d1*d3 - d0*d5}\n",
    "# improved_tidy_dict['e3'] = {d3^2 : e3 - d1*d2 + d0*d6}\n",
    "# improved_tidy_dict['e4'] = {d4^2 : e4 - d5*d6 + d0*d1}\n",
    "# improved_tidy_dict['e5'] = {d5^2 : - e5 + d4*d6 - d0*d2}\n",
    "# improved_tidy_dict['e6'] = {d6^2 : e6 - d4*d5 + d0*d3}\n",
    "# improved_tidy_dict['d...'] = {d1: (Z1 + d2*d4 + d3*d5)/d6}\n",
    "# improved_tidy_dict['d..'] = {d1: (- Z2 - d2*d6 + d3*d4)/d5}\n",
    "\n",
    "# p as rotation, but don't chomp the d0 terms:\n",
    "if use_rotation:\n",
    "    improved_tidy_dict['JR3'] = {E^3 : JR3 - p1^3 + p2^3 - p3^3 - 3*p1*p2*p3 - q1^3 + q2^3 - q3^3 - 3*q1*q2*q3 + 3*E*p1*q1 + 3*E*p2*q2 + 3*E*p3*q3 }\n",
    "    improved_tidy_dict['p...q'] = {p1: (Z1 + p2*q1 + p3*q2)/q3}\n",
    "    improved_tidy_dict['p1*p...q'] = {p1^2: (Z1 + p2*q1 + p3*q2)*p1/q3}\n",
    "    improved_tidy_dict['e1'] = {d1^2 : e1 - d2*d3}\n",
    "    improved_tidy_dict['e2'] = {d2^2 : - e2 + d1*d3}\n",
    "    improved_tidy_dict['e3'] = {d3^2 : e3 - d1*d2}\n",
    "    improved_tidy_dict['e4'] = {d4^2 : e4 - d5*d6}\n",
    "    improved_tidy_dict['e5'] = {d5^2 : - e5 + d4*d6}\n",
    "    improved_tidy_dict['e6'] = {d6^2 : e6 - d4*d5}\n",
    "    improved_tidy_dict['d...'] = {d1: (Z1 + d2*d4 + d3*d5)/d6}\n",
    "    improved_tidy_dict['d..'] = {d1: (- Z2 - d2*d6 + d3*d4)/d5}\n",
    "\n",
    "\n",
    "def improved_tidy(r):\n",
    "    if r.operator() != (sym1 + sym2).operator():  # Already compact, so leave unchanged\n",
    "        return r\n",
    "    result = r\n",
    "    for term in r.operands():\n",
    "        for elt, tidy_dict in improved_tidy_dict.items():\n",
    "            working_term = expand(term.substitute(tidy_dict))\n",
    "            working_result = expand(result - term + working_term)\n",
    "            if working_result.operator() != (sym1 + sym2).operator():\n",
    "                result = working_result\n",
    "                continue\n",
    "            if len(working_result.operands()) < len(result.operands()):\n",
    "                result = working_result\n",
    "                continue\n",
    "    return result\n",
    "\n",
    "def matrix_improved_tidy(A):\n",
    "    return A.apply_map(improved_tidy)\n"
   ]
  },
  {
   "cell_type": "code",
   "execution_count": 16,
   "metadata": {},
   "outputs": [
    {
     "data": {
      "text/html": [
       "<html><script type=\"math/tex; mode=display\">\\newcommand{\\Bold}[1]{\\mathbf{#1}}\\verb|Testing|\\phantom{\\verb!x!}\\verb|our|\\phantom{\\verb!x!}\\verb|q|\\phantom{\\verb!x!}\\verb|=|\\phantom{\\verb!x!}\\verb|3|\\phantom{\\verb!x!}\\verb|Pauli|\\phantom{\\verb!x!}\\verb|matrices|\\phantom{\\verb!x!}\\verb|cube|\\phantom{\\verb!x!}\\verb|property:|</script></html>"
      ],
      "text/plain": [
       "'Testing our q = 3 Pauli matrices cube property:'"
      ]
     },
     "metadata": {},
     "output_type": "display_data"
    },
    {
     "data": {
      "text/html": [
       "<html><script type=\"math/tex; mode=display\">\\newcommand{\\Bold}[1]{\\mathbf{#1}}\\verb|test1:| \\left(\\begin{array}{rrr}\n",
       "p_{1}^{3} + p_{2}^{3} - 3 \\, p_{1} p_{2} p_{3} + p_{3}^{3} & 0 & 0 \\\\\n",
       "0 & p_{1}^{3} + p_{2}^{3} - 3 \\, p_{1} p_{2} p_{3} + p_{3}^{3} & 0 \\\\\n",
       "0 & 0 & p_{1}^{3} + p_{2}^{3} - 3 \\, p_{1} p_{2} p_{3} + p_{3}^{3}\n",
       "\\end{array}\\right)</script></html>"
      ],
      "text/plain": [
       "'test1:' [p1^3 + p2^3 - 3*p1*p2*p3 + p3^3                               0                               0]\n",
       "[                              0 p1^3 + p2^3 - 3*p1*p2*p3 + p3^3                               0]\n",
       "[                              0                               0 p1^3 + p2^3 - 3*p1*p2*p3 + p3^3]"
      ]
     },
     "metadata": {},
     "output_type": "display_data"
    },
    {
     "data": {
      "text/html": [
       "<html><script type=\"math/tex; mode=display\">\\newcommand{\\Bold}[1]{\\mathbf{#1}}\\verb|test2:| \\left(\\begin{array}{rrr}\n",
       "q_{1}^{3} + q_{2}^{3} - 3 \\, q_{1} q_{2} q_{3} + q_{3}^{3} & 0 & 0 \\\\\n",
       "0 & q_{1}^{3} + q_{2}^{3} - 3 \\, q_{1} q_{2} q_{3} + q_{3}^{3} & 0 \\\\\n",
       "0 & 0 & q_{1}^{3} + q_{2}^{3} - 3 \\, q_{1} q_{2} q_{3} + q_{3}^{3}\n",
       "\\end{array}\\right)</script></html>"
      ],
      "text/plain": [
       "'test2:' [q1^3 + q2^3 - 3*q1*q2*q3 + q3^3                               0                               0]\n",
       "[                              0 q1^3 + q2^3 - 3*q1*q2*q3 + q3^3                               0]\n",
       "[                              0                               0 q1^3 + q2^3 - 3*q1*q2*q3 + q3^3]"
      ]
     },
     "metadata": {},
     "output_type": "display_data"
    },
    {
     "data": {
      "text/html": [
       "<html><script type=\"math/tex; mode=display\">\\newcommand{\\Bold}[1]{\\mathbf{#1}}\\verb|-------------|</script></html>"
      ],
      "text/plain": [
       "'-------------'"
      ]
     },
     "metadata": {},
     "output_type": "display_data"
    },
    {
     "data": {
      "text/html": [
       "<html><script type=\"math/tex; mode=display\">\\newcommand{\\Bold}[1]{\\mathbf{#1}}\\verb|Our|\\phantom{\\verb!x!}\\verb|q|\\phantom{\\verb!x!}\\verb|=|\\phantom{\\verb!x!}\\verb|3|\\phantom{\\verb!x!}\\verb|Dirac|\\phantom{\\verb!x!}\\verb|matrices:|</script></html>"
      ],
      "text/plain": [
       "'Our q = 3 Dirac matrices:'"
      ]
     },
     "metadata": {},
     "output_type": "display_data"
    },
    {
     "data": {
      "text/html": [
       "<html><script type=\"math/tex; mode=display\">\\newcommand{\\Bold}[1]{\\mathbf{#1}}\\verb|S0:| \\left(\\begin{array}{rrr|rrr|rrr}\n",
       "1 & 0 & 0 & 0 & 0 & 0 & 0 & 0 & 0 \\\\\n",
       "0 & 1 & 0 & 0 & 0 & 0 & 0 & 0 & 0 \\\\\n",
       "0 & 0 & 1 & 0 & 0 & 0 & 0 & 0 & 0 \\\\\n",
       "\\hline\n",
       " 0 & 0 & 0 & w & 0 & 0 & 0 & 0 & 0 \\\\\n",
       "0 & 0 & 0 & 0 & w & 0 & 0 & 0 & 0 \\\\\n",
       "0 & 0 & 0 & 0 & 0 & w & 0 & 0 & 0 \\\\\n",
       "\\hline\n",
       " 0 & 0 & 0 & 0 & 0 & 0 & w^{2} & 0 & 0 \\\\\n",
       "0 & 0 & 0 & 0 & 0 & 0 & 0 & w^{2} & 0 \\\\\n",
       "0 & 0 & 0 & 0 & 0 & 0 & 0 & 0 & w^{2}\n",
       "\\end{array}\\right)</script></html>"
      ],
      "text/plain": [
       "'S0:' [  1   0   0|  0   0   0|  0   0   0]\n",
       "[  0   1   0|  0   0   0|  0   0   0]\n",
       "[  0   0   1|  0   0   0|  0   0   0]\n",
       "[-----------+-----------+-----------]\n",
       "[  0   0   0|  w   0   0|  0   0   0]\n",
       "[  0   0   0|  0   w   0|  0   0   0]\n",
       "[  0   0   0|  0   0   w|  0   0   0]\n",
       "[-----------+-----------+-----------]\n",
       "[  0   0   0|  0   0   0|w^2   0   0]\n",
       "[  0   0   0|  0   0   0|  0 w^2   0]\n",
       "[  0   0   0|  0   0   0|  0   0 w^2]"
      ]
     },
     "metadata": {},
     "output_type": "display_data"
    },
    {
     "data": {
      "text/html": [
       "<html><script type=\"math/tex; mode=display\">\\newcommand{\\Bold}[1]{\\mathbf{#1}}\\verb|S1:| \\left(\\begin{array}{rrrrrrrrr}\n",
       "0 & 0 & 0 & 0 & 0 & 0 & 0 & 1 & 0 \\\\\n",
       "0 & 0 & 0 & 0 & 0 & 0 & 0 & 0 & 1 \\\\\n",
       "0 & 0 & 0 & 0 & 0 & 0 & 1 & 0 & 0 \\\\\n",
       "0 & w^{2} & 0 & 0 & 0 & 0 & 0 & 0 & 0 \\\\\n",
       "0 & 0 & w^{2} & 0 & 0 & 0 & 0 & 0 & 0 \\\\\n",
       "w^{2} & 0 & 0 & 0 & 0 & 0 & 0 & 0 & 0 \\\\\n",
       "0 & 0 & 0 & 0 & w & 0 & 0 & 0 & 0 \\\\\n",
       "0 & 0 & 0 & 0 & 0 & w & 0 & 0 & 0 \\\\\n",
       "0 & 0 & 0 & w & 0 & 0 & 0 & 0 & 0\n",
       "\\end{array}\\right)</script></html>"
      ],
      "text/plain": [
       "'S1:' [  0   0   0   0   0   0   0   1   0]\n",
       "[  0   0   0   0   0   0   0   0   1]\n",
       "[  0   0   0   0   0   0   1   0   0]\n",
       "[  0 w^2   0   0   0   0   0   0   0]\n",
       "[  0   0 w^2   0   0   0   0   0   0]\n",
       "[w^2   0   0   0   0   0   0   0   0]\n",
       "[  0   0   0   0   w   0   0   0   0]\n",
       "[  0   0   0   0   0   w   0   0   0]\n",
       "[  0   0   0   w   0   0   0   0   0]"
      ]
     },
     "metadata": {},
     "output_type": "display_data"
    },
    {
     "data": {
      "text/html": [
       "<html><script type=\"math/tex; mode=display\">\\newcommand{\\Bold}[1]{\\mathbf{#1}}\\verb|S2:| \\left(\\begin{array}{rrrrrrrrr}\n",
       "0 & 0 & 0 & 0 & 0 & 0 & 0 & 0 & w^{2} \\\\\n",
       "0 & 0 & 0 & 0 & 0 & 0 & w & 0 & 0 \\\\\n",
       "0 & 0 & 0 & 0 & 0 & 0 & 0 & 1 & 0 \\\\\n",
       "0 & 0 & w & 0 & 0 & 0 & 0 & 0 & 0 \\\\\n",
       "1 & 0 & 0 & 0 & 0 & 0 & 0 & 0 & 0 \\\\\n",
       "0 & w^{2} & 0 & 0 & 0 & 0 & 0 & 0 & 0 \\\\\n",
       "0 & 0 & 0 & 0 & 0 & 1 & 0 & 0 & 0 \\\\\n",
       "0 & 0 & 0 & w^{2} & 0 & 0 & 0 & 0 & 0 \\\\\n",
       "0 & 0 & 0 & 0 & w & 0 & 0 & 0 & 0\n",
       "\\end{array}\\right)</script></html>"
      ],
      "text/plain": [
       "'S2:' [  0   0   0   0   0   0   0   0 w^2]\n",
       "[  0   0   0   0   0   0   w   0   0]\n",
       "[  0   0   0   0   0   0   0   1   0]\n",
       "[  0   0   w   0   0   0   0   0   0]\n",
       "[  1   0   0   0   0   0   0   0   0]\n",
       "[  0 w^2   0   0   0   0   0   0   0]\n",
       "[  0   0   0   0   0   1   0   0   0]\n",
       "[  0   0   0 w^2   0   0   0   0   0]\n",
       "[  0   0   0   0   w   0   0   0   0]"
      ]
     },
     "metadata": {},
     "output_type": "display_data"
    },
    {
     "data": {
      "text/html": [
       "<html><script type=\"math/tex; mode=display\">\\newcommand{\\Bold}[1]{\\mathbf{#1}}\\verb|S3:| \\left(\\begin{array}{rrrrrrrrr}\n",
       "0 & 0 & 0 & 0 & 0 & 0 & 1 & 0 & 0 \\\\\n",
       "0 & 0 & 0 & 0 & 0 & 0 & 0 & w & 0 \\\\\n",
       "0 & 0 & 0 & 0 & 0 & 0 & 0 & 0 & w^{2} \\\\\n",
       "w^{2} & 0 & 0 & 0 & 0 & 0 & 0 & 0 & 0 \\\\\n",
       "0 & 1 & 0 & 0 & 0 & 0 & 0 & 0 & 0 \\\\\n",
       "0 & 0 & w & 0 & 0 & 0 & 0 & 0 & 0 \\\\\n",
       "0 & 0 & 0 & w & 0 & 0 & 0 & 0 & 0 \\\\\n",
       "0 & 0 & 0 & 0 & w^{2} & 0 & 0 & 0 & 0 \\\\\n",
       "0 & 0 & 0 & 0 & 0 & 1 & 0 & 0 & 0\n",
       "\\end{array}\\right)</script></html>"
      ],
      "text/plain": [
       "'S3:' [  0   0   0   0   0   0   1   0   0]\n",
       "[  0   0   0   0   0   0   0   w   0]\n",
       "[  0   0   0   0   0   0   0   0 w^2]\n",
       "[w^2   0   0   0   0   0   0   0   0]\n",
       "[  0   1   0   0   0   0   0   0   0]\n",
       "[  0   0   w   0   0   0   0   0   0]\n",
       "[  0   0   0   w   0   0   0   0   0]\n",
       "[  0   0   0   0 w^2   0   0   0   0]\n",
       "[  0   0   0   0   0   1   0   0   0]"
      ]
     },
     "metadata": {},
     "output_type": "display_data"
    },
    {
     "data": {
      "text/html": [
       "<html><script type=\"math/tex; mode=display\">\\newcommand{\\Bold}[1]{\\mathbf{#1}}\\verb|S4:| \\left(\\begin{array}{rrrrrrrrr}\n",
       "0 & 0 & 0 & 0 & 0 & w^{2} & 0 & 0 & 0 \\\\\n",
       "0 & 0 & 0 & w^{2} & 0 & 0 & 0 & 0 & 0 \\\\\n",
       "0 & 0 & 0 & 0 & w^{2} & 0 & 0 & 0 & 0 \\\\\n",
       "0 & 0 & 0 & 0 & 0 & 0 & 0 & 0 & w^{2} \\\\\n",
       "0 & 0 & 0 & 0 & 0 & 0 & w^{2} & 0 & 0 \\\\\n",
       "0 & 0 & 0 & 0 & 0 & 0 & 0 & w^{2} & 0 \\\\\n",
       "0 & 0 & w^{2} & 0 & 0 & 0 & 0 & 0 & 0 \\\\\n",
       "w^{2} & 0 & 0 & 0 & 0 & 0 & 0 & 0 & 0 \\\\\n",
       "0 & w^{2} & 0 & 0 & 0 & 0 & 0 & 0 & 0\n",
       "\\end{array}\\right)</script></html>"
      ],
      "text/plain": [
       "'S4:' [  0   0   0   0   0 w^2   0   0   0]\n",
       "[  0   0   0 w^2   0   0   0   0   0]\n",
       "[  0   0   0   0 w^2   0   0   0   0]\n",
       "[  0   0   0   0   0   0   0   0 w^2]\n",
       "[  0   0   0   0   0   0 w^2   0   0]\n",
       "[  0   0   0   0   0   0   0 w^2   0]\n",
       "[  0   0 w^2   0   0   0   0   0   0]\n",
       "[w^2   0   0   0   0   0   0   0   0]\n",
       "[  0 w^2   0   0   0   0   0   0   0]"
      ]
     },
     "metadata": {},
     "output_type": "display_data"
    },
    {
     "data": {
      "text/html": [
       "<html><script type=\"math/tex; mode=display\">\\newcommand{\\Bold}[1]{\\mathbf{#1}}\\verb|S5:| \\left(\\begin{array}{rrrrrrrrr}\n",
       "0 & 0 & 0 & 0 & w & 0 & 0 & 0 & 0 \\\\\n",
       "0 & 0 & 0 & 0 & 0 & w^{2} & 0 & 0 & 0 \\\\\n",
       "0 & 0 & 0 & 1 & 0 & 0 & 0 & 0 & 0 \\\\\n",
       "0 & 0 & 0 & 0 & 0 & 0 & 0 & w & 0 \\\\\n",
       "0 & 0 & 0 & 0 & 0 & 0 & 0 & 0 & w^{2} \\\\\n",
       "0 & 0 & 0 & 0 & 0 & 0 & 1 & 0 & 0 \\\\\n",
       "0 & w & 0 & 0 & 0 & 0 & 0 & 0 & 0 \\\\\n",
       "0 & 0 & w^{2} & 0 & 0 & 0 & 0 & 0 & 0 \\\\\n",
       "1 & 0 & 0 & 0 & 0 & 0 & 0 & 0 & 0\n",
       "\\end{array}\\right)</script></html>"
      ],
      "text/plain": [
       "'S5:' [  0   0   0   0   w   0   0   0   0]\n",
       "[  0   0   0   0   0 w^2   0   0   0]\n",
       "[  0   0   0   1   0   0   0   0   0]\n",
       "[  0   0   0   0   0   0   0   w   0]\n",
       "[  0   0   0   0   0   0   0   0 w^2]\n",
       "[  0   0   0   0   0   0   1   0   0]\n",
       "[  0   w   0   0   0   0   0   0   0]\n",
       "[  0   0 w^2   0   0   0   0   0   0]\n",
       "[  1   0   0   0   0   0   0   0   0]"
      ]
     },
     "metadata": {},
     "output_type": "display_data"
    },
    {
     "data": {
      "text/html": [
       "<html><script type=\"math/tex; mode=display\">\\newcommand{\\Bold}[1]{\\mathbf{#1}}\\verb|S6:| \\left(\\begin{array}{rrrrrrrrr}\n",
       "0 & 0 & 0 & w^{2} & 0 & 0 & 0 & 0 & 0 \\\\\n",
       "0 & 0 & 0 & 0 & w & 0 & 0 & 0 & 0 \\\\\n",
       "0 & 0 & 0 & 0 & 0 & 1 & 0 & 0 & 0 \\\\\n",
       "0 & 0 & 0 & 0 & 0 & 0 & w^{2} & 0 & 0 \\\\\n",
       "0 & 0 & 0 & 0 & 0 & 0 & 0 & w & 0 \\\\\n",
       "0 & 0 & 0 & 0 & 0 & 0 & 0 & 0 & 1 \\\\\n",
       "w^{2} & 0 & 0 & 0 & 0 & 0 & 0 & 0 & 0 \\\\\n",
       "0 & w & 0 & 0 & 0 & 0 & 0 & 0 & 0 \\\\\n",
       "0 & 0 & 1 & 0 & 0 & 0 & 0 & 0 & 0\n",
       "\\end{array}\\right)</script></html>"
      ],
      "text/plain": [
       "'S6:' [  0   0   0 w^2   0   0   0   0   0]\n",
       "[  0   0   0   0   w   0   0   0   0]\n",
       "[  0   0   0   0   0   1   0   0   0]\n",
       "[  0   0   0   0   0   0 w^2   0   0]\n",
       "[  0   0   0   0   0   0   0   w   0]\n",
       "[  0   0   0   0   0   0   0   0   1]\n",
       "[w^2   0   0   0   0   0   0   0   0]\n",
       "[  0   w   0   0   0   0   0   0   0]\n",
       "[  0   0   1   0   0   0   0   0   0]"
      ]
     },
     "metadata": {},
     "output_type": "display_data"
    },
    {
     "data": {
      "text/html": [
       "<html><script type=\"math/tex; mode=display\">\\newcommand{\\Bold}[1]{\\mathbf{#1}}\\verb|-------------------|</script></html>"
      ],
      "text/plain": [
       "'-------------------'"
      ]
     },
     "metadata": {},
     "output_type": "display_data"
    },
    {
     "data": {
      "text/html": [
       "<html><script type=\"math/tex; mode=display\">\\newcommand{\\Bold}[1]{\\mathbf{#1}}\\verb|Testing|\\phantom{\\verb!x!}\\verb|B^3:|</script></html>"
      ],
      "text/plain": [
       "'Testing B^3:'"
      ]
     },
     "metadata": {},
     "output_type": "display_data"
    },
    {
     "data": {
      "text/html": [
       "<html><script type=\"math/tex; mode=display\">\\newcommand{\\Bold}[1]{\\mathbf{#1}}\\verb\"B^3|00:\" J_{3}</script></html>"
      ],
      "text/plain": [
       "'B^3|00:' J3"
      ]
     },
     "metadata": {},
     "output_type": "display_data"
    },
    {
     "data": {
      "text/html": [
       "<html><script type=\"math/tex; mode=display\">\\newcommand{\\Bold}[1]{\\mathbf{#1}}\\verb|B^3:| \\left(\\begin{array}{rrrrrrrrr}\n",
       "J_{3} & 3 \\, E Z_{1} w & 0 & 3 \\, Z_{1} q_{1} & 3 \\, Z_{1} q_{3} w^{2} & 3 \\, Z_{1} q_{2} & 3 \\, Z_{1} p_{2} w^{2} & 3 \\, Z_{1} p_{3} w^{2} & 3 \\, Z_{1} p_{1} w \\\\\n",
       "0 & J_{3} & 3 \\, E Z_{1} & 3 \\, Z_{1} q_{2} & 3 \\, Z_{1} q_{1} w^{2} & 3 \\, Z_{1} q_{3} & 3 \\, Z_{1} p_{1} & 3 \\, Z_{1} p_{2} & 3 \\, Z_{1} p_{3} w^{2} \\\\\n",
       "3 \\, E Z_{1} w^{2} & 0 & J_{3} & 3 \\, Z_{1} q_{3} w & 3 \\, Z_{1} q_{2} & 3 \\, Z_{1} q_{1} w & 3 \\, Z_{1} p_{3} w^{2} & 3 \\, Z_{1} p_{1} w^{2} & 3 \\, Z_{1} p_{2} w \\\\\n",
       "3 \\, Z_{1} p_{2} & 3 \\, Z_{1} p_{3} & 3 \\, Z_{1} p_{1} w^{2} & J_{3} & 3 \\, E Z_{1} w & 0 & 3 \\, Z_{1} q_{1} w^{2} & 3 \\, Z_{1} q_{3} w & 3 \\, Z_{1} q_{2} w^{2} \\\\\n",
       "3 \\, Z_{1} p_{1} w & 3 \\, Z_{1} p_{2} w & 3 \\, Z_{1} p_{3} & 0 & J_{3} & 3 \\, E Z_{1} & 3 \\, Z_{1} q_{2} w^{2} & 3 \\, Z_{1} q_{1} w & 3 \\, Z_{1} q_{3} w^{2} \\\\\n",
       "3 \\, Z_{1} p_{3} & 3 \\, Z_{1} p_{1} & 3 \\, Z_{1} p_{2} w^{2} & 3 \\, E Z_{1} w^{2} & 0 & J_{3} & 3 \\, Z_{1} q_{3} & 3 \\, Z_{1} q_{2} w^{2} & 3 \\, Z_{1} q_{1} \\\\\n",
       "3 \\, Z_{1} q_{1} w & 3 \\, Z_{1} q_{3} & 3 \\, Z_{1} q_{2} w & 3 \\, Z_{1} p_{2} w & 3 \\, Z_{1} p_{3} w & 3 \\, Z_{1} p_{1} & J_{3} & 3 \\, E Z_{1} w & 0 \\\\\n",
       "3 \\, Z_{1} q_{2} w & 3 \\, Z_{1} q_{1} & 3 \\, Z_{1} q_{3} w & 3 \\, Z_{1} p_{1} w^{2} & 3 \\, Z_{1} p_{2} w^{2} & 3 \\, Z_{1} p_{3} w & 0 & J_{3} & 3 \\, E Z_{1} \\\\\n",
       "3 \\, Z_{1} q_{3} w^{2} & 3 \\, Z_{1} q_{2} w & 3 \\, Z_{1} q_{1} w^{2} & 3 \\, Z_{1} p_{3} w & 3 \\, Z_{1} p_{1} w & 3 \\, Z_{1} p_{2} & 3 \\, E Z_{1} w^{2} & 0 & J_{3}\n",
       "\\end{array}\\right)</script></html>"
      ],
      "text/plain": [
       "'B^3:' [         J3    3*E*Z1*w           0     3*Z1*q1 3*Z1*q3*w^2     3*Z1*q2 3*Z1*p2*w^2 3*Z1*p3*w^2   3*Z1*p1*w]\n",
       "[          0          J3      3*E*Z1     3*Z1*q2 3*Z1*q1*w^2     3*Z1*q3     3*Z1*p1     3*Z1*p2 3*Z1*p3*w^2]\n",
       "[ 3*E*Z1*w^2           0          J3   3*Z1*q3*w     3*Z1*q2   3*Z1*q1*w 3*Z1*p3*w^2 3*Z1*p1*w^2   3*Z1*p2*w]\n",
       "[    3*Z1*p2     3*Z1*p3 3*Z1*p1*w^2          J3    3*E*Z1*w           0 3*Z1*q1*w^2   3*Z1*q3*w 3*Z1*q2*w^2]\n",
       "[  3*Z1*p1*w   3*Z1*p2*w     3*Z1*p3           0          J3      3*E*Z1 3*Z1*q2*w^2   3*Z1*q1*w 3*Z1*q3*w^2]\n",
       "[    3*Z1*p3     3*Z1*p1 3*Z1*p2*w^2  3*E*Z1*w^2           0          J3     3*Z1*q3 3*Z1*q2*w^2     3*Z1*q1]\n",
       "[  3*Z1*q1*w     3*Z1*q3   3*Z1*q2*w   3*Z1*p2*w   3*Z1*p3*w     3*Z1*p1          J3    3*E*Z1*w           0]\n",
       "[  3*Z1*q2*w     3*Z1*q1   3*Z1*q3*w 3*Z1*p1*w^2 3*Z1*p2*w^2   3*Z1*p3*w           0          J3      3*E*Z1]\n",
       "[3*Z1*q3*w^2   3*Z1*q2*w 3*Z1*q1*w^2   3*Z1*p3*w   3*Z1*p1*w     3*Z1*p2  3*E*Z1*w^2           0          J3]"
      ]
     },
     "metadata": {},
     "output_type": "display_data"
    }
   ],
   "source": [
    "# construct our q = 3 1-form Pauli matrices:\n",
    "# Lorentz version:\n",
    "if not use_rotation:\n",
    "    ZZ3 = matrix([[0,0,0],[0,0,0],[0,0,0]])\n",
    "    I3 = matrix([[1,0,0],[0,1,0],[0,0,1]])\n",
    "    T1 = matrix([[0,1,0],[0,0,1],[1,0,0]])\n",
    "    T2 = matrix([[0,0,w^2],[w,0,0],[0,1,0]])\n",
    "    T3 = matrix([[1,0,0],[0,w,0],[0,0,w^2]])\n",
    "    T4 = matrix([[0, 0, w], [w^2,0,0],[0,1,0]])\n",
    "    Tau1 = matrix_w_mod(T2*T3)\n",
    "    Tau2 = matrix_w_mod(T3*T1)\n",
    "    Tau3 = matrix_w_mod(T1*T2)\n",
    "    Tau4 = matrix([[0,w^2,0],[0,0,w],[1,0,0]])\n",
    "\n",
    "# Rotation version:\n",
    "if use_rotation:\n",
    "    ZZ3 = matrix([[0,0,0],[0,0,0],[0,0,0]])\n",
    "    I3 = matrix([[1,0,0],[0,1,0],[0,0,1]])\n",
    "    T1 = matrix([[0,1,0],[0,0,1],[1,0,0]])\n",
    "    T2 = - matrix([[0,0,w^2],[w,0,0],[0,1,0]])\n",
    "    T3 = matrix([[1,0,0],[0,w,0],[0,0,w^2]])\n",
    "    Tau1 = matrix_w_mod(- T2*T3)\n",
    "    Tau2 = matrix_w_mod(- T3*T1)\n",
    "    Tau3 = matrix_w_mod(- T1*T2)\n",
    "\n",
    "test_1 = p1*T1 + p2*T2 + p3*T3\n",
    "test_2 = q1*Tau1 + q2*Tau2 + q3*Tau3\n",
    "\n",
    "show('Testing our q = 3 Pauli matrices cube property:')\n",
    "show('test1:', matrix_expand_w(matrix_w_mod(test_1^3)))\n",
    "show('test2:', matrix_expand_w(matrix_w_mod(test_2^3)))\n",
    "show('-------------')\n",
    "\n",
    "# construct our q = 3 Dirac matrices:\n",
    "if not use_rotation:\n",
    "    I9 = I3.tensor_product(I3)\n",
    "    ZZ9 = ZZ3.tensor_product(ZZ3)\n",
    "    S0 = T3.tensor_product(I3)\n",
    "\n",
    "    S1 = w*T2.tensor_product(T1)\n",
    "    S2 = w*T2.tensor_product(T2)\n",
    "    S3 = w*T2.tensor_product(T3)\n",
    "\n",
    "    S4 = w*T1.tensor_product(Tau1)\n",
    "    S5 = w*T1.tensor_product(Tau2)\n",
    "    S6 = w*T1.tensor_product(Tau3)\n",
    "\n",
    "    \n",
    "# Rotation version:\n",
    "if use_rotation:\n",
    "    I9 = I3.tensor_product(I3)\n",
    "    ZZ9 = ZZ3.tensor_product(ZZ3)\n",
    "    S0 = T3.tensor_product(I3)\n",
    "\n",
    "    S1 = - w*T2.tensor_product(T1)\n",
    "    S2 = - w*T2.tensor_product(T2)\n",
    "    S3 = - w*T2.tensor_product(T3)\n",
    "\n",
    "    S4 = w*T1.tensor_product(Tau1)\n",
    "    S5 = w*T1.tensor_product(Tau2)\n",
    "    S6 = w*T1.tensor_product(Tau3)\n",
    "\n",
    "M = S0*S1*S2*S3*S4*S5*S6\n",
    "\n",
    "# Now w_mod them:\n",
    "S1 = matrix_w_mod(S1)\n",
    "S2 = matrix_w_mod(S2)\n",
    "S3 = matrix_w_mod(S3)\n",
    "S4 = matrix_w_mod(S4)\n",
    "S5 = matrix_w_mod(S5)\n",
    "S6 = matrix_w_mod(S6)\n",
    "\n",
    "M = matrix_w_mod(M)\n",
    "\n",
    "show('Our q = 3 Dirac matrices:')\n",
    "show('S0:', S0)\n",
    "show('S1:', S1)\n",
    "show('S2:', S2)\n",
    "show('S3:', S3)\n",
    "show('S4:', S4)\n",
    "show('S5:', S5)\n",
    "show('S6:', S6)\n",
    "\n",
    "show('-------------------')\n",
    "show('Testing B^3:')\n",
    "B = E*S0 + p1*S1 + p2*S2 + p3*S3 + q1*S4 + q2*S5 + q3*S6\n",
    "show('B^3|00:', improved_tidy(matrix_expand_w(matrix_w_mod(B^3))[0,0]))\n",
    "show('B^3:', matrix_improved_tidy(matrix_expand_w(matrix_w_mod(B^3))))"
   ]
  },
  {
   "cell_type": "code",
   "execution_count": 3,
   "metadata": {},
   "outputs": [
    {
     "data": {
      "text/html": [
       "<html><script type=\"math/tex; mode=display\">\\newcommand{\\Bold}[1]{\\mathbf{#1}}\\verb|The|\\phantom{\\verb!x!}\\verb|dim|\\phantom{\\verb!x!}\\verb|=|\\phantom{\\verb!x!}\\verb|4,|\\phantom{\\verb!x!}\\verb|q|\\phantom{\\verb!x!}\\verb|=|\\phantom{\\verb!x!}\\verb|3|\\phantom{\\verb!x!}\\verb|k-form|\\phantom{\\verb!x!}\\verb|dimension|\\phantom{\\verb!x!}\\verb|table:|</script></html>"
      ],
      "text/plain": [
       "'The dim = 4, q = 3 k-form dimension table:'"
      ]
     },
     "metadata": {},
     "output_type": "display_data"
    },
    {
     "data": {
      "text/html": [
       "<div class=\"notruncate\">\n",
       "<table  class=\"table_form\">\n",
       "<tbody>\n",
       "<tr>\n",
       "<th>k</th>\n",
       "<th>dim</th>\n",
       "<th>basis</th>\n",
       "</tr>\n",
       "<tr class =\"row-a\">\n",
       "<td><script type=\"math/tex\">0</script></td>\n",
       "<td><script type=\"math/tex\">1</script></td>\n",
       "<td></td>\n",
       "</tr>\n",
       "<tr class =\"row-b\">\n",
       "<td><script type=\"math/tex\">1</script></td>\n",
       "<td><script type=\"math/tex\">7</script></td>\n",
       "<td>0 1 2 3 4 5 6</td>\n",
       "</tr>\n",
       "<tr class =\"row-a\">\n",
       "<td><script type=\"math/tex\">2</script></td>\n",
       "<td><script type=\"math/tex\">28</script></td>\n",
       "<td>00 01 02 03 04 05 06 11 12 13 14 15 16 22 23 24 25 26 33 34 35 36 44 45 46 55 56 66</td>\n",
       "</tr>\n",
       "<tr class =\"row-b\">\n",
       "<td><script type=\"math/tex\">3</script></td>\n",
       "<td><script type=\"math/tex\">77</script></td>\n",
       "<td>001 002 003 004 005 006 011 012 013 014 015 016 022 023 024 025 026 033 034 035 036 044 045 046 055 056 066 112 113 114 115 116 122 123 124 125 126 133 134 135 136 144 145 146 155 156 166 223 224 225 226 233 234 235 236 244 245 246 255 256 266 334 335 336 344 345 346 355 356 366 445 446 455 456 466 556 566</td>\n",
       "</tr>\n",
       "<tr class =\"row-a\">\n",
       "<td><script type=\"math/tex\">4</script></td>\n",
       "<td><script type=\"math/tex\">161</script></td>\n",
       "<td>0011 0012 0013 0014 0015 0016 0022 0023 0024 0025 0026 0033 0034 0035 0036 0044 0045 0046 0055 0056 0066 0112 0113 0114 0115 0116 0122 0123 0124 0125 0126 0133 0134 0135 0136 0144 0145 0146 0155 0156 0166 0223 0224 0225 0226 0233 0234 0235 0236 0244 0245 0246 0255 0256 0266 0334 0335 0336 0344 0345 0346 0355 0356 0366 0445 0446 0455 0456 0466 0556 0566 1122 1123 1124 1125 1126 1133 1134 1135 1136 1144 1145 1146 1155 1156 1166 1223 1224 1225 1226 1233 1234 1235 1236 1244 1245 1246 1255 1256 1266 1334 1335 1336 1344 1345 1346 1355 1356 1366 1445 1446 1455 1456 1466 1556 1566 2233 2234 2235 2236 2244 2245 2246 2255 2256 2266 2334 2335 2336 2344 2345 2346 2355 2356 2366 2445 2446 2455 2456 2466 2556 2566 3344 3345 3346 3355 3356 3366 3445 3446 3455 3456 3466 3556 3566 4455 4456 4466 4556 4566 5566</td>\n",
       "</tr>\n",
       "<tr class =\"row-b\">\n",
       "<td><script type=\"math/tex\">5</script></td>\n",
       "<td><script type=\"math/tex\">266</script></td>\n",
       "<td>00112 00113 00114 00115 00116 00122 00123 00124 00125 00126 00133 00134 00135 00136 00144 00145 00146 00155 00156 00166 00223 00224 00225 00226 00233 00234 00235 00236 00244 00245 00246 00255 00256 00266 00334 00335 00336 00344 00345 00346 00355 00356 00366 00445 00446 00455 00456 00466 00556 00566 01122 01123 01124 01125 01126 01133 01134 01135 01136 01144 01145 01146 01155 01156 01166 01223 01224 01225 01226 01233 01234 01235 01236 01244 01245 01246 01255 01256 01266 01334 01335 01336 01344 01345 01346 01355 01356 01366 01445 01446 01455 01456 01466 01556 01566 02233 02234 02235 02236 02244 02245 02246 02255 02256 02266 02334 02335 02336 02344 02345 02346 02355 02356 02366 02445 02446 02455 02456 02466 02556 02566 03344 03345 03346 03355 03356 03366 03445 03446 03455 03456 03466 03556 03566 04455 04456 04466 04556 04566 05566 11223 11224 11225 11226 11233 11234 11235 11236 11244 11245 11246 11255 11256 11266 11334 11335 11336 11344 11345 11346 11355 11356 11366 11445 11446 11455 11456 11466 11556 11566 12233 12234 12235 12236 12244 12245 12246 12255 12256 12266 12334 12335 12336 12344 12345 12346 12355 12356 12366 12445 12446 12455 12456 12466 12556 12566 13344 13345 13346 13355 13356 13366 13445 13446 13455 13456 13466 13556 13566 14455 14456 14466 14556 14566 15566 22334 22335 22336 22344 22345 22346 22355 22356 22366 22445 22446 22455 22456 22466 22556 22566 23344 23345 23346 23355 23356 23366 23445 23446 23455 23456 23466 23556 23566 24455 24456 24466 24556 24566 25566 33445 33446 33455 33456 33466 33556 33566 34455 34456 34466 34556 34566 35566 44556 44566 45566</td>\n",
       "</tr>\n",
       "<tr class =\"row-a\">\n",
       "<td><script type=\"math/tex\">6</script></td>\n",
       "<td><script type=\"math/tex\">357</script></td>\n",
       "<td>001122 001123 001124 001125 001126 001133 001134 001135 001136 001144 001145 001146 001155 001156 001166 001223 001224 001225 001226 001233 001234 001235 001236 001244 001245 001246 001255 001256 001266 001334 001335 001336 001344 001345 001346 001355 001356 001366 001445 001446 001455 001456 001466 001556 001566 002233 002234 002235 002236 002244 002245 002246 002255 002256 002266 002334 002335 002336 002344 002345 002346 002355 002356 002366 002445 002446 002455 002456 002466 002556 002566 003344 003345 003346 003355 003356 003366 003445 003446 003455 003456 003466 003556 003566 004455 004456 004466 004556 004566 005566 011223 011224 011225 011226 011233 011234 011235 011236 011244 011245 011246 011255 011256 011266 011334 011335 011336 011344 011345 011346 011355 011356 011366 011445 011446 011455 011456 011466 011556 011566 012233 012234 012235 012236 012244 012245 012246 012255 012256 012266 012334 012335 012336 012344 012345 012346 012355 012356 012366 012445 012446 012455 012456 012466 012556 012566 013344 013345 013346 013355 013356 013366 013445 013446 013455 013456 013466 013556 013566 014455 014456 014466 014556 014566 015566 022334 022335 022336 022344 022345 022346 022355 022356 022366 022445 022446 022455 022456 022466 022556 022566 023344 023345 023346 023355 023356 023366 023445 023446 023455 023456 023466 023556 023566 024455 024456 024466 024556 024566 025566 033445 033446 033455 033456 033466 033556 033566 034455 034456 034466 034556 034566 035566 044556 044566 045566 112233 112234 112235 112236 112244 112245 112246 112255 112256 112266 112334 112335 112336 112344 112345 112346 112355 112356 112366 112445 112446 112455 112456 112466 112556 112566 113344 113345 113346 113355 113356 113366 113445 113446 113455 113456 113466 113556 113566 114455 114456 114466 114556 114566 115566 122334 122335 122336 122344 122345 122346 122355 122356 122366 122445 122446 122455 122456 122466 122556 122566 123344 123345 123346 123355 123356 123366 123445 123446 123455 123456 123466 123556 123566 124455 124456 124466 124556 124566 125566 133445 133446 133455 133456 133466 133556 133566 134455 134456 134466 134556 134566 135566 144556 144566 145566 223344 223345 223346 223355 223356 223366 223445 223446 223455 223456 223466 223556 223566 224455 224456 224466 224556 224566 225566 233445 233446 233455 233456 233466 233556 233566 234455 234456 234466 234556 234566 235566 244556 244566 245566 334455 334456 334466 334556 334566 335566 344556 344566 345566 445566</td>\n",
       "</tr>\n",
       "<tr class =\"row-b\">\n",
       "<td><script type=\"math/tex\">7</script></td>\n",
       "<td><script type=\"math/tex\">393</script></td>\n",
       "<td>0011223 0011224 0011225 0011226 0011233 0011234 0011235 0011236 0011244 0011245 0011246 0011255 0011256 0011266 0011334 0011335 0011336 0011344 0011345 0011346 0011355 0011356 0011366 0011445 0011446 0011455 0011456 0011466 0011556 0011566 0012233 0012234 0012235 0012236 0012244 0012245 0012246 0012255 0012256 0012266 0012334 0012335 0012336 0012344 0012345 0012346 0012355 0012356 0012366 0012445 0012446 0012455 0012456 0012466 0012556 0012566 0013344 0013345 0013346 0013355 0013356 0013366 0013445 0013446 0013455 0013456 0013466 0013556 0013566 0014455 0014456 0014466 0014556 0014566 0015566 0022334 0022335 0022336 0022344 0022345 0022346 0022355 0022356 0022366 0022445 0022446 0022455 0022456 0022466 0022556 0022566 0023344 0023345 0023346 0023355 0023356 0023366 0023445 0023446 0023455 0023456 0023466 0023556 0023566 0024455 0024456 0024466 0024556 0024566 0025566 0033445 0033446 0033455 0033456 0033466 0033556 0033566 0034455 0034456 0034466 0034556 0034566 0035566 0044556 0044566 0045566 0112233 0112234 0112235 0112236 0112244 0112245 0112246 0112255 0112256 0112266 0112334 0112335 0112336 0112344 0112345 0112346 0112355 0112356 0112366 0112445 0112446 0112455 0112456 0112466 0112556 0112566 0113344 0113345 0113346 0113355 0113356 0113366 0113445 0113446 0113455 0113456 0113466 0113556 0113566 0114455 0114456 0114466 0114556 0114566 0115566 0122334 0122335 0122336 0122344 0122345 0122346 0122355 0122356 0122366 0122445 0122446 0122455 0122456 0122466 0122556 0122566 0123344 0123345 0123346 0123355 0123356 0123366 0123445 0123446 0123455 0123456 0123466 0123556 0123566 0124455 0124456 0124466 0124556 0124566 0125566 0133445 0133446 0133455 0133456 0133466 0133556 0133566 0134455 0134456 0134466 0134556 0134566 0135566 0144556 0144566 0145566 0223344 0223345 0223346 0223355 0223356 0223366 0223445 0223446 0223455 0223456 0223466 0223556 0223566 0224455 0224456 0224466 0224556 0224566 0225566 0233445 0233446 0233455 0233456 0233466 0233556 0233566 0234455 0234456 0234466 0234556 0234566 0235566 0244556 0244566 0245566 0334455 0334456 0334466 0334556 0334566 0335566 0344556 0344566 0345566 0445566 1122334 1122335 1122336 1122344 1122345 1122346 1122355 1122356 1122366 1122445 1122446 1122455 1122456 1122466 1122556 1122566 1123344 1123345 1123346 1123355 1123356 1123366 1123445 1123446 1123455 1123456 1123466 1123556 1123566 1124455 1124456 1124466 1124556 1124566 1125566 1133445 1133446 1133455 1133456 1133466 1133556 1133566 1134455 1134456 1134466 1134556 1134566 1135566 1144556 1144566 1145566 1223344 1223345 1223346 1223355 1223356 1223366 1223445 1223446 1223455 1223456 1223466 1223556 1223566 1224455 1224456 1224466 1224556 1224566 1225566 1233445 1233446 1233455 1233456 1233466 1233556 1233566 1234455 1234456 1234466 1234556 1234566 1235566 1244556 1244566 1245566 1334455 1334456 1334466 1334556 1334566 1335566 1344556 1344566 1345566 1445566 2233445 2233446 2233455 2233456 2233466 2233556 2233566 2234455 2234456 2234466 2234556 2234566 2235566 2244556 2244566 2245566 2334455 2334456 2334466 2334556 2334566 2335566 2344556 2344566 2345566 2445566 3344556 3344566 3345566 3445566</td>\n",
       "</tr>\n",
       "<tr class =\"row-a\">\n",
       "<td><script type=\"math/tex\">8</script></td>\n",
       "<td><script type=\"math/tex\">357</script></td>\n",
       "<td>00112233 00112234 00112235 00112236 00112244 00112245 00112246 00112255 00112256 00112266 00112334 00112335 00112336 00112344 00112345 00112346 00112355 00112356 00112366 00112445 00112446 00112455 00112456 00112466 00112556 00112566 00113344 00113345 00113346 00113355 00113356 00113366 00113445 00113446 00113455 00113456 00113466 00113556 00113566 00114455 00114456 00114466 00114556 00114566 00115566 00122334 00122335 00122336 00122344 00122345 00122346 00122355 00122356 00122366 00122445 00122446 00122455 00122456 00122466 00122556 00122566 00123344 00123345 00123346 00123355 00123356 00123366 00123445 00123446 00123455 00123456 00123466 00123556 00123566 00124455 00124456 00124466 00124556 00124566 00125566 00133445 00133446 00133455 00133456 00133466 00133556 00133566 00134455 00134456 00134466 00134556 00134566 00135566 00144556 00144566 00145566 00223344 00223345 00223346 00223355 00223356 00223366 00223445 00223446 00223455 00223456 00223466 00223556 00223566 00224455 00224456 00224466 00224556 00224566 00225566 00233445 00233446 00233455 00233456 00233466 00233556 00233566 00234455 00234456 00234466 00234556 00234566 00235566 00244556 00244566 00245566 00334455 00334456 00334466 00334556 00334566 00335566 00344556 00344566 00345566 00445566 01122334 01122335 01122336 01122344 01122345 01122346 01122355 01122356 01122366 01122445 01122446 01122455 01122456 01122466 01122556 01122566 01123344 01123345 01123346 01123355 01123356 01123366 01123445 01123446 01123455 01123456 01123466 01123556 01123566 01124455 01124456 01124466 01124556 01124566 01125566 01133445 01133446 01133455 01133456 01133466 01133556 01133566 01134455 01134456 01134466 01134556 01134566 01135566 01144556 01144566 01145566 01223344 01223345 01223346 01223355 01223356 01223366 01223445 01223446 01223455 01223456 01223466 01223556 01223566 01224455 01224456 01224466 01224556 01224566 01225566 01233445 01233446 01233455 01233456 01233466 01233556 01233566 01234455 01234456 01234466 01234556 01234566 01235566 01244556 01244566 01245566 01334455 01334456 01334466 01334556 01334566 01335566 01344556 01344566 01345566 01445566 02233445 02233446 02233455 02233456 02233466 02233556 02233566 02234455 02234456 02234466 02234556 02234566 02235566 02244556 02244566 02245566 02334455 02334456 02334466 02334556 02334566 02335566 02344556 02344566 02345566 02445566 03344556 03344566 03345566 03445566 11223344 11223345 11223346 11223355 11223356 11223366 11223445 11223446 11223455 11223456 11223466 11223556 11223566 11224455 11224456 11224466 11224556 11224566 11225566 11233445 11233446 11233455 11233456 11233466 11233556 11233566 11234455 11234456 11234466 11234556 11234566 11235566 11244556 11244566 11245566 11334455 11334456 11334466 11334556 11334566 11335566 11344556 11344566 11345566 11445566 12233445 12233446 12233455 12233456 12233466 12233556 12233566 12234455 12234456 12234466 12234556 12234566 12235566 12244556 12244566 12245566 12334455 12334456 12334466 12334556 12334566 12335566 12344556 12344566 12345566 12445566 13344556 13344566 13345566 13445566 22334455 22334456 22334466 22334556 22334566 22335566 22344556 22344566 22345566 22445566 23344556 23344566 23345566 23445566 33445566</td>\n",
       "</tr>\n",
       "<tr class =\"row-b\">\n",
       "<td><script type=\"math/tex\">9</script></td>\n",
       "<td><script type=\"math/tex\">266</script></td>\n",
       "<td>001122334 001122335 001122336 001122344 001122345 001122346 001122355 001122356 001122366 001122445 001122446 001122455 001122456 001122466 001122556 001122566 001123344 001123345 001123346 001123355 001123356 001123366 001123445 001123446 001123455 001123456 001123466 001123556 001123566 001124455 001124456 001124466 001124556 001124566 001125566 001133445 001133446 001133455 001133456 001133466 001133556 001133566 001134455 001134456 001134466 001134556 001134566 001135566 001144556 001144566 001145566 001223344 001223345 001223346 001223355 001223356 001223366 001223445 001223446 001223455 001223456 001223466 001223556 001223566 001224455 001224456 001224466 001224556 001224566 001225566 001233445 001233446 001233455 001233456 001233466 001233556 001233566 001234455 001234456 001234466 001234556 001234566 001235566 001244556 001244566 001245566 001334455 001334456 001334466 001334556 001334566 001335566 001344556 001344566 001345566 001445566 002233445 002233446 002233455 002233456 002233466 002233556 002233566 002234455 002234456 002234466 002234556 002234566 002235566 002244556 002244566 002245566 002334455 002334456 002334466 002334556 002334566 002335566 002344556 002344566 002345566 002445566 003344556 003344566 003345566 003445566 011223344 011223345 011223346 011223355 011223356 011223366 011223445 011223446 011223455 011223456 011223466 011223556 011223566 011224455 011224456 011224466 011224556 011224566 011225566 011233445 011233446 011233455 011233456 011233466 011233556 011233566 011234455 011234456 011234466 011234556 011234566 011235566 011244556 011244566 011245566 011334455 011334456 011334466 011334556 011334566 011335566 011344556 011344566 011345566 011445566 012233445 012233446 012233455 012233456 012233466 012233556 012233566 012234455 012234456 012234466 012234556 012234566 012235566 012244556 012244566 012245566 012334455 012334456 012334466 012334556 012334566 012335566 012344556 012344566 012345566 012445566 013344556 013344566 013345566 013445566 022334455 022334456 022334466 022334556 022334566 022335566 022344556 022344566 022345566 022445566 023344556 023344566 023345566 023445566 033445566 112233445 112233446 112233455 112233456 112233466 112233556 112233566 112234455 112234456 112234466 112234556 112234566 112235566 112244556 112244566 112245566 112334455 112334456 112334466 112334556 112334566 112335566 112344556 112344566 112345566 112445566 113344556 113344566 113345566 113445566 122334455 122334456 122334466 122334556 122334566 122335566 122344556 122344566 122345566 122445566 123344556 123344566 123345566 123445566 133445566 223344556 223344566 223345566 223445566 233445566</td>\n",
       "</tr>\n",
       "<tr class =\"row-a\">\n",
       "<td><script type=\"math/tex\">10</script></td>\n",
       "<td><script type=\"math/tex\">161</script></td>\n",
       "<td>0011223344 0011223345 0011223346 0011223355 0011223356 0011223366 0011223445 0011223446 0011223455 0011223456 0011223466 0011223556 0011223566 0011224455 0011224456 0011224466 0011224556 0011224566 0011225566 0011233445 0011233446 0011233455 0011233456 0011233466 0011233556 0011233566 0011234455 0011234456 0011234466 0011234556 0011234566 0011235566 0011244556 0011244566 0011245566 0011334455 0011334456 0011334466 0011334556 0011334566 0011335566 0011344556 0011344566 0011345566 0011445566 0012233445 0012233446 0012233455 0012233456 0012233466 0012233556 0012233566 0012234455 0012234456 0012234466 0012234556 0012234566 0012235566 0012244556 0012244566 0012245566 0012334455 0012334456 0012334466 0012334556 0012334566 0012335566 0012344556 0012344566 0012345566 0012445566 0013344556 0013344566 0013345566 0013445566 0022334455 0022334456 0022334466 0022334556 0022334566 0022335566 0022344556 0022344566 0022345566 0022445566 0023344556 0023344566 0023345566 0023445566 0033445566 0112233445 0112233446 0112233455 0112233456 0112233466 0112233556 0112233566 0112234455 0112234456 0112234466 0112234556 0112234566 0112235566 0112244556 0112244566 0112245566 0112334455 0112334456 0112334466 0112334556 0112334566 0112335566 0112344556 0112344566 0112345566 0112445566 0113344556 0113344566 0113345566 0113445566 0122334455 0122334456 0122334466 0122334556 0122334566 0122335566 0122344556 0122344566 0122345566 0122445566 0123344556 0123344566 0123345566 0123445566 0133445566 0223344556 0223344566 0223345566 0223445566 0233445566 1122334455 1122334456 1122334466 1122334556 1122334566 1122335566 1122344556 1122344566 1122345566 1122445566 1123344556 1123344566 1123345566 1123445566 1133445566 1223344556 1223344566 1223345566 1223445566 1233445566 2233445566</td>\n",
       "</tr>\n",
       "<tr class =\"row-b\">\n",
       "<td><script type=\"math/tex\">11</script></td>\n",
       "<td><script type=\"math/tex\">77</script></td>\n",
       "<td>00112233445 00112233446 00112233455 00112233456 00112233466 00112233556 00112233566 00112234455 00112234456 00112234466 00112234556 00112234566 00112235566 00112244556 00112244566 00112245566 00112334455 00112334456 00112334466 00112334556 00112334566 00112335566 00112344556 00112344566 00112345566 00112445566 00113344556 00113344566 00113345566 00113445566 00122334455 00122334456 00122334466 00122334556 00122334566 00122335566 00122344556 00122344566 00122345566 00122445566 00123344556 00123344566 00123345566 00123445566 00133445566 00223344556 00223344566 00223345566 00223445566 00233445566 01122334455 01122334456 01122334466 01122334556 01122334566 01122335566 01122344556 01122344566 01122345566 01122445566 01123344556 01123344566 01123345566 01123445566 01133445566 01223344556 01223344566 01223345566 01223445566 01233445566 02233445566 11223344556 11223344566 11223345566 11223445566 11233445566 12233445566</td>\n",
       "</tr>\n",
       "<tr class =\"row-a\">\n",
       "<td><script type=\"math/tex\">12</script></td>\n",
       "<td><script type=\"math/tex\">28</script></td>\n",
       "<td>001122334455 001122334456 001122334466 001122334556 001122334566 001122335566 001122344556 001122344566 001122345566 001122445566 001123344556 001123344566 001123345566 001123445566 001133445566 001223344556 001223344566 001223345566 001223445566 001233445566 002233445566 011223344556 011223344566 011223345566 011223445566 011233445566 012233445566 112233445566</td>\n",
       "</tr>\n",
       "<tr class =\"row-b\">\n",
       "<td><script type=\"math/tex\">13</script></td>\n",
       "<td><script type=\"math/tex\">7</script></td>\n",
       "<td>0011223344556 0011223344566 0011223345566 0011223445566 0011233445566 0012233445566 0112233445566</td>\n",
       "</tr>\n",
       "<tr class =\"row-a\">\n",
       "<td><script type=\"math/tex\">14</script></td>\n",
       "<td><script type=\"math/tex\">1</script></td>\n",
       "<td>00112233445566</td>\n",
       "</tr>\n",
       "</tbody>\n",
       "</table>\n",
       "</div>"
      ],
      "text/plain": [
       "  k    dim   basis\n",
       "+----+-----+----------------------------------------------------------------------------------------------------------------------------------------------------------------------------------------------------------------------------------------------------------------------------------------------------------------------------------------------------------------------------------------------------------------------------------------------------------------------------------------------------------------------------------------------------------------------------------------------------------------------------------------------------------------------------------------------------------------------------------------------------------------------------------------------------------------------------------------------------------------------------------------------------------------------------------------------------------------------------------------------------------------------------------------------------------------------------------------------------------------------------------------------------------------------------------------------------------------------------------------------------------------------------------------------------------------------------------------------------------------------------------------------------------------------------------------------------------------------------------------------------------------------------------------------------------------------------------------------------------------------------------------------------------------------------------------------------------------------------------------------------------------------------------------------------------------------------------------------------------------------------------------------------------------------------------------------------------------------------------------------------------------------------------------------------------------------------------------------------------------------------------------------------------------------------------------------------------------------------------------------------------------------------------------------------------------------------------------------------------------------------------------------------------------------------------------------------------------------------------------------------------------------------------------------------------------------------------------------------------------------------------------------------------------------------------------------------------------------------------------------------------------------------------------------------------------------------------------------------------------------------------------------------------------------------------------------------------------------------------------------------------------------------------------------------------------------------------------------------------------------------------------------------------------------------------------------------------------------------------------------------------------------------------------------------------------------------------------------+\n",
       "  0    1\n",
       "  1    7     0 1 2 3 4 5 6\n",
       "  2    28    00 01 02 03 04 05 06 11 12 13 14 15 16 22 23 24 25 26 33 34 35 36 44 45 46 55 56 66\n",
       "  3    77    001 002 003 004 005 006 011 012 013 014 015 016 022 023 024 025 026 033 034 035 036 044 045 046 055 056 066 112 113 114 115 116 122 123 124 125 126 133 134 135 136 144 145 146 155 156 166 223 224 225 226 233 234 235 236 244 245 246 255 256 266 334 335 336 344 345 346 355 356 366 445 446 455 456 466 556 566\n",
       "  4    161   0011 0012 0013 0014 0015 0016 0022 0023 0024 0025 0026 0033 0034 0035 0036 0044 0045 0046 0055 0056 0066 0112 0113 0114 0115 0116 0122 0123 0124 0125 0126 0133 0134 0135 0136 0144 0145 0146 0155 0156 0166 0223 0224 0225 0226 0233 0234 0235 0236 0244 0245 0246 0255 0256 0266 0334 0335 0336 0344 0345 0346 0355 0356 0366 0445 0446 0455 0456 0466 0556 0566 1122 1123 1124 1125 1126 1133 1134 1135 1136 1144 1145 1146 1155 1156 1166 1223 1224 1225 1226 1233 1234 1235 1236 1244 1245 1246 1255 1256 1266 1334 1335 1336 1344 1345 1346 1355 1356 1366 1445 1446 1455 1456 1466 1556 1566 2233 2234 2235 2236 2244 2245 2246 2255 2256 2266 2334 2335 2336 2344 2345 2346 2355 2356 2366 2445 2446 2455 2456 2466 2556 2566 3344 3345 3346 3355 3356 3366 3445 3446 3455 3456 3466 3556 3566 4455 4456 4466 4556 4566 5566\n",
       "  5    266   00112 00113 00114 00115 00116 00122 00123 00124 00125 00126 00133 00134 00135 00136 00144 00145 00146 00155 00156 00166 00223 00224 00225 00226 00233 00234 00235 00236 00244 00245 00246 00255 00256 00266 00334 00335 00336 00344 00345 00346 00355 00356 00366 00445 00446 00455 00456 00466 00556 00566 01122 01123 01124 01125 01126 01133 01134 01135 01136 01144 01145 01146 01155 01156 01166 01223 01224 01225 01226 01233 01234 01235 01236 01244 01245 01246 01255 01256 01266 01334 01335 01336 01344 01345 01346 01355 01356 01366 01445 01446 01455 01456 01466 01556 01566 02233 02234 02235 02236 02244 02245 02246 02255 02256 02266 02334 02335 02336 02344 02345 02346 02355 02356 02366 02445 02446 02455 02456 02466 02556 02566 03344 03345 03346 03355 03356 03366 03445 03446 03455 03456 03466 03556 03566 04455 04456 04466 04556 04566 05566 11223 11224 11225 11226 11233 11234 11235 11236 11244 11245 11246 11255 11256 11266 11334 11335 11336 11344 11345 11346 11355 11356 11366 11445 11446 11455 11456 11466 11556 11566 12233 12234 12235 12236 12244 12245 12246 12255 12256 12266 12334 12335 12336 12344 12345 12346 12355 12356 12366 12445 12446 12455 12456 12466 12556 12566 13344 13345 13346 13355 13356 13366 13445 13446 13455 13456 13466 13556 13566 14455 14456 14466 14556 14566 15566 22334 22335 22336 22344 22345 22346 22355 22356 22366 22445 22446 22455 22456 22466 22556 22566 23344 23345 23346 23355 23356 23366 23445 23446 23455 23456 23466 23556 23566 24455 24456 24466 24556 24566 25566 33445 33446 33455 33456 33466 33556 33566 34455 34456 34466 34556 34566 35566 44556 44566 45566\n",
       "  6    357   001122 001123 001124 001125 001126 001133 001134 001135 001136 001144 001145 001146 001155 001156 001166 001223 001224 001225 001226 001233 001234 001235 001236 001244 001245 001246 001255 001256 001266 001334 001335 001336 001344 001345 001346 001355 001356 001366 001445 001446 001455 001456 001466 001556 001566 002233 002234 002235 002236 002244 002245 002246 002255 002256 002266 002334 002335 002336 002344 002345 002346 002355 002356 002366 002445 002446 002455 002456 002466 002556 002566 003344 003345 003346 003355 003356 003366 003445 003446 003455 003456 003466 003556 003566 004455 004456 004466 004556 004566 005566 011223 011224 011225 011226 011233 011234 011235 011236 011244 011245 011246 011255 011256 011266 011334 011335 011336 011344 011345 011346 011355 011356 011366 011445 011446 011455 011456 011466 011556 011566 012233 012234 012235 012236 012244 012245 012246 012255 012256 012266 012334 012335 012336 012344 012345 012346 012355 012356 012366 012445 012446 012455 012456 012466 012556 012566 013344 013345 013346 013355 013356 013366 013445 013446 013455 013456 013466 013556 013566 014455 014456 014466 014556 014566 015566 022334 022335 022336 022344 022345 022346 022355 022356 022366 022445 022446 022455 022456 022466 022556 022566 023344 023345 023346 023355 023356 023366 023445 023446 023455 023456 023466 023556 023566 024455 024456 024466 024556 024566 025566 033445 033446 033455 033456 033466 033556 033566 034455 034456 034466 034556 034566 035566 044556 044566 045566 112233 112234 112235 112236 112244 112245 112246 112255 112256 112266 112334 112335 112336 112344 112345 112346 112355 112356 112366 112445 112446 112455 112456 112466 112556 112566 113344 113345 113346 113355 113356 113366 113445 113446 113455 113456 113466 113556 113566 114455 114456 114466 114556 114566 115566 122334 122335 122336 122344 122345 122346 122355 122356 122366 122445 122446 122455 122456 122466 122556 122566 123344 123345 123346 123355 123356 123366 123445 123446 123455 123456 123466 123556 123566 124455 124456 124466 124556 124566 125566 133445 133446 133455 133456 133466 133556 133566 134455 134456 134466 134556 134566 135566 144556 144566 145566 223344 223345 223346 223355 223356 223366 223445 223446 223455 223456 223466 223556 223566 224455 224456 224466 224556 224566 225566 233445 233446 233455 233456 233466 233556 233566 234455 234456 234466 234556 234566 235566 244556 244566 245566 334455 334456 334466 334556 334566 335566 344556 344566 345566 445566\n",
       "  7    393   0011223 0011224 0011225 0011226 0011233 0011234 0011235 0011236 0011244 0011245 0011246 0011255 0011256 0011266 0011334 0011335 0011336 0011344 0011345 0011346 0011355 0011356 0011366 0011445 0011446 0011455 0011456 0011466 0011556 0011566 0012233 0012234 0012235 0012236 0012244 0012245 0012246 0012255 0012256 0012266 0012334 0012335 0012336 0012344 0012345 0012346 0012355 0012356 0012366 0012445 0012446 0012455 0012456 0012466 0012556 0012566 0013344 0013345 0013346 0013355 0013356 0013366 0013445 0013446 0013455 0013456 0013466 0013556 0013566 0014455 0014456 0014466 0014556 0014566 0015566 0022334 0022335 0022336 0022344 0022345 0022346 0022355 0022356 0022366 0022445 0022446 0022455 0022456 0022466 0022556 0022566 0023344 0023345 0023346 0023355 0023356 0023366 0023445 0023446 0023455 0023456 0023466 0023556 0023566 0024455 0024456 0024466 0024556 0024566 0025566 0033445 0033446 0033455 0033456 0033466 0033556 0033566 0034455 0034456 0034466 0034556 0034566 0035566 0044556 0044566 0045566 0112233 0112234 0112235 0112236 0112244 0112245 0112246 0112255 0112256 0112266 0112334 0112335 0112336 0112344 0112345 0112346 0112355 0112356 0112366 0112445 0112446 0112455 0112456 0112466 0112556 0112566 0113344 0113345 0113346 0113355 0113356 0113366 0113445 0113446 0113455 0113456 0113466 0113556 0113566 0114455 0114456 0114466 0114556 0114566 0115566 0122334 0122335 0122336 0122344 0122345 0122346 0122355 0122356 0122366 0122445 0122446 0122455 0122456 0122466 0122556 0122566 0123344 0123345 0123346 0123355 0123356 0123366 0123445 0123446 0123455 0123456 0123466 0123556 0123566 0124455 0124456 0124466 0124556 0124566 0125566 0133445 0133446 0133455 0133456 0133466 0133556 0133566 0134455 0134456 0134466 0134556 0134566 0135566 0144556 0144566 0145566 0223344 0223345 0223346 0223355 0223356 0223366 0223445 0223446 0223455 0223456 0223466 0223556 0223566 0224455 0224456 0224466 0224556 0224566 0225566 0233445 0233446 0233455 0233456 0233466 0233556 0233566 0234455 0234456 0234466 0234556 0234566 0235566 0244556 0244566 0245566 0334455 0334456 0334466 0334556 0334566 0335566 0344556 0344566 0345566 0445566 1122334 1122335 1122336 1122344 1122345 1122346 1122355 1122356 1122366 1122445 1122446 1122455 1122456 1122466 1122556 1122566 1123344 1123345 1123346 1123355 1123356 1123366 1123445 1123446 1123455 1123456 1123466 1123556 1123566 1124455 1124456 1124466 1124556 1124566 1125566 1133445 1133446 1133455 1133456 1133466 1133556 1133566 1134455 1134456 1134466 1134556 1134566 1135566 1144556 1144566 1145566 1223344 1223345 1223346 1223355 1223356 1223366 1223445 1223446 1223455 1223456 1223466 1223556 1223566 1224455 1224456 1224466 1224556 1224566 1225566 1233445 1233446 1233455 1233456 1233466 1233556 1233566 1234455 1234456 1234466 1234556 1234566 1235566 1244556 1244566 1245566 1334455 1334456 1334466 1334556 1334566 1335566 1344556 1344566 1345566 1445566 2233445 2233446 2233455 2233456 2233466 2233556 2233566 2234455 2234456 2234466 2234556 2234566 2235566 2244556 2244566 2245566 2334455 2334456 2334466 2334556 2334566 2335566 2344556 2344566 2345566 2445566 3344556 3344566 3345566 3445566\n",
       "  8    357   00112233 00112234 00112235 00112236 00112244 00112245 00112246 00112255 00112256 00112266 00112334 00112335 00112336 00112344 00112345 00112346 00112355 00112356 00112366 00112445 00112446 00112455 00112456 00112466 00112556 00112566 00113344 00113345 00113346 00113355 00113356 00113366 00113445 00113446 00113455 00113456 00113466 00113556 00113566 00114455 00114456 00114466 00114556 00114566 00115566 00122334 00122335 00122336 00122344 00122345 00122346 00122355 00122356 00122366 00122445 00122446 00122455 00122456 00122466 00122556 00122566 00123344 00123345 00123346 00123355 00123356 00123366 00123445 00123446 00123455 00123456 00123466 00123556 00123566 00124455 00124456 00124466 00124556 00124566 00125566 00133445 00133446 00133455 00133456 00133466 00133556 00133566 00134455 00134456 00134466 00134556 00134566 00135566 00144556 00144566 00145566 00223344 00223345 00223346 00223355 00223356 00223366 00223445 00223446 00223455 00223456 00223466 00223556 00223566 00224455 00224456 00224466 00224556 00224566 00225566 00233445 00233446 00233455 00233456 00233466 00233556 00233566 00234455 00234456 00234466 00234556 00234566 00235566 00244556 00244566 00245566 00334455 00334456 00334466 00334556 00334566 00335566 00344556 00344566 00345566 00445566 01122334 01122335 01122336 01122344 01122345 01122346 01122355 01122356 01122366 01122445 01122446 01122455 01122456 01122466 01122556 01122566 01123344 01123345 01123346 01123355 01123356 01123366 01123445 01123446 01123455 01123456 01123466 01123556 01123566 01124455 01124456 01124466 01124556 01124566 01125566 01133445 01133446 01133455 01133456 01133466 01133556 01133566 01134455 01134456 01134466 01134556 01134566 01135566 01144556 01144566 01145566 01223344 01223345 01223346 01223355 01223356 01223366 01223445 01223446 01223455 01223456 01223466 01223556 01223566 01224455 01224456 01224466 01224556 01224566 01225566 01233445 01233446 01233455 01233456 01233466 01233556 01233566 01234455 01234456 01234466 01234556 01234566 01235566 01244556 01244566 01245566 01334455 01334456 01334466 01334556 01334566 01335566 01344556 01344566 01345566 01445566 02233445 02233446 02233455 02233456 02233466 02233556 02233566 02234455 02234456 02234466 02234556 02234566 02235566 02244556 02244566 02245566 02334455 02334456 02334466 02334556 02334566 02335566 02344556 02344566 02345566 02445566 03344556 03344566 03345566 03445566 11223344 11223345 11223346 11223355 11223356 11223366 11223445 11223446 11223455 11223456 11223466 11223556 11223566 11224455 11224456 11224466 11224556 11224566 11225566 11233445 11233446 11233455 11233456 11233466 11233556 11233566 11234455 11234456 11234466 11234556 11234566 11235566 11244556 11244566 11245566 11334455 11334456 11334466 11334556 11334566 11335566 11344556 11344566 11345566 11445566 12233445 12233446 12233455 12233456 12233466 12233556 12233566 12234455 12234456 12234466 12234556 12234566 12235566 12244556 12244566 12245566 12334455 12334456 12334466 12334556 12334566 12335566 12344556 12344566 12345566 12445566 13344556 13344566 13345566 13445566 22334455 22334456 22334466 22334556 22334566 22335566 22344556 22344566 22345566 22445566 23344556 23344566 23345566 23445566 33445566\n",
       "  9    266   001122334 001122335 001122336 001122344 001122345 001122346 001122355 001122356 001122366 001122445 001122446 001122455 001122456 001122466 001122556 001122566 001123344 001123345 001123346 001123355 001123356 001123366 001123445 001123446 001123455 001123456 001123466 001123556 001123566 001124455 001124456 001124466 001124556 001124566 001125566 001133445 001133446 001133455 001133456 001133466 001133556 001133566 001134455 001134456 001134466 001134556 001134566 001135566 001144556 001144566 001145566 001223344 001223345 001223346 001223355 001223356 001223366 001223445 001223446 001223455 001223456 001223466 001223556 001223566 001224455 001224456 001224466 001224556 001224566 001225566 001233445 001233446 001233455 001233456 001233466 001233556 001233566 001234455 001234456 001234466 001234556 001234566 001235566 001244556 001244566 001245566 001334455 001334456 001334466 001334556 001334566 001335566 001344556 001344566 001345566 001445566 002233445 002233446 002233455 002233456 002233466 002233556 002233566 002234455 002234456 002234466 002234556 002234566 002235566 002244556 002244566 002245566 002334455 002334456 002334466 002334556 002334566 002335566 002344556 002344566 002345566 002445566 003344556 003344566 003345566 003445566 011223344 011223345 011223346 011223355 011223356 011223366 011223445 011223446 011223455 011223456 011223466 011223556 011223566 011224455 011224456 011224466 011224556 011224566 011225566 011233445 011233446 011233455 011233456 011233466 011233556 011233566 011234455 011234456 011234466 011234556 011234566 011235566 011244556 011244566 011245566 011334455 011334456 011334466 011334556 011334566 011335566 011344556 011344566 011345566 011445566 012233445 012233446 012233455 012233456 012233466 012233556 012233566 012234455 012234456 012234466 012234556 012234566 012235566 012244556 012244566 012245566 012334455 012334456 012334466 012334556 012334566 012335566 012344556 012344566 012345566 012445566 013344556 013344566 013345566 013445566 022334455 022334456 022334466 022334556 022334566 022335566 022344556 022344566 022345566 022445566 023344556 023344566 023345566 023445566 033445566 112233445 112233446 112233455 112233456 112233466 112233556 112233566 112234455 112234456 112234466 112234556 112234566 112235566 112244556 112244566 112245566 112334455 112334456 112334466 112334556 112334566 112335566 112344556 112344566 112345566 112445566 113344556 113344566 113345566 113445566 122334455 122334456 122334466 122334556 122334566 122335566 122344556 122344566 122345566 122445566 123344556 123344566 123345566 123445566 133445566 223344556 223344566 223345566 223445566 233445566\n",
       "  10   161   0011223344 0011223345 0011223346 0011223355 0011223356 0011223366 0011223445 0011223446 0011223455 0011223456 0011223466 0011223556 0011223566 0011224455 0011224456 0011224466 0011224556 0011224566 0011225566 0011233445 0011233446 0011233455 0011233456 0011233466 0011233556 0011233566 0011234455 0011234456 0011234466 0011234556 0011234566 0011235566 0011244556 0011244566 0011245566 0011334455 0011334456 0011334466 0011334556 0011334566 0011335566 0011344556 0011344566 0011345566 0011445566 0012233445 0012233446 0012233455 0012233456 0012233466 0012233556 0012233566 0012234455 0012234456 0012234466 0012234556 0012234566 0012235566 0012244556 0012244566 0012245566 0012334455 0012334456 0012334466 0012334556 0012334566 0012335566 0012344556 0012344566 0012345566 0012445566 0013344556 0013344566 0013345566 0013445566 0022334455 0022334456 0022334466 0022334556 0022334566 0022335566 0022344556 0022344566 0022345566 0022445566 0023344556 0023344566 0023345566 0023445566 0033445566 0112233445 0112233446 0112233455 0112233456 0112233466 0112233556 0112233566 0112234455 0112234456 0112234466 0112234556 0112234566 0112235566 0112244556 0112244566 0112245566 0112334455 0112334456 0112334466 0112334556 0112334566 0112335566 0112344556 0112344566 0112345566 0112445566 0113344556 0113344566 0113345566 0113445566 0122334455 0122334456 0122334466 0122334556 0122334566 0122335566 0122344556 0122344566 0122345566 0122445566 0123344556 0123344566 0123345566 0123445566 0133445566 0223344556 0223344566 0223345566 0223445566 0233445566 1122334455 1122334456 1122334466 1122334556 1122334566 1122335566 1122344556 1122344566 1122345566 1122445566 1123344556 1123344566 1123345566 1123445566 1133445566 1223344556 1223344566 1223345566 1223445566 1233445566 2233445566\n",
       "  11   77    00112233445 00112233446 00112233455 00112233456 00112233466 00112233556 00112233566 00112234455 00112234456 00112234466 00112234556 00112234566 00112235566 00112244556 00112244566 00112245566 00112334455 00112334456 00112334466 00112334556 00112334566 00112335566 00112344556 00112344566 00112345566 00112445566 00113344556 00113344566 00113345566 00113445566 00122334455 00122334456 00122334466 00122334556 00122334566 00122335566 00122344556 00122344566 00122345566 00122445566 00123344556 00123344566 00123345566 00123445566 00133445566 00223344556 00223344566 00223345566 00223445566 00233445566 01122334455 01122334456 01122334466 01122334556 01122334566 01122335566 01122344556 01122344566 01122345566 01122445566 01123344556 01123344566 01123345566 01123445566 01133445566 01223344556 01223344566 01223345566 01223445566 01233445566 02233445566 11223344556 11223344566 11223345566 11223445566 11233445566 12233445566\n",
       "  12   28    001122334455 001122334456 001122334466 001122334556 001122334566 001122335566 001122344556 001122344566 001122345566 001122445566 001123344556 001123344566 001123345566 001123445566 001133445566 001223344556 001223344566 001223345566 001223445566 001233445566 002233445566 011223344556 011223344566 011223345566 011223445566 011233445566 012233445566 112233445566\n",
       "  13   7     0011223344556 0011223344566 0011223345566 0011223445566 0011233445566 0012233445566 0112233445566\n",
       "  14   1     00112233445566"
      ]
     },
     "metadata": {},
     "output_type": "display_data"
    },
    {
     "data": {
      "text/html": [
       "<html><script type=\"math/tex; mode=display\">\\newcommand{\\Bold}[1]{\\mathbf{#1}}\\verb|Quick|\\phantom{\\verb!x!}\\verb|test|\\phantom{\\verb!x!}\\verb|of|\\phantom{\\verb!x!}\\verb|basis4|\\phantom{\\verb!x!}\\verb|labels,|\\phantom{\\verb!x!}\\verb|for|\\phantom{\\verb!x!}\\verb|k|\\phantom{\\verb!x!}\\verb|=|\\phantom{\\verb!x!}\\verb|2:|</script></html>"
      ],
      "text/plain": [
       "'Quick test of basis4 labels, for k = 2:'"
      ]
     },
     "metadata": {},
     "output_type": "display_data"
    },
    {
     "data": {
      "text/html": [
       "<html><script type=\"math/tex; mode=display\">\\newcommand{\\Bold}[1]{\\mathbf{#1}}\\left[\\verb|D00|, \\verb|D01|, \\verb|D02|, \\verb|D03|, \\verb|D04|, \\verb|D05|, \\verb|D06|, \\verb|D11|, \\verb|D12|, \\verb|D13|, \\verb|D14|, \\verb|D15|, \\verb|D16|, \\verb|D22|, \\verb|D23|, \\verb|D24|, \\verb|D25|, \\verb|D26|, \\verb|D33|, \\verb|D34|, \\verb|D35|, \\verb|D36|, \\verb|D44|, \\verb|D45|, \\verb|D46|, \\verb|D55|, \\verb|D56|, \\verb|D66|\\right]</script></html>"
      ],
      "text/plain": [
       "['D00',\n",
       " 'D01',\n",
       " 'D02',\n",
       " 'D03',\n",
       " 'D04',\n",
       " 'D05',\n",
       " 'D06',\n",
       " 'D11',\n",
       " 'D12',\n",
       " 'D13',\n",
       " 'D14',\n",
       " 'D15',\n",
       " 'D16',\n",
       " 'D22',\n",
       " 'D23',\n",
       " 'D24',\n",
       " 'D25',\n",
       " 'D26',\n",
       " 'D33',\n",
       " 'D34',\n",
       " 'D35',\n",
       " 'D36',\n",
       " 'D44',\n",
       " 'D45',\n",
       " 'D46',\n",
       " 'D55',\n",
       " 'D56',\n",
       " 'D66']"
      ]
     },
     "metadata": {},
     "output_type": "display_data"
    },
    {
     "data": {
      "text/html": [
       "<html><script type=\"math/tex; mode=display\">\\newcommand{\\Bold}[1]{\\mathbf{#1}}\\verb|Quick|\\phantom{\\verb!x!}\\verb|test|\\phantom{\\verb!x!}\\verb|of|\\phantom{\\verb!x!}\\verb|unique|\\phantom{\\verb!x!}\\verb|basis4|\\phantom{\\verb!x!}\\verb|labels,|\\phantom{\\verb!x!}\\verb|for|\\phantom{\\verb!x!}\\verb|k|\\phantom{\\verb!x!}\\verb|=|\\phantom{\\verb!x!}\\verb|2:|</script></html>"
      ],
      "text/plain": [
       "'Quick test of unique basis4 labels, for k = 2:'"
      ]
     },
     "metadata": {},
     "output_type": "display_data"
    },
    {
     "data": {
      "text/html": [
       "<html><script type=\"math/tex; mode=display\">\\newcommand{\\Bold}[1]{\\mathbf{#1}}\\left[\\verb|D00|, \\verb|D01|, \\verb|D02|, \\verb|D03|, \\verb|D04|, \\verb|D05|, \\verb|D06|, \\verb|D15|, \\verb|D16|\\right]</script></html>"
      ],
      "text/plain": [
       "['D00', 'D01', 'D02', 'D03', 'D04', 'D05', 'D06', 'D15', 'D16']"
      ]
     },
     "metadata": {},
     "output_type": "display_data"
    },
    {
     "data": {
      "text/html": [
       "<html><script type=\"math/tex; mode=display\">\\newcommand{\\Bold}[1]{\\mathbf{#1}}\\verb|----------------------------------|</script></html>"
      ],
      "text/plain": [
       "'----------------------------------'"
      ]
     },
     "metadata": {},
     "output_type": "display_data"
    },
    {
     "data": {
      "text/html": [
       "<html><script type=\"math/tex; mode=display\">\\newcommand{\\Bold}[1]{\\mathbf{#1}}\\verb|The|\\phantom{\\verb!x!}\\verb|unique|\\phantom{\\verb!x!}\\verb|k-form|\\phantom{\\verb!x!}\\verb|dimension|\\phantom{\\verb!x!}\\verb|table:|</script></html>"
      ],
      "text/plain": [
       "'The unique k-form dimension table:'"
      ]
     },
     "metadata": {},
     "output_type": "display_data"
    },
    {
     "data": {
      "text/html": [
       "<div class=\"notruncate\">\n",
       "<table  class=\"table_form\">\n",
       "<tbody>\n",
       "<tr>\n",
       "<th>k</th>\n",
       "<th>dim</th>\n",
       "<th>unique dim</th>\n",
       "</tr>\n",
       "<tr class =\"row-a\">\n",
       "<td><script type=\"math/tex\">0</script></td>\n",
       "<td><script type=\"math/tex\">1</script></td>\n",
       "<td><script type=\"math/tex\">1</script></td>\n",
       "</tr>\n",
       "<tr class =\"row-b\">\n",
       "<td><script type=\"math/tex\">1</script></td>\n",
       "<td><script type=\"math/tex\">7</script></td>\n",
       "<td><script type=\"math/tex\">7</script></td>\n",
       "</tr>\n",
       "<tr class =\"row-a\">\n",
       "<td><script type=\"math/tex\">2</script></td>\n",
       "<td><script type=\"math/tex\">28</script></td>\n",
       "<td><script type=\"math/tex\">9</script></td>\n",
       "</tr>\n",
       "<tr class =\"row-b\">\n",
       "<td><script type=\"math/tex\">3</script></td>\n",
       "<td><script type=\"math/tex\">77</script></td>\n",
       "<td><script type=\"math/tex\">9</script></td>\n",
       "</tr>\n",
       "<tr class =\"row-a\">\n",
       "<td><script type=\"math/tex\">4</script></td>\n",
       "<td><script type=\"math/tex\">161</script></td>\n",
       "<td><script type=\"math/tex\">9</script></td>\n",
       "</tr>\n",
       "<tr class =\"row-b\">\n",
       "<td><script type=\"math/tex\">5</script></td>\n",
       "<td><script type=\"math/tex\">266</script></td>\n",
       "<td><script type=\"math/tex\">9</script></td>\n",
       "</tr>\n",
       "<tr class =\"row-a\">\n",
       "<td><script type=\"math/tex\">6</script></td>\n",
       "<td><script type=\"math/tex\">357</script></td>\n",
       "<td><script type=\"math/tex\">9</script></td>\n",
       "</tr>\n",
       "<tr class =\"row-b\">\n",
       "<td><script type=\"math/tex\">7</script></td>\n",
       "<td><script type=\"math/tex\">393</script></td>\n",
       "<td><script type=\"math/tex\">9</script></td>\n",
       "</tr>\n",
       "<tr class =\"row-a\">\n",
       "<td><script type=\"math/tex\">8</script></td>\n",
       "<td><script type=\"math/tex\">357</script></td>\n",
       "<td><script type=\"math/tex\">9</script></td>\n",
       "</tr>\n",
       "<tr class =\"row-b\">\n",
       "<td><script type=\"math/tex\">9</script></td>\n",
       "<td><script type=\"math/tex\">266</script></td>\n",
       "<td><script type=\"math/tex\">9</script></td>\n",
       "</tr>\n",
       "<tr class =\"row-a\">\n",
       "<td><script type=\"math/tex\">10</script></td>\n",
       "<td><script type=\"math/tex\">161</script></td>\n",
       "<td><script type=\"math/tex\">9</script></td>\n",
       "</tr>\n",
       "<tr class =\"row-b\">\n",
       "<td><script type=\"math/tex\">11</script></td>\n",
       "<td><script type=\"math/tex\">77</script></td>\n",
       "<td><script type=\"math/tex\">9</script></td>\n",
       "</tr>\n",
       "<tr class =\"row-a\">\n",
       "<td><script type=\"math/tex\">12</script></td>\n",
       "<td><script type=\"math/tex\">28</script></td>\n",
       "<td><script type=\"math/tex\">9</script></td>\n",
       "</tr>\n",
       "<tr class =\"row-b\">\n",
       "<td><script type=\"math/tex\">13</script></td>\n",
       "<td><script type=\"math/tex\">7</script></td>\n",
       "<td><script type=\"math/tex\">7</script></td>\n",
       "</tr>\n",
       "<tr class =\"row-a\">\n",
       "<td><script type=\"math/tex\">14</script></td>\n",
       "<td><script type=\"math/tex\">1</script></td>\n",
       "<td><script type=\"math/tex\">1</script></td>\n",
       "</tr>\n",
       "<tr class =\"row-b\">\n",
       "<td><script type=\"math/tex\">15</script></td>\n",
       "<td><script type=\"math/tex\">0</script></td>\n",
       "<td><script type=\"math/tex\">0</script></td>\n",
       "</tr>\n",
       "</tbody>\n",
       "</table>\n",
       "</div>"
      ],
      "text/plain": [
       "  k    dim   unique dim\n",
       "+----+-----+------------+\n",
       "  0    1     1\n",
       "  1    7     7\n",
       "  2    28    9\n",
       "  3    77    9\n",
       "  4    161   9\n",
       "  5    266   9\n",
       "  6    357   9\n",
       "  7    393   9\n",
       "  8    357   9\n",
       "  9    266   9\n",
       "  10   161   9\n",
       "  11   77    9\n",
       "  12   28    9\n",
       "  13   7     7\n",
       "  14   1     1\n",
       "  15   0     0"
      ]
     },
     "metadata": {},
     "output_type": "display_data"
    },
    {
     "data": {
      "text/plain": [
       "\\begin{tabular}{lll}\n",
       "k & dim & unique dim \\\\ \\hline\n",
       "$0$ & $1$ & $1$ \\\\\n",
       "$1$ & $7$ & $7$ \\\\\n",
       "$2$ & $28$ & $9$ \\\\\n",
       "$3$ & $77$ & $9$ \\\\\n",
       "$4$ & $161$ & $9$ \\\\\n",
       "$5$ & $266$ & $9$ \\\\\n",
       "$6$ & $357$ & $9$ \\\\\n",
       "$7$ & $393$ & $9$ \\\\\n",
       "$8$ & $357$ & $9$ \\\\\n",
       "$9$ & $266$ & $9$ \\\\\n",
       "$10$ & $161$ & $9$ \\\\\n",
       "$11$ & $77$ & $9$ \\\\\n",
       "$12$ & $28$ & $9$ \\\\\n",
       "$13$ & $7$ & $7$ \\\\\n",
       "$14$ & $1$ & $1$ \\\\\n",
       "$15$ & $0$ & $0$ \\\\\n",
       "\\end{tabular}"
      ]
     },
     "execution_count": 3,
     "metadata": {},
     "output_type": "execute_result"
    }
   ],
   "source": [
    "# Now, let's generate the basis matrices:\n",
    "import itertools\n",
    "\n",
    "\n",
    "# Display the dimensions table given d and q, and return the basis_dict:\n",
    "def dim_table(d, q):\n",
    "    basis_indices = []\n",
    "    if d == 3 and q == 2:\n",
    "        basis_indices = [1,2,3]\n",
    "    if d == 4 and q == 2:\n",
    "        basis_indices = [0,1,2,3]\n",
    "    if d == 3 and q == 3:\n",
    "        basis_indices = [1,2,3]\n",
    "    if d == 4 and q == 3:\n",
    "        basis_indices = [0,1,2,3,4,5,6]\n",
    "    basis_dict = {}\n",
    "    k = 0\n",
    "    while True:\n",
    "        basis_dict[k] = []\n",
    "        basis_count = 0\n",
    "        for elt in itertools.combinations_with_replacement(basis_indices, k):\n",
    "            match = False\n",
    "            for b in basis_indices:\n",
    "                if elt.count(b) >= q:\n",
    "                    match = True\n",
    "                    break\n",
    "            if match:\n",
    "                continue\n",
    "            # print(elt)\n",
    "            basis_dict[k] += [elt]\n",
    "            basis_count += 1\n",
    "        k += 1\n",
    "        if basis_count == 0:\n",
    "            break\n",
    "    rows = [['k', 'dim', 'basis']]\n",
    "    for i in range(k - 1):\n",
    "        basis_result = basis_dict[i]\n",
    "        str_basis_result = \" \".join(\"\".join(str(x) for x in b) for b in basis_result)\n",
    "        rows += [[i, len(basis_result), str_basis_result]]\n",
    "    show(table(rows, header_row=True))\n",
    "    return basis_dict\n",
    "\n",
    "\n",
    "# generate the d = 4, q = 3 basis dictionary:\n",
    "show('The dim = 4, q = 3 k-form dimension table:')\n",
    "basis4_dict = dim_table(4, 3)\n",
    "\n",
    "\n",
    "# Extract out all the basis labels:\n",
    "def generate_basis_labels(basis_dict):\n",
    "    basis_labels = {}\n",
    "    for i in basis_dict:\n",
    "        basis_labels[i] = ['D' + \"\".join(str(x) for x in b) for b in basis_dict[i]]\n",
    "    return basis_labels\n",
    "\n",
    "basis4_labels = generate_basis_labels(basis4_dict)\n",
    "\n",
    "# Given the matrix indices, return the resulting basis matrix, here for d = 3:\n",
    "def D3(indices):\n",
    "    matrices = [T1, T2, T3]\n",
    "    r = I3\n",
    "    for i in indices:\n",
    "        r = r*matrices[i - 1]\n",
    "    # show(r)\n",
    "    return matrix_w_mod(expand(r))\n",
    "\n",
    "# Here for d = 4:\n",
    "def D4(indices):\n",
    "    matrices = [S0, S1, S2, S3, S4, S5, S6]\n",
    "    r = I9\n",
    "    for i in indices:\n",
    "        r = r*matrices[i]\n",
    "    # show(r)\n",
    "    return matrix_w_mod(expand(r))\n",
    "\n",
    "# Quick test of basis4_labels:\n",
    "show('Quick test of basis4 labels, for k = 2:')\n",
    "show(basis4_labels[2])\n",
    "\n",
    "# Learn all the d = 4, q = 3, basis matrices:\n",
    "# NB; makes generate_basis_labels() redundant.\n",
    "def generate_basis4_matrices(basis_dict):\n",
    "    basis_labels = {}\n",
    "    basis_matrices = {}\n",
    "    for i in basis_dict:\n",
    "        basis_labels[i] = []\n",
    "        for b in basis_dict[i]:\n",
    "            label = 'D' + \"\".join(str(x) for x in b)\n",
    "            matrix = D4(list(b))\n",
    "            # show(list(b), matrix)\n",
    "            basis_labels[i] += [label]\n",
    "            basis_matrices[label] = matrix\n",
    "    return basis_labels, basis_matrices\n",
    "\n",
    "basis4_labels, basis4_matrices = generate_basis4_matrices(basis4_dict)\n",
    "\n",
    "\n",
    "# Explore the basis overlap property:\n",
    "# Test if two matrices are equal up to some w coefficient:\n",
    "def find_k(A,B):\n",
    "    for k in range(3):\n",
    "        if matrix_w_mod(A - w^k*B) == 0:\n",
    "            return k\n",
    "        if matrix_w_mod(A + w^k*B) == 0:\n",
    "            return -k\n",
    "    return None\n",
    "\n",
    "# Find the commutator structure for a pair of matrices:\n",
    "# Ie, A*B = (w)^k B*A\n",
    "def find_commutator(A,B):\n",
    "    for k in range(3):\n",
    "        if matrix_w_mod(A*B - w^k*B*A) == 0:\n",
    "            return k\n",
    "    return None\n",
    "\n",
    "# Get a unique basis given a k:\n",
    "def get_unique_basis4(k):\n",
    "    if k not in basis4_labels:\n",
    "        return\n",
    "    result = []\n",
    "    for label in basis4_labels[k]:\n",
    "        # show(label)\n",
    "        matrix = basis4_matrices[label]\n",
    "        match = False\n",
    "        for A_label in result:\n",
    "            A = basis4_matrices[A_label]\n",
    "            # show('A:', A)\n",
    "            # show(find_k(A, matrix))\n",
    "            if find_k(A, matrix) is not None:\n",
    "                match = True\n",
    "                break\n",
    "        if not match:\n",
    "            result += [label]\n",
    "    return result\n",
    "\n",
    "# Learn unique basis labels all at once:\n",
    "def generate_unique_basis4_labels():\n",
    "    unique_basis_labels = {}\n",
    "    for k in range(16):\n",
    "        unique_basis_labels[k] = get_unique_basis4(k)\n",
    "    return unique_basis_labels\n",
    "\n",
    "unique_basis4_labels = generate_unique_basis4_labels()\n",
    "\n",
    "# Quick test:\n",
    "show('Quick test of unique basis4 labels, for k = 2:')\n",
    "show(unique_basis4_labels[2])\n",
    "\n",
    "# Display the unique dimension table:\n",
    "def unique_dim_table(basis_dict):\n",
    "    rows = [['k', 'dim', 'unique dim']]\n",
    "    for k in basis_dict:\n",
    "        # rows += [[k, len(basis_dict[k]), len(get_unique_basis4(k))]]\n",
    "        rows += [[k, len(basis_dict[k]), len(unique_basis4_labels[k])]]\n",
    "    show(table(rows, header_row=True))\n",
    "    return latex(table(rows, header_row=True))\n",
    "    \n",
    "show('----------------------------------')\n",
    "show('The unique k-form dimension table:')\n",
    "unique_dim_table(basis4_dict)"
   ]
  },
  {
   "cell_type": "code",
   "execution_count": 4,
   "metadata": {},
   "outputs": [
    {
     "data": {
      "text/html": [
       "<html><script type=\"math/tex; mode=display\">\\newcommand{\\Bold}[1]{\\mathbf{#1}}\\verb|Unique|\\phantom{\\verb!x!}\\verb|2-form|\\phantom{\\verb!x!}\\verb|basis|\\phantom{\\verb!x!}\\verb|matrices:|</script></html>"
      ],
      "text/plain": [
       "'Unique 2-form basis matrices:'"
      ]
     },
     "metadata": {},
     "output_type": "display_data"
    },
    {
     "data": {
      "text/html": [
       "<html><script type=\"math/tex; mode=display\">\\newcommand{\\Bold}[1]{\\mathbf{#1}}\\verb|D00| \\left(\\begin{array}{rrrrrrrrr}\n",
       "1 & 0 & 0 & 0 & 0 & 0 & 0 & 0 & 0 \\\\\n",
       "0 & 1 & 0 & 0 & 0 & 0 & 0 & 0 & 0 \\\\\n",
       "0 & 0 & 1 & 0 & 0 & 0 & 0 & 0 & 0 \\\\\n",
       "0 & 0 & 0 & w^{2} & 0 & 0 & 0 & 0 & 0 \\\\\n",
       "0 & 0 & 0 & 0 & w^{2} & 0 & 0 & 0 & 0 \\\\\n",
       "0 & 0 & 0 & 0 & 0 & w^{2} & 0 & 0 & 0 \\\\\n",
       "0 & 0 & 0 & 0 & 0 & 0 & w & 0 & 0 \\\\\n",
       "0 & 0 & 0 & 0 & 0 & 0 & 0 & w & 0 \\\\\n",
       "0 & 0 & 0 & 0 & 0 & 0 & 0 & 0 & w\n",
       "\\end{array}\\right)</script></html>"
      ],
      "text/plain": [
       "'D00' [  1   0   0   0   0   0   0   0   0]\n",
       "[  0   1   0   0   0   0   0   0   0]\n",
       "[  0   0   1   0   0   0   0   0   0]\n",
       "[  0   0   0 w^2   0   0   0   0   0]\n",
       "[  0   0   0   0 w^2   0   0   0   0]\n",
       "[  0   0   0   0   0 w^2   0   0   0]\n",
       "[  0   0   0   0   0   0   w   0   0]\n",
       "[  0   0   0   0   0   0   0   w   0]\n",
       "[  0   0   0   0   0   0   0   0   w]"
      ]
     },
     "metadata": {},
     "output_type": "display_data"
    },
    {
     "data": {
      "text/html": [
       "<html><script type=\"math/tex; mode=display\">\\newcommand{\\Bold}[1]{\\mathbf{#1}}\\verb|D01| \\left(\\begin{array}{rrrrrrrrr}\n",
       "0 & 0 & 0 & 0 & 0 & 0 & 0 & 1 & 0 \\\\\n",
       "0 & 0 & 0 & 0 & 0 & 0 & 0 & 0 & 1 \\\\\n",
       "0 & 0 & 0 & 0 & 0 & 0 & 1 & 0 & 0 \\\\\n",
       "0 & 1 & 0 & 0 & 0 & 0 & 0 & 0 & 0 \\\\\n",
       "0 & 0 & 1 & 0 & 0 & 0 & 0 & 0 & 0 \\\\\n",
       "1 & 0 & 0 & 0 & 0 & 0 & 0 & 0 & 0 \\\\\n",
       "0 & 0 & 0 & 0 & 1 & 0 & 0 & 0 & 0 \\\\\n",
       "0 & 0 & 0 & 0 & 0 & 1 & 0 & 0 & 0 \\\\\n",
       "0 & 0 & 0 & 1 & 0 & 0 & 0 & 0 & 0\n",
       "\\end{array}\\right)</script></html>"
      ],
      "text/plain": [
       "'D01' [0 0 0 0 0 0 0 1 0]\n",
       "[0 0 0 0 0 0 0 0 1]\n",
       "[0 0 0 0 0 0 1 0 0]\n",
       "[0 1 0 0 0 0 0 0 0]\n",
       "[0 0 1 0 0 0 0 0 0]\n",
       "[1 0 0 0 0 0 0 0 0]\n",
       "[0 0 0 0 1 0 0 0 0]\n",
       "[0 0 0 0 0 1 0 0 0]\n",
       "[0 0 0 1 0 0 0 0 0]"
      ]
     },
     "metadata": {},
     "output_type": "display_data"
    },
    {
     "data": {
      "text/html": [
       "<html><script type=\"math/tex; mode=display\">\\newcommand{\\Bold}[1]{\\mathbf{#1}}\\verb|D02| \\left(\\begin{array}{rrrrrrrrr}\n",
       "0 & 0 & 0 & 0 & 0 & 0 & 0 & 0 & w^{2} \\\\\n",
       "0 & 0 & 0 & 0 & 0 & 0 & w & 0 & 0 \\\\\n",
       "0 & 0 & 0 & 0 & 0 & 0 & 0 & 1 & 0 \\\\\n",
       "0 & 0 & w^{2} & 0 & 0 & 0 & 0 & 0 & 0 \\\\\n",
       "w & 0 & 0 & 0 & 0 & 0 & 0 & 0 & 0 \\\\\n",
       "0 & 1 & 0 & 0 & 0 & 0 & 0 & 0 & 0 \\\\\n",
       "0 & 0 & 0 & 0 & 0 & w^{2} & 0 & 0 & 0 \\\\\n",
       "0 & 0 & 0 & w & 0 & 0 & 0 & 0 & 0 \\\\\n",
       "0 & 0 & 0 & 0 & 1 & 0 & 0 & 0 & 0\n",
       "\\end{array}\\right)</script></html>"
      ],
      "text/plain": [
       "'D02' [  0   0   0   0   0   0   0   0 w^2]\n",
       "[  0   0   0   0   0   0   w   0   0]\n",
       "[  0   0   0   0   0   0   0   1   0]\n",
       "[  0   0 w^2   0   0   0   0   0   0]\n",
       "[  w   0   0   0   0   0   0   0   0]\n",
       "[  0   1   0   0   0   0   0   0   0]\n",
       "[  0   0   0   0   0 w^2   0   0   0]\n",
       "[  0   0   0   w   0   0   0   0   0]\n",
       "[  0   0   0   0   1   0   0   0   0]"
      ]
     },
     "metadata": {},
     "output_type": "display_data"
    },
    {
     "data": {
      "text/html": [
       "<html><script type=\"math/tex; mode=display\">\\newcommand{\\Bold}[1]{\\mathbf{#1}}\\verb|D03| \\left(\\begin{array}{rrrrrrrrr}\n",
       "0 & 0 & 0 & 0 & 0 & 0 & 1 & 0 & 0 \\\\\n",
       "0 & 0 & 0 & 0 & 0 & 0 & 0 & w & 0 \\\\\n",
       "0 & 0 & 0 & 0 & 0 & 0 & 0 & 0 & w^{2} \\\\\n",
       "1 & 0 & 0 & 0 & 0 & 0 & 0 & 0 & 0 \\\\\n",
       "0 & w & 0 & 0 & 0 & 0 & 0 & 0 & 0 \\\\\n",
       "0 & 0 & w^{2} & 0 & 0 & 0 & 0 & 0 & 0 \\\\\n",
       "0 & 0 & 0 & 1 & 0 & 0 & 0 & 0 & 0 \\\\\n",
       "0 & 0 & 0 & 0 & w & 0 & 0 & 0 & 0 \\\\\n",
       "0 & 0 & 0 & 0 & 0 & w^{2} & 0 & 0 & 0\n",
       "\\end{array}\\right)</script></html>"
      ],
      "text/plain": [
       "'D03' [  0   0   0   0   0   0   1   0   0]\n",
       "[  0   0   0   0   0   0   0   w   0]\n",
       "[  0   0   0   0   0   0   0   0 w^2]\n",
       "[  1   0   0   0   0   0   0   0   0]\n",
       "[  0   w   0   0   0   0   0   0   0]\n",
       "[  0   0 w^2   0   0   0   0   0   0]\n",
       "[  0   0   0   1   0   0   0   0   0]\n",
       "[  0   0   0   0   w   0   0   0   0]\n",
       "[  0   0   0   0   0 w^2   0   0   0]"
      ]
     },
     "metadata": {},
     "output_type": "display_data"
    },
    {
     "data": {
      "text/html": [
       "<html><script type=\"math/tex; mode=display\">\\newcommand{\\Bold}[1]{\\mathbf{#1}}\\verb|D04| \\left(\\begin{array}{rrrrrrrrr}\n",
       "0 & 0 & 0 & 0 & 0 & w^{2} & 0 & 0 & 0 \\\\\n",
       "0 & 0 & 0 & w^{2} & 0 & 0 & 0 & 0 & 0 \\\\\n",
       "0 & 0 & 0 & 0 & w^{2} & 0 & 0 & 0 & 0 \\\\\n",
       "0 & 0 & 0 & 0 & 0 & 0 & 0 & 0 & 1 \\\\\n",
       "0 & 0 & 0 & 0 & 0 & 0 & 1 & 0 & 0 \\\\\n",
       "0 & 0 & 0 & 0 & 0 & 0 & 0 & 1 & 0 \\\\\n",
       "0 & 0 & w & 0 & 0 & 0 & 0 & 0 & 0 \\\\\n",
       "w & 0 & 0 & 0 & 0 & 0 & 0 & 0 & 0 \\\\\n",
       "0 & w & 0 & 0 & 0 & 0 & 0 & 0 & 0\n",
       "\\end{array}\\right)</script></html>"
      ],
      "text/plain": [
       "'D04' [  0   0   0   0   0 w^2   0   0   0]\n",
       "[  0   0   0 w^2   0   0   0   0   0]\n",
       "[  0   0   0   0 w^2   0   0   0   0]\n",
       "[  0   0   0   0   0   0   0   0   1]\n",
       "[  0   0   0   0   0   0   1   0   0]\n",
       "[  0   0   0   0   0   0   0   1   0]\n",
       "[  0   0   w   0   0   0   0   0   0]\n",
       "[  w   0   0   0   0   0   0   0   0]\n",
       "[  0   w   0   0   0   0   0   0   0]"
      ]
     },
     "metadata": {},
     "output_type": "display_data"
    },
    {
     "data": {
      "text/html": [
       "<html><script type=\"math/tex; mode=display\">\\newcommand{\\Bold}[1]{\\mathbf{#1}}\\verb|D05| \\left(\\begin{array}{rrrrrrrrr}\n",
       "0 & 0 & 0 & 0 & w & 0 & 0 & 0 & 0 \\\\\n",
       "0 & 0 & 0 & 0 & 0 & w^{2} & 0 & 0 & 0 \\\\\n",
       "0 & 0 & 0 & 1 & 0 & 0 & 0 & 0 & 0 \\\\\n",
       "0 & 0 & 0 & 0 & 0 & 0 & 0 & w^{2} & 0 \\\\\n",
       "0 & 0 & 0 & 0 & 0 & 0 & 0 & 0 & 1 \\\\\n",
       "0 & 0 & 0 & 0 & 0 & 0 & w & 0 & 0 \\\\\n",
       "0 & 1 & 0 & 0 & 0 & 0 & 0 & 0 & 0 \\\\\n",
       "0 & 0 & w & 0 & 0 & 0 & 0 & 0 & 0 \\\\\n",
       "w^{2} & 0 & 0 & 0 & 0 & 0 & 0 & 0 & 0\n",
       "\\end{array}\\right)</script></html>"
      ],
      "text/plain": [
       "'D05' [  0   0   0   0   w   0   0   0   0]\n",
       "[  0   0   0   0   0 w^2   0   0   0]\n",
       "[  0   0   0   1   0   0   0   0   0]\n",
       "[  0   0   0   0   0   0   0 w^2   0]\n",
       "[  0   0   0   0   0   0   0   0   1]\n",
       "[  0   0   0   0   0   0   w   0   0]\n",
       "[  0   1   0   0   0   0   0   0   0]\n",
       "[  0   0   w   0   0   0   0   0   0]\n",
       "[w^2   0   0   0   0   0   0   0   0]"
      ]
     },
     "metadata": {},
     "output_type": "display_data"
    },
    {
     "data": {
      "text/html": [
       "<html><script type=\"math/tex; mode=display\">\\newcommand{\\Bold}[1]{\\mathbf{#1}}\\verb|D06| \\left(\\begin{array}{rrrrrrrrr}\n",
       "0 & 0 & 0 & w^{2} & 0 & 0 & 0 & 0 & 0 \\\\\n",
       "0 & 0 & 0 & 0 & w & 0 & 0 & 0 & 0 \\\\\n",
       "0 & 0 & 0 & 0 & 0 & 1 & 0 & 0 & 0 \\\\\n",
       "0 & 0 & 0 & 0 & 0 & 0 & 1 & 0 & 0 \\\\\n",
       "0 & 0 & 0 & 0 & 0 & 0 & 0 & w^{2} & 0 \\\\\n",
       "0 & 0 & 0 & 0 & 0 & 0 & 0 & 0 & w \\\\\n",
       "w & 0 & 0 & 0 & 0 & 0 & 0 & 0 & 0 \\\\\n",
       "0 & 1 & 0 & 0 & 0 & 0 & 0 & 0 & 0 \\\\\n",
       "0 & 0 & w^{2} & 0 & 0 & 0 & 0 & 0 & 0\n",
       "\\end{array}\\right)</script></html>"
      ],
      "text/plain": [
       "'D06' [  0   0   0 w^2   0   0   0   0   0]\n",
       "[  0   0   0   0   w   0   0   0   0]\n",
       "[  0   0   0   0   0   1   0   0   0]\n",
       "[  0   0   0   0   0   0   1   0   0]\n",
       "[  0   0   0   0   0   0   0 w^2   0]\n",
       "[  0   0   0   0   0   0   0   0   w]\n",
       "[  w   0   0   0   0   0   0   0   0]\n",
       "[  0   1   0   0   0   0   0   0   0]\n",
       "[  0   0 w^2   0   0   0   0   0   0]"
      ]
     },
     "metadata": {},
     "output_type": "display_data"
    },
    {
     "data": {
      "text/html": [
       "<html><script type=\"math/tex; mode=display\">\\newcommand{\\Bold}[1]{\\mathbf{#1}}\\verb|D15| \\left(\\begin{array}{rrrrrrrrr}\n",
       "0 & 0 & w^{2} & 0 & 0 & 0 & 0 & 0 & 0 \\\\\n",
       "1 & 0 & 0 & 0 & 0 & 0 & 0 & 0 & 0 \\\\\n",
       "0 & w & 0 & 0 & 0 & 0 & 0 & 0 & 0 \\\\\n",
       "0 & 0 & 0 & 0 & 0 & w & 0 & 0 & 0 \\\\\n",
       "0 & 0 & 0 & w^{2} & 0 & 0 & 0 & 0 & 0 \\\\\n",
       "0 & 0 & 0 & 0 & 1 & 0 & 0 & 0 & 0 \\\\\n",
       "0 & 0 & 0 & 0 & 0 & 0 & 0 & 0 & 1 \\\\\n",
       "0 & 0 & 0 & 0 & 0 & 0 & w & 0 & 0 \\\\\n",
       "0 & 0 & 0 & 0 & 0 & 0 & 0 & w^{2} & 0\n",
       "\\end{array}\\right)</script></html>"
      ],
      "text/plain": [
       "'D15' [  0   0 w^2   0   0   0   0   0   0]\n",
       "[  1   0   0   0   0   0   0   0   0]\n",
       "[  0   w   0   0   0   0   0   0   0]\n",
       "[  0   0   0   0   0   w   0   0   0]\n",
       "[  0   0   0 w^2   0   0   0   0   0]\n",
       "[  0   0   0   0   1   0   0   0   0]\n",
       "[  0   0   0   0   0   0   0   0   1]\n",
       "[  0   0   0   0   0   0   w   0   0]\n",
       "[  0   0   0   0   0   0   0 w^2   0]"
      ]
     },
     "metadata": {},
     "output_type": "display_data"
    },
    {
     "data": {
      "text/html": [
       "<html><script type=\"math/tex; mode=display\">\\newcommand{\\Bold}[1]{\\mathbf{#1}}\\verb|D16| \\left(\\begin{array}{rrrrrrrrr}\n",
       "0 & w & 0 & 0 & 0 & 0 & 0 & 0 & 0 \\\\\n",
       "0 & 0 & 1 & 0 & 0 & 0 & 0 & 0 & 0 \\\\\n",
       "w^{2} & 0 & 0 & 0 & 0 & 0 & 0 & 0 & 0 \\\\\n",
       "0 & 0 & 0 & 0 & 1 & 0 & 0 & 0 & 0 \\\\\n",
       "0 & 0 & 0 & 0 & 0 & w^{2} & 0 & 0 & 0 \\\\\n",
       "0 & 0 & 0 & w & 0 & 0 & 0 & 0 & 0 \\\\\n",
       "0 & 0 & 0 & 0 & 0 & 0 & 0 & w^{2} & 0 \\\\\n",
       "0 & 0 & 0 & 0 & 0 & 0 & 0 & 0 & w \\\\\n",
       "0 & 0 & 0 & 0 & 0 & 0 & 1 & 0 & 0\n",
       "\\end{array}\\right)</script></html>"
      ],
      "text/plain": [
       "'D16' [  0   w   0   0   0   0   0   0   0]\n",
       "[  0   0   1   0   0   0   0   0   0]\n",
       "[w^2   0   0   0   0   0   0   0   0]\n",
       "[  0   0   0   0   1   0   0   0   0]\n",
       "[  0   0   0   0   0 w^2   0   0   0]\n",
       "[  0   0   0   w   0   0   0   0   0]\n",
       "[  0   0   0   0   0   0   0 w^2   0]\n",
       "[  0   0   0   0   0   0   0   0   w]\n",
       "[  0   0   0   0   0   0   1   0   0]"
      ]
     },
     "metadata": {},
     "output_type": "display_data"
    },
    {
     "data": {
      "text/html": [
       "<html><script type=\"math/tex; mode=display\">\\newcommand{\\Bold}[1]{\\mathbf{#1}}\\verb|----------------|</script></html>"
      ],
      "text/plain": [
       "'----------------'"
      ]
     },
     "metadata": {},
     "output_type": "display_data"
    },
    {
     "data": {
      "text/html": [
       "<html><script type=\"math/tex; mode=display\">\\newcommand{\\Bold}[1]{\\mathbf{#1}}\\verb|commutation|\\phantom{\\verb!x!}\\verb|table|\\phantom{\\verb!x!}\\verb|for|\\phantom{\\verb!x!}\\verb|1-form|\\phantom{\\verb!x!}\\verb|matrices:|</script></html>"
      ],
      "text/plain": [
       "'commutation table for 1-form matrices:'"
      ]
     },
     "metadata": {},
     "output_type": "display_data"
    },
    {
     "data": {
      "text/html": [
       "<div class=\"notruncate\">\n",
       "<table  class=\"table_form\">\n",
       "<tbody>\n",
       "<tr>\n",
       "<th class=\"ch\"> </th>\n",
       "<th>D0</th>\n",
       "<th>D1</th>\n",
       "<th>D2</th>\n",
       "<th>D3</th>\n",
       "<th>D4</th>\n",
       "<th>D5</th>\n",
       "<th>D6</th>\n",
       "</tr>\n",
       "<tr class =\"row-a\">\n",
       "<td class=\"ch\">D0</td>\n",
       "<td><script type=\"math/tex\">0</script></td>\n",
       "<td><script type=\"math/tex\">2</script></td>\n",
       "<td><script type=\"math/tex\">2</script></td>\n",
       "<td><script type=\"math/tex\">2</script></td>\n",
       "<td><script type=\"math/tex\">1</script></td>\n",
       "<td><script type=\"math/tex\">1</script></td>\n",
       "<td><script type=\"math/tex\">1</script></td>\n",
       "</tr>\n",
       "<tr class =\"row-b\">\n",
       "<td class=\"ch\">D1</td>\n",
       "<td><script type=\"math/tex\">1</script></td>\n",
       "<td><script type=\"math/tex\">0</script></td>\n",
       "<td><script type=\"math/tex\">1</script></td>\n",
       "<td><script type=\"math/tex\">2</script></td>\n",
       "<td><script type=\"math/tex\">2</script></td>\n",
       "<td><script type=\"math/tex\">1</script></td>\n",
       "<td><script type=\"math/tex\">0</script></td>\n",
       "</tr>\n",
       "<tr class =\"row-a\">\n",
       "<td class=\"ch\">D2</td>\n",
       "<td><script type=\"math/tex\">1</script></td>\n",
       "<td><script type=\"math/tex\">2</script></td>\n",
       "<td><script type=\"math/tex\">0</script></td>\n",
       "<td><script type=\"math/tex\">1</script></td>\n",
       "<td><script type=\"math/tex\">0</script></td>\n",
       "<td><script type=\"math/tex\">2</script></td>\n",
       "<td><script type=\"math/tex\">1</script></td>\n",
       "</tr>\n",
       "<tr class =\"row-b\">\n",
       "<td class=\"ch\">D3</td>\n",
       "<td><script type=\"math/tex\">1</script></td>\n",
       "<td><script type=\"math/tex\">1</script></td>\n",
       "<td><script type=\"math/tex\">2</script></td>\n",
       "<td><script type=\"math/tex\">0</script></td>\n",
       "<td><script type=\"math/tex\">1</script></td>\n",
       "<td><script type=\"math/tex\">0</script></td>\n",
       "<td><script type=\"math/tex\">2</script></td>\n",
       "</tr>\n",
       "<tr class =\"row-a\">\n",
       "<td class=\"ch\">D4</td>\n",
       "<td><script type=\"math/tex\">2</script></td>\n",
       "<td><script type=\"math/tex\">1</script></td>\n",
       "<td><script type=\"math/tex\">0</script></td>\n",
       "<td><script type=\"math/tex\">2</script></td>\n",
       "<td><script type=\"math/tex\">0</script></td>\n",
       "<td><script type=\"math/tex\">1</script></td>\n",
       "<td><script type=\"math/tex\">2</script></td>\n",
       "</tr>\n",
       "<tr class =\"row-b\">\n",
       "<td class=\"ch\">D5</td>\n",
       "<td><script type=\"math/tex\">2</script></td>\n",
       "<td><script type=\"math/tex\">2</script></td>\n",
       "<td><script type=\"math/tex\">1</script></td>\n",
       "<td><script type=\"math/tex\">0</script></td>\n",
       "<td><script type=\"math/tex\">2</script></td>\n",
       "<td><script type=\"math/tex\">0</script></td>\n",
       "<td><script type=\"math/tex\">1</script></td>\n",
       "</tr>\n",
       "<tr class =\"row-a\">\n",
       "<td class=\"ch\">D6</td>\n",
       "<td><script type=\"math/tex\">2</script></td>\n",
       "<td><script type=\"math/tex\">0</script></td>\n",
       "<td><script type=\"math/tex\">2</script></td>\n",
       "<td><script type=\"math/tex\">1</script></td>\n",
       "<td><script type=\"math/tex\">1</script></td>\n",
       "<td><script type=\"math/tex\">2</script></td>\n",
       "<td><script type=\"math/tex\">0</script></td>\n",
       "</tr>\n",
       "</tbody>\n",
       "</table>\n",
       "</div>"
      ],
      "text/plain": [
       "     | D0   D1   D2   D3   D4   D5   D6\n",
       "+----+----+----+----+----+----+----+----+\n",
       "  D0 | 0    2    2    2    1    1    1\n",
       "  D1 | 1    0    1    2    2    1    0\n",
       "  D2 | 1    2    0    1    0    2    1\n",
       "  D3 | 1    1    2    0    1    0    2\n",
       "  D4 | 2    1    0    2    0    1    2\n",
       "  D5 | 2    2    1    0    2    0    1\n",
       "  D6 | 2    0    2    1    1    2    0"
      ]
     },
     "metadata": {},
     "output_type": "display_data"
    },
    {
     "data": {
      "text/plain": [
       "\\begin{tabular}{l|lllllll}\n",
       "  & D0 & D1 & D2 & D3 & D4 & D5 & D6 \\\\ \\hline\n",
       "D0 & $0$ & $2$ & $2$ & $2$ & $1$ & $1$ & $1$ \\\\\n",
       "D1 & $1$ & $0$ & $1$ & $2$ & $2$ & $1$ & $0$ \\\\\n",
       "D2 & $1$ & $2$ & $0$ & $1$ & $0$ & $2$ & $1$ \\\\\n",
       "D3 & $1$ & $1$ & $2$ & $0$ & $1$ & $0$ & $2$ \\\\\n",
       "D4 & $2$ & $1$ & $0$ & $2$ & $0$ & $1$ & $2$ \\\\\n",
       "D5 & $2$ & $2$ & $1$ & $0$ & $2$ & $0$ & $1$ \\\\\n",
       "D6 & $2$ & $0$ & $2$ & $1$ & $1$ & $2$ & $0$ \\\\\n",
       "\\end{tabular}"
      ]
     },
     "execution_count": 4,
     "metadata": {},
     "output_type": "execute_result"
    }
   ],
   "source": [
    "def explore_unique_basis_matrices(k):\n",
    "    labels = unique_basis4_labels[k]\n",
    "    for label in labels:\n",
    "        matrix = basis4_matrices[label]\n",
    "        show(label, matrix)\n",
    "\n",
    "show('Unique 2-form basis matrices:')\n",
    "explore_unique_basis_matrices(2)\n",
    "\n",
    "def commutation_table(labels):\n",
    "    show(table([[find_commutator(basis4_matrices[y],basis4_matrices[x]) for y in labels] for x in labels], header_column=[' '] + labels, header_row=labels))\n",
    "    return latex(table([[find_commutator(basis4_matrices[y],basis4_matrices[x]) for y in labels] for x in labels], header_column=[' '] + labels, header_row=labels))\n",
    "\n",
    "show('----------------')\n",
    "show('commutation table for 1-form matrices:')\n",
    "commutation_table(unique_basis4_labels[1])"
   ]
  },
  {
   "cell_type": "code",
   "execution_count": 5,
   "metadata": {},
   "outputs": [
    {
     "data": {
      "text/html": [
       "<html><script type=\"math/tex; mode=display\">\\newcommand{\\Bold}[1]{\\mathbf{#1}}\\verb|The|\\phantom{\\verb!x!}\\verb|quadrants|\\phantom{\\verb!x!}\\verb|for|\\phantom{\\verb!x!}\\verb|the|\\phantom{\\verb!x!}\\verb|unique|\\phantom{\\verb!x!}\\verb|k|\\phantom{\\verb!x!}\\verb|=|\\phantom{\\verb!x!}\\verb|2|\\phantom{\\verb!x!}\\verb|basis|\\phantom{\\verb!x!}\\verb|matrices:|</script></html>"
      ],
      "text/plain": [
       "'The quadrants for the unique k = 2 basis matrices:'"
      ]
     },
     "metadata": {},
     "output_type": "display_data"
    },
    {
     "data": {
      "text/html": [
       "<html><script type=\"math/tex; mode=display\">\\newcommand{\\Bold}[1]{\\mathbf{#1}}\\verb|D00| \\left[1, 5, 9\\right]</script></html>"
      ],
      "text/plain": [
       "'D00' [1, 5, 9]"
      ]
     },
     "metadata": {},
     "output_type": "display_data"
    },
    {
     "data": {
      "text/html": [
       "<html><script type=\"math/tex; mode=display\">\\newcommand{\\Bold}[1]{\\mathbf{#1}}\\verb|D01| \\left[3, 4, 8\\right]</script></html>"
      ],
      "text/plain": [
       "'D01' [3, 4, 8]"
      ]
     },
     "metadata": {},
     "output_type": "display_data"
    },
    {
     "data": {
      "text/html": [
       "<html><script type=\"math/tex; mode=display\">\\newcommand{\\Bold}[1]{\\mathbf{#1}}\\verb|D02| \\left[3, 4, 8\\right]</script></html>"
      ],
      "text/plain": [
       "'D02' [3, 4, 8]"
      ]
     },
     "metadata": {},
     "output_type": "display_data"
    },
    {
     "data": {
      "text/html": [
       "<html><script type=\"math/tex; mode=display\">\\newcommand{\\Bold}[1]{\\mathbf{#1}}\\verb|D03| \\left[3, 4, 8\\right]</script></html>"
      ],
      "text/plain": [
       "'D03' [3, 4, 8]"
      ]
     },
     "metadata": {},
     "output_type": "display_data"
    },
    {
     "data": {
      "text/html": [
       "<html><script type=\"math/tex; mode=display\">\\newcommand{\\Bold}[1]{\\mathbf{#1}}\\verb|D04| \\left[2, 6, 7\\right]</script></html>"
      ],
      "text/plain": [
       "'D04' [2, 6, 7]"
      ]
     },
     "metadata": {},
     "output_type": "display_data"
    },
    {
     "data": {
      "text/html": [
       "<html><script type=\"math/tex; mode=display\">\\newcommand{\\Bold}[1]{\\mathbf{#1}}\\verb|D05| \\left[2, 6, 7\\right]</script></html>"
      ],
      "text/plain": [
       "'D05' [2, 6, 7]"
      ]
     },
     "metadata": {},
     "output_type": "display_data"
    },
    {
     "data": {
      "text/html": [
       "<html><script type=\"math/tex; mode=display\">\\newcommand{\\Bold}[1]{\\mathbf{#1}}\\verb|D06| \\left[2, 6, 7\\right]</script></html>"
      ],
      "text/plain": [
       "'D06' [2, 6, 7]"
      ]
     },
     "metadata": {},
     "output_type": "display_data"
    },
    {
     "data": {
      "text/html": [
       "<html><script type=\"math/tex; mode=display\">\\newcommand{\\Bold}[1]{\\mathbf{#1}}\\verb|D15| \\left[1, 5, 9\\right]</script></html>"
      ],
      "text/plain": [
       "'D15' [1, 5, 9]"
      ]
     },
     "metadata": {},
     "output_type": "display_data"
    },
    {
     "data": {
      "text/html": [
       "<html><script type=\"math/tex; mode=display\">\\newcommand{\\Bold}[1]{\\mathbf{#1}}\\verb|D16| \\left[1, 5, 9\\right]</script></html>"
      ],
      "text/plain": [
       "'D16' [1, 5, 9]"
      ]
     },
     "metadata": {},
     "output_type": "display_data"
    },
    {
     "data": {
      "text/html": [
       "<html><script type=\"math/tex; mode=display\">\\newcommand{\\Bold}[1]{\\mathbf{#1}}\\verb|Classes|\\phantom{\\verb!x!}\\verb|for|\\phantom{\\verb!x!}\\verb|k|\\phantom{\\verb!x!}\\verb|=|\\phantom{\\verb!x!}\\verb|2|\\phantom{\\verb!x!}\\verb|unique|\\phantom{\\verb!x!}\\verb|basis|\\phantom{\\verb!x!}\\verb|matrices:|</script></html>"
      ],
      "text/plain": [
       "'Classes for k = 2 unique basis matrices:'"
      ]
     },
     "metadata": {},
     "output_type": "display_data"
    },
    {
     "data": {
      "text/html": [
       "<html><script type=\"math/tex; mode=display\">\\newcommand{\\Bold}[1]{\\mathbf{#1}}\\verb|Class|\\phantom{\\verb!x!}\\verb|1:| \\left[\\verb|D00|, \\verb|D15|, \\verb|D16|\\right]</script></html>"
      ],
      "text/plain": [
       "'Class 1:' ['D00', 'D15', 'D16']"
      ]
     },
     "metadata": {},
     "output_type": "display_data"
    },
    {
     "data": {
      "text/html": [
       "<html><script type=\"math/tex; mode=display\">\\newcommand{\\Bold}[1]{\\mathbf{#1}}\\verb|Class|\\phantom{\\verb!x!}\\verb|2:| \\left[\\verb|D01|, \\verb|D02|, \\verb|D03|\\right]</script></html>"
      ],
      "text/plain": [
       "'Class 2:' ['D01', 'D02', 'D03']"
      ]
     },
     "metadata": {},
     "output_type": "display_data"
    },
    {
     "data": {
      "text/html": [
       "<html><script type=\"math/tex; mode=display\">\\newcommand{\\Bold}[1]{\\mathbf{#1}}\\verb|Class|\\phantom{\\verb!x!}\\verb|3:| \\left[\\verb|D04|, \\verb|D05|, \\verb|D06|\\right]</script></html>"
      ],
      "text/plain": [
       "'Class 3:' ['D04', 'D05', 'D06']"
      ]
     },
     "metadata": {},
     "output_type": "display_data"
    },
    {
     "data": {
      "text/plain": [
       "(['D00', 'D15', 'D16'], ['D01', 'D02', 'D03'], ['D04', 'D05', 'D06'])"
      ]
     },
     "execution_count": 5,
     "metadata": {},
     "output_type": "execute_result"
    }
   ],
   "source": [
    "# Now, start to classify our k = 2 matrices\n",
    "\n",
    "# Find quadrant for a matrix:\n",
    "# Define our 9x9 permutation matrix:\n",
    "P9 = block_matrix([[ZZ3,I3,ZZ3],[ZZ3,ZZ3,I3],[I3,ZZ3,ZZ3]])\n",
    "\n",
    "# Define our 9x9 quadrant matrices:\n",
    "Q1 = block_matrix([[I3,ZZ3,ZZ3],[ZZ3,ZZ3,ZZ3],[ZZ3,ZZ3,ZZ3]])\n",
    "Q2 = block_matrix([[ZZ3,ZZ3,ZZ3],[ZZ3,I3,ZZ3],[ZZ3,ZZ3,ZZ3]])\n",
    "Q3 = block_matrix([[ZZ3,ZZ3,ZZ3],[ZZ3,ZZ3,ZZ3],[ZZ3,ZZ3,I3]])\n",
    "\n",
    "# Given a matrix, find the corresponding non-zero quadrants:\n",
    "def get_quadrants(A):\n",
    "    quadrants = []\n",
    "    if Q1*A*Q1 != 0:\n",
    "        quadrants += [1]\n",
    "    if Q2*A*Q2 != 0:\n",
    "        quadrants += [5]\n",
    "    if Q3*A*Q3 != 0:\n",
    "        quadrants += [9]\n",
    "    if Q2*P9^2*A*Q2 != 0:\n",
    "        quadrants += [2]\n",
    "    if Q3*P9^2*A*Q3 != 0:\n",
    "        quadrants += [6]\n",
    "    if Q1*P9^2*A*Q1 != 0:\n",
    "        quadrants += [7]\n",
    "    if Q3*P9*A*Q3 != 0:\n",
    "        quadrants += [3]    \n",
    "    if Q1*P9*A*Q1 != 0:\n",
    "        quadrants += [4]    \n",
    "    if Q2*P9*A*Q2 != 0:\n",
    "        quadrants += [8]\n",
    "    return quadrants\n",
    "\n",
    "# Quick test:\n",
    "# get_quadrants(basis4_matrices['D002'])\n",
    "\n",
    "# Find quadrants:\n",
    "def get_all_quadrants(k):\n",
    "    basis_labels = unique_basis4_labels[k]\n",
    "    for label in basis_labels:\n",
    "        show(label, get_quadrants(basis4_matrices[label]))\n",
    "\n",
    "# Now display the quadrants:\n",
    "show('The quadrants for the unique k = 2 basis matrices:')\n",
    "get_all_quadrants(2)\n",
    "\n",
    "# Now classify them based on [1,5,9], [3,4,8], [2,6,7]:\n",
    "def classify_basis_matrices(k):\n",
    "    class1 = []\n",
    "    class2 = []\n",
    "    class3 = []\n",
    "    basis_labels = unique_basis4_labels[k]\n",
    "    for label in basis_labels:\n",
    "        quadrants = get_quadrants(basis4_matrices[label])\n",
    "        if quadrants == [1,5,9]:\n",
    "            class1 += [label]\n",
    "        if quadrants == [3,4,8]:\n",
    "            class2 += [label]\n",
    "        if quadrants == [2,6,7]:\n",
    "            class3 += [label]\n",
    "    show('Class 1:', class1)\n",
    "    show('Class 2:', class2)\n",
    "    show('Class 3:', class3)\n",
    "    return class1, class2, class3\n",
    "\n",
    "# show('Classes for k = 3 unique basis matrices:')\n",
    "# classify_basis_matrices(3)\n",
    "\n",
    "show('Classes for k = 2 unique basis matrices:')\n",
    "classify_basis_matrices(2)"
   ]
  },
  {
   "cell_type": "code",
   "execution_count": 10,
   "metadata": {},
   "outputs": [
    {
     "data": {
      "text/html": [
       "<html><script type=\"math/tex; mode=display\">\\newcommand{\\Bold}[1]{\\mathbf{#1}}\\verb|Quick|\\phantom{\\verb!x!}\\verb|test|\\phantom{\\verb!x!}\\verb|of|\\phantom{\\verb!x!}\\verb|our|\\phantom{\\verb!x!}\\verb|custom_latex()|\\phantom{\\verb!x!}\\verb|function:|</script></html>"
      ],
      "text/plain": [
       "'Quick test of our custom_latex() function:'"
      ]
     },
     "metadata": {},
     "output_type": "display_data"
    },
    {
     "name": "stdout",
     "output_type": "stream",
     "text": [
      " - 3.14000000000000 \\partial_5^{ 7 } + w^{ 2 } \\partial_3 A_5 + \\partial_4 A_2 + w^{2} + A_3 + w\n"
     ]
    }
   ],
   "source": [
    "# Let's write the custum_latex(r) code:\n",
    "# Converts an expression into correctly sorted and formatted latex\n",
    "\n",
    "# First, define all the variables:\n",
    "var('d0 d1 d2 d3 d4 d5 d6')\n",
    "var('e0 e1 e2 e3 e4 e5 e6')\n",
    "var('A0 A1 A2 A3 A4 A5 A6')\n",
    "var('E1 E2 E3')\n",
    "var('B1 B2 B3')\n",
    "var('C1 C2 C3')\n",
    "\n",
    "# The order of the terms in this list, is the order they will be sorted to in expressions:\n",
    "custom_latex_sort_order = [-1, w, w^2]\n",
    "custom_latex_sort_order += [d0, d1, d2, d3, d4, d5, d6]\n",
    "custom_latex_sort_order += [e0, e1, e2, e3, e4, e5, e6]\n",
    "custom_latex_sort_order += [A0, A1, A2, A3, A4, A5, A6]\n",
    "custom_latex_sort_order += [E1, E2, E3, B1, B2, B3, C1, C2, C3]\n",
    "\n",
    "# Maps indecies to their associated latex:\n",
    "custom_latex_string = ['-', 'w', 'w^2']\n",
    "custom_latex_string += [r'\\partial_0', r'\\partial_1', r'\\partial_2', r'\\partial_3', r'\\partial_4', r'\\partial_5', r'\\partial_6']\n",
    "custom_latex_string += ['e_0', 'e_1', 'e_2', 'e_3', 'e_4', 'e_5', 'e_6']\n",
    "custom_latex_string += ['A_0', 'A_1', 'A_2', 'A_3', 'A_4', 'A_5', 'A_6']\n",
    "custom_latex_string += ['E_1', 'E_2', 'E_3', 'B_1', 'B_2', 'B_3', 'C_1', 'C_2', 'C_3']\n",
    "\n",
    "# The function itself:\n",
    "def custom_latex(r):\n",
    "    r = expand(r)\n",
    "    latex_result = ''\n",
    "    if r.operator() == (sym1 * sym2).operator():\n",
    "        # show('r.operands:', r.operands())\n",
    "        match = False\n",
    "        for x in r.operands():\n",
    "            if x < 0:\n",
    "                match = True\n",
    "        if match:\n",
    "            # show('Match!')\n",
    "            latex_result += ' - ' + custom_latex(-r)\n",
    "        else:\n",
    "            idx_list = []\n",
    "            power_term_tails = {}\n",
    "            number = 1\n",
    "            for t in r.operands():\n",
    "                # show('t:', t)\n",
    "                if t.operator() == (sym1^sym2).operator():\n",
    "                    head, tail = t.operands()\n",
    "                    idx = custom_latex_sort_order.index(head)\n",
    "                    idx_list.append(idx)\n",
    "                    power_term_tails[idx] = tail\n",
    "                else:\n",
    "                    if t not in custom_latex_sort_order:\n",
    "                        number = t\n",
    "                    else:\n",
    "                        idx = custom_latex_sort_order.index(t)\n",
    "                        idx_list.append(idx)\n",
    "            idx_list.sort()\n",
    "            result_list = []\n",
    "            if number != 1:\n",
    "                result_list.append(latex(number))\n",
    "            for i in idx_list:\n",
    "                if i in power_term_tails:\n",
    "                    result_list.append(custom_latex_string[i] + '^{' + latex(power_term_tails[i]) + '}')\n",
    "                else:\n",
    "                    result_list.append(custom_latex_string[i])\n",
    "            latex_result += ' '.join(x for x in result_list)\n",
    "    elif r.operator() == (sym1 + sym2).operator():\n",
    "        latex_result += ' + '.join(custom_latex(term) for term in r.operands())\n",
    "    elif r.operator() == (sym1^sym2).operator():\n",
    "        head, tail = r.operands()\n",
    "        head_idx = custom_latex_sort_order.index(head)\n",
    "        latex_result += '%s^{%s}' % (custom_latex_string[head_idx], latex(tail))\n",
    "    else:\n",
    "        idx = custom_latex_sort_order.index(r)\n",
    "        latex_result += custom_latex_string[idx]\n",
    "    return latex_result\n",
    "    # return latex_result.replace(' + - ', ' - ')\n",
    "            \n",
    "# Quick test:    \n",
    "# custom_latex(2*w)\n",
    "# custom_latex(- 2* w*d5^7)\n",
    "show('Quick test of our custom_latex() function:')\n",
    "print(custom_latex(A5*d3*w^2 + A2*d4 - 3.14* d5^7 + w + A3 + w^2))"
   ]
  },
  {
   "cell_type": "code",
   "execution_count": 11,
   "metadata": {},
   "outputs": [
    {
     "data": {
      "text/html": [
       "<html><script type=\"math/tex; mode=display\">\\newcommand{\\Bold}[1]{\\mathbf{#1}}\\verb|---------------------|</script></html>"
      ],
      "text/plain": [
       "'---------------------'"
      ]
     },
     "metadata": {},
     "output_type": "display_data"
    },
    {
     "data": {
      "text/html": [
       "<html><script type=\"math/tex; mode=display\">\\newcommand{\\Bold}[1]{\\mathbf{#1}}\\verb|Quick|\\phantom{\\verb!x!}\\verb|test|\\phantom{\\verb!x!}\\verb|of|\\phantom{\\verb!x!}\\verb|get_basis4(1,|\\phantom{\\verb!x!}\\verb|A):|</script></html>"
      ],
      "text/plain": [
       "'Quick test of get_basis4(1, A):'"
      ]
     },
     "metadata": {},
     "output_type": "display_data"
    },
    {
     "data": {
      "text/html": [
       "<html><script type=\"math/tex; mode=display\">\\newcommand{\\Bold}[1]{\\mathbf{#1}}\\verb|D0| \\verb|::| A_{0}</script></html>"
      ],
      "text/plain": [
       "'D0' '::' A0"
      ]
     },
     "metadata": {},
     "output_type": "display_data"
    },
    {
     "data": {
      "text/html": [
       "<html><script type=\"math/tex; mode=display\">\\newcommand{\\Bold}[1]{\\mathbf{#1}}\\verb|D1| \\verb|::| A_{1}</script></html>"
      ],
      "text/plain": [
       "'D1' '::' A1"
      ]
     },
     "metadata": {},
     "output_type": "display_data"
    },
    {
     "data": {
      "text/html": [
       "<html><script type=\"math/tex; mode=display\">\\newcommand{\\Bold}[1]{\\mathbf{#1}}\\verb|D2| \\verb|::| A_{2}</script></html>"
      ],
      "text/plain": [
       "'D2' '::' A2"
      ]
     },
     "metadata": {},
     "output_type": "display_data"
    },
    {
     "data": {
      "text/html": [
       "<html><script type=\"math/tex; mode=display\">\\newcommand{\\Bold}[1]{\\mathbf{#1}}\\verb|D3| \\verb|::| A_{3}</script></html>"
      ],
      "text/plain": [
       "'D3' '::' A3"
      ]
     },
     "metadata": {},
     "output_type": "display_data"
    },
    {
     "data": {
      "text/html": [
       "<html><script type=\"math/tex; mode=display\">\\newcommand{\\Bold}[1]{\\mathbf{#1}}\\verb|D4| \\verb|::| A_{4}</script></html>"
      ],
      "text/plain": [
       "'D4' '::' A4"
      ]
     },
     "metadata": {},
     "output_type": "display_data"
    },
    {
     "data": {
      "text/html": [
       "<html><script type=\"math/tex; mode=display\">\\newcommand{\\Bold}[1]{\\mathbf{#1}}\\verb|D5| \\verb|::| A_{5}</script></html>"
      ],
      "text/plain": [
       "'D5' '::' A5"
      ]
     },
     "metadata": {},
     "output_type": "display_data"
    },
    {
     "data": {
      "text/html": [
       "<html><script type=\"math/tex; mode=display\">\\newcommand{\\Bold}[1]{\\mathbf{#1}}\\verb|D6| \\verb|::| A_{6}</script></html>"
      ],
      "text/plain": [
       "'D6' '::' A6"
      ]
     },
     "metadata": {},
     "output_type": "display_data"
    },
    {
     "name": "stdout",
     "output_type": "stream",
     "text": [
      "& \\text{\\texttt{D0:{ }}} A_0 \\\\\n",
      " & \\text{\\texttt{D1:{ }}} A_1 \\\\\n",
      " & \\text{\\texttt{D2:{ }}} A_2 \\\\\n",
      " & \\text{\\texttt{D3:{ }}} A_3 \\\\\n",
      " & \\text{\\texttt{D4:{ }}} A_4 \\\\\n",
      " & \\text{\\texttt{D5:{ }}} A_5 \\\\\n",
      " & \\text{\\texttt{D6:{ }}} A_6 \\\\\n",
      "\n"
     ]
    },
    {
     "data": {
      "text/html": [
       "<html><script type=\"math/tex; mode=display\">\\newcommand{\\Bold}[1]{\\mathbf{#1}}\\verb|----------------------|</script></html>"
      ],
      "text/plain": [
       "'----------------------'"
      ]
     },
     "metadata": {},
     "output_type": "display_data"
    },
    {
     "data": {
      "text/html": [
       "<html><script type=\"math/tex; mode=display\">\\newcommand{\\Bold}[1]{\\mathbf{#1}}\\verb|The|\\phantom{\\verb!x!}\\verb|terms|\\phantom{\\verb!x!}\\verb|of|\\phantom{\\verb!x!}\\verb|G|\\phantom{\\verb!x!}\\verb|=|\\phantom{\\verb!x!}\\verb|dA:|</script></html>"
      ],
      "text/plain": [
       "'The terms of G = dA:'"
      ]
     },
     "metadata": {},
     "output_type": "display_data"
    },
    {
     "data": {
      "text/html": [
       "<html><script type=\"math/tex; mode=display\">\\newcommand{\\Bold}[1]{\\mathbf{#1}}\\verb|D00| \\verb|::| A_{4} d_{1} w^{2} + A_{5} d_{2} w^{2} + A_{6} d_{3} w^{2} + A_{1} d_{4} w + A_{2} d_{5} w + A_{3} d_{6} w + A_{0} d_{0}</script></html>"
      ],
      "text/plain": [
       "'D00' '::' A4*d1*w^2 + A5*d2*w^2 + A6*d3*w^2 + A1*d4*w + A2*d5*w + A3*d6*w + A0*d0"
      ]
     },
     "metadata": {},
     "output_type": "display_data"
    },
    {
     "data": {
      "text/html": [
       "<html><script type=\"math/tex; mode=display\">\\newcommand{\\Bold}[1]{\\mathbf{#1}}\\verb|D01| \\verb|::| A_{0} d_{1} w^{2} + A_{6} d_{5} w^{2} + A_{4} d_{4} w + A_{1} d_{0} + A_{5} d_{6}</script></html>"
      ],
      "text/plain": [
       "'D01' '::' A0*d1*w^2 + A6*d5*w^2 + A4*d4*w + A1*d0 + A5*d6"
      ]
     },
     "metadata": {},
     "output_type": "display_data"
    },
    {
     "data": {
      "text/html": [
       "<html><script type=\"math/tex; mode=display\">\\newcommand{\\Bold}[1]{\\mathbf{#1}}\\verb|D02| \\verb|::| A_{0} d_{2} w^{2} + A_{4} d_{6} w^{2} + A_{5} d_{5} w + A_{2} d_{0} + A_{6} d_{4}</script></html>"
      ],
      "text/plain": [
       "'D02' '::' A0*d2*w^2 + A4*d6*w^2 + A5*d5*w + A2*d0 + A6*d4"
      ]
     },
     "metadata": {},
     "output_type": "display_data"
    },
    {
     "data": {
      "text/html": [
       "<html><script type=\"math/tex; mode=display\">\\newcommand{\\Bold}[1]{\\mathbf{#1}}\\verb|D03| \\verb|::| A_{0} d_{3} w^{2} + A_{5} d_{4} w^{2} + A_{6} d_{6} w + A_{3} d_{0} + A_{4} d_{5}</script></html>"
      ],
      "text/plain": [
       "'D03' '::' A0*d3*w^2 + A5*d4*w^2 + A6*d6*w + A3*d0 + A4*d5"
      ]
     },
     "metadata": {},
     "output_type": "display_data"
    },
    {
     "data": {
      "text/html": [
       "<html><script type=\"math/tex; mode=display\">\\newcommand{\\Bold}[1]{\\mathbf{#1}}\\verb|D04| \\verb|::| A_{1} d_{1} w^{2} + A_{2} d_{3} w + A_{0} d_{4} w + A_{4} d_{0} + A_{3} d_{2}</script></html>"
      ],
      "text/plain": [
       "'D04' '::' A1*d1*w^2 + A2*d3*w + A0*d4*w + A4*d0 + A3*d2"
      ]
     },
     "metadata": {},
     "output_type": "display_data"
    },
    {
     "data": {
      "text/html": [
       "<html><script type=\"math/tex; mode=display\">\\newcommand{\\Bold}[1]{\\mathbf{#1}}\\verb|D05| \\verb|::| A_{2} d_{2} w^{2} + A_{3} d_{1} w + A_{0} d_{5} w + A_{5} d_{0} + A_{1} d_{3}</script></html>"
      ],
      "text/plain": [
       "'D05' '::' A2*d2*w^2 + A3*d1*w + A0*d5*w + A5*d0 + A1*d3"
      ]
     },
     "metadata": {},
     "output_type": "display_data"
    },
    {
     "data": {
      "text/html": [
       "<html><script type=\"math/tex; mode=display\">\\newcommand{\\Bold}[1]{\\mathbf{#1}}\\verb|D06| \\verb|::| A_{3} d_{3} w^{2} + A_{1} d_{2} w + A_{0} d_{6} w + A_{6} d_{0} + A_{2} d_{1}</script></html>"
      ],
      "text/plain": [
       "'D06' '::' A3*d3*w^2 + A1*d2*w + A0*d6*w + A6*d0 + A2*d1"
      ]
     },
     "metadata": {},
     "output_type": "display_data"
    },
    {
     "data": {
      "text/html": [
       "<html><script type=\"math/tex; mode=display\">\\newcommand{\\Bold}[1]{\\mathbf{#1}}\\verb|D15| \\verb|::| A_{3} d_{4} w + A_{1} d_{5} w + A_{2} d_{6} w + A_{5} d_{1} + A_{6} d_{2} + A_{4} d_{3}</script></html>"
      ],
      "text/plain": [
       "'D15' '::' A3*d4*w + A1*d5*w + A2*d6*w + A5*d1 + A6*d2 + A4*d3"
      ]
     },
     "metadata": {},
     "output_type": "display_data"
    },
    {
     "data": {
      "text/html": [
       "<html><script type=\"math/tex; mode=display\">\\newcommand{\\Bold}[1]{\\mathbf{#1}}\\verb|D16| \\verb|::| A_{6} d_{1} + A_{4} d_{2} + A_{5} d_{3} + A_{2} d_{4} + A_{3} d_{5} + A_{1} d_{6}</script></html>"
      ],
      "text/plain": [
       "'D16' '::' A6*d1 + A4*d2 + A5*d3 + A2*d4 + A3*d5 + A1*d6"
      ]
     },
     "metadata": {},
     "output_type": "display_data"
    },
    {
     "name": "stdout",
     "output_type": "stream",
     "text": [
      "& \\text{\\texttt{D00:{ }}} w^{ 2 } \\partial_1 A_4 + w^{ 2 } \\partial_2 A_5 + w^{ 2 } \\partial_3 A_6 + w \\partial_4 A_1 + w \\partial_5 A_2 + w \\partial_6 A_3 + \\partial_0 A_0 \\\\\n",
      " & \\text{\\texttt{D01:{ }}} w^{ 2 } \\partial_1 A_0 + w^{ 2 } \\partial_5 A_6 + w \\partial_4 A_4 + \\partial_0 A_1 + \\partial_6 A_5 \\\\\n",
      " & \\text{\\texttt{D02:{ }}} w^{ 2 } \\partial_2 A_0 + w^{ 2 } \\partial_6 A_4 + w \\partial_5 A_5 + \\partial_0 A_2 + \\partial_4 A_6 \\\\\n",
      " & \\text{\\texttt{D03:{ }}} w^{ 2 } \\partial_3 A_0 + w^{ 2 } \\partial_4 A_5 + w \\partial_6 A_6 + \\partial_0 A_3 + \\partial_5 A_4 \\\\\n",
      " & \\text{\\texttt{D04:{ }}} w^{ 2 } \\partial_1 A_1 + w \\partial_3 A_2 + w \\partial_4 A_0 + \\partial_0 A_4 + \\partial_2 A_3 \\\\\n",
      " & \\text{\\texttt{D05:{ }}} w^{ 2 } \\partial_2 A_2 + w \\partial_1 A_3 + w \\partial_5 A_0 + \\partial_0 A_5 + \\partial_3 A_1 \\\\\n",
      " & \\text{\\texttt{D06:{ }}} w^{ 2 } \\partial_3 A_3 + w \\partial_2 A_1 + w \\partial_6 A_0 + \\partial_0 A_6 + \\partial_1 A_2 \\\\\n",
      " & \\text{\\texttt{D15:{ }}} w \\partial_4 A_3 + w \\partial_5 A_1 + w \\partial_6 A_2 + \\partial_1 A_5 + \\partial_2 A_6 + \\partial_3 A_4 \\\\\n",
      " & \\text{\\texttt{D16:{ }}} \\partial_1 A_6 + \\partial_2 A_4 + \\partial_3 A_5 + \\partial_4 A_2 + \\partial_5 A_3 + \\partial_6 A_1 \\\\\n",
      "\n"
     ]
    },
    {
     "data": {
      "text/html": [
       "<html><script type=\"math/tex; mode=display\">\\newcommand{\\Bold}[1]{\\mathbf{#1}}\\verb|----------------------|</script></html>"
      ],
      "text/plain": [
       "'----------------------'"
      ]
     },
     "metadata": {},
     "output_type": "display_data"
    },
    {
     "data": {
      "text/html": [
       "<html><script type=\"math/tex; mode=display\">\\newcommand{\\Bold}[1]{\\mathbf{#1}}\\verb|The|\\phantom{\\verb!x!}\\verb|terms|\\phantom{\\verb!x!}\\verb|of|\\phantom{\\verb!x!}\\verb|dd:|</script></html>"
      ],
      "text/plain": [
       "'The terms of dd:'"
      ]
     },
     "metadata": {},
     "output_type": "display_data"
    },
    {
     "data": {
      "text/html": [
       "<html><script type=\"math/tex; mode=display\">\\newcommand{\\Bold}[1]{\\mathbf{#1}}\\verb|D00| \\verb|::| e_{0}</script></html>"
      ],
      "text/plain": [
       "'D00' '::' e0"
      ]
     },
     "metadata": {},
     "output_type": "display_data"
    },
    {
     "data": {
      "text/html": [
       "<html><script type=\"math/tex; mode=display\">\\newcommand{\\Bold}[1]{\\mathbf{#1}}\\verb|D01| \\verb|::| -d_{0} d_{1} w + e_{4} w</script></html>"
      ],
      "text/plain": [
       "'D01' '::' -d0*d1*w + e4*w"
      ]
     },
     "metadata": {},
     "output_type": "display_data"
    },
    {
     "data": {
      "text/html": [
       "<html><script type=\"math/tex; mode=display\">\\newcommand{\\Bold}[1]{\\mathbf{#1}}\\verb|D02| \\verb|::| -d_{0} d_{2} w + e_{5} w</script></html>"
      ],
      "text/plain": [
       "'D02' '::' -d0*d2*w + e5*w"
      ]
     },
     "metadata": {},
     "output_type": "display_data"
    },
    {
     "data": {
      "text/html": [
       "<html><script type=\"math/tex; mode=display\">\\newcommand{\\Bold}[1]{\\mathbf{#1}}\\verb|D03| \\verb|::| -d_{0} d_{3} w + e_{6} w</script></html>"
      ],
      "text/plain": [
       "'D03' '::' -d0*d3*w + e6*w"
      ]
     },
     "metadata": {},
     "output_type": "display_data"
    },
    {
     "data": {
      "text/html": [
       "<html><script type=\"math/tex; mode=display\">\\newcommand{\\Bold}[1]{\\mathbf{#1}}\\verb|D04| \\verb|::| -d_{0} d_{4} w^{2} + e_{1} w^{2}</script></html>"
      ],
      "text/plain": [
       "'D04' '::' -d0*d4*w^2 + e1*w^2"
      ]
     },
     "metadata": {},
     "output_type": "display_data"
    },
    {
     "data": {
      "text/html": [
       "<html><script type=\"math/tex; mode=display\">\\newcommand{\\Bold}[1]{\\mathbf{#1}}\\verb|D05| \\verb|::| -d_{0} d_{5} w^{2} + e_{2} w^{2}</script></html>"
      ],
      "text/plain": [
       "'D05' '::' -d0*d5*w^2 + e2*w^2"
      ]
     },
     "metadata": {},
     "output_type": "display_data"
    },
    {
     "data": {
      "text/html": [
       "<html><script type=\"math/tex; mode=display\">\\newcommand{\\Bold}[1]{\\mathbf{#1}}\\verb|D06| \\verb|::| -d_{0} d_{6} w^{2} + e_{3} w^{2}</script></html>"
      ],
      "text/plain": [
       "'D06' '::' -d0*d6*w^2 + e3*w^2"
      ]
     },
     "metadata": {},
     "output_type": "display_data"
    },
    {
     "data": {
      "text/html": [
       "<html><script type=\"math/tex; mode=display\">\\newcommand{\\Bold}[1]{\\mathbf{#1}}\\verb|D15| \\verb|::| -Z_{2} w^{2}</script></html>"
      ],
      "text/plain": [
       "'D15' '::' -Z2*w^2"
      ]
     },
     "metadata": {},
     "output_type": "display_data"
    },
    {
     "data": {
      "text/html": [
       "<html><script type=\"math/tex; mode=display\">\\newcommand{\\Bold}[1]{\\mathbf{#1}}\\verb|D16| \\verb|::| 2 \\, Z_{1}</script></html>"
      ],
      "text/plain": [
       "'D16' '::' 2*Z1"
      ]
     },
     "metadata": {},
     "output_type": "display_data"
    },
    {
     "name": "stdout",
     "output_type": "stream",
     "text": [
      "& \\text{\\texttt{D00:{ }}} e_0 \\\\\n",
      " & \\text{\\texttt{D01:{ }}} - w \\partial_0 \\partial_1 + w e_4 \\\\\n",
      " & \\text{\\texttt{D02:{ }}} - w \\partial_0 \\partial_2 + w e_5 \\\\\n",
      " & \\text{\\texttt{D03:{ }}} - w \\partial_0 \\partial_3 + w e_6 \\\\\n",
      " & \\text{\\texttt{D04:{ }}} - w^{ 2 } \\partial_0 \\partial_4 + w^{ 2 } e_1 \\\\\n",
      " & \\text{\\texttt{D05:{ }}} - w^{ 2 } \\partial_0 \\partial_5 + w^{ 2 } e_2 \\\\\n",
      " & \\text{\\texttt{D06:{ }}} - w^{ 2 } \\partial_0 \\partial_6 + w^{ 2 } e_3 \\\\\n",
      " & \\text{\\texttt{D15:{ }}} - Z_{2} w^{ 2 } \\\\\n",
      " & \\text{\\texttt{D16:{ }}} 2 \\\\\n",
      "\n"
     ]
    },
    {
     "data": {
      "text/plain": [
       "{'D00': e0,\n",
       " 'D01': -d0*d1*w + e4*w,\n",
       " 'D02': -d0*d2*w + e5*w,\n",
       " 'D03': -d0*d3*w + e6*w,\n",
       " 'D04': -d0*d4*w^2 + e1*w^2,\n",
       " 'D05': -d0*d5*w^2 + e2*w^2,\n",
       " 'D06': -d0*d6*w^2 + e3*w^2,\n",
       " 'D15': -Z2*w^2,\n",
       " 'D16': 2*Z1}"
      ]
     },
     "execution_count": 11,
     "metadata": {},
     "output_type": "execute_result"
    }
   ],
   "source": [
    "# Now extract out basis terms:\n",
    "def get_basis4(k, A, use_improved_tidy = True, use_tidy = False, use_Z_zero = False):\n",
    "    if k not in unique_basis4_labels:\n",
    "        return\n",
    "    labels = unique_basis4_labels[k]\n",
    "    latex_result = ''\n",
    "    results = {}\n",
    "    for label in labels:\n",
    "        matrix = basis4_matrices[label]\n",
    "        term = (expand(A*matrix^5)).trace()/9\n",
    "        term = w_mod(term)\n",
    "        # term = expand_w(term)\n",
    "        term = layer2_expand_w(term)\n",
    "        if use_tidy:\n",
    "            term = tidy(term)\n",
    "        if use_improved_tidy:\n",
    "            term = improved_tidy(term)\n",
    "        term = expand(term)\n",
    "        # term = expand_w(term)\n",
    "        term = layer2_expand_w(term)\n",
    "        if use_Z_zero:\n",
    "            term = term.substitute({Z2: 0})\n",
    "        if term != 0:\n",
    "            show(label, '::', term)\n",
    "            results[label] = term\n",
    "            latex_result += '& ' + latex(label + ': ') + custom_latex(term) + '\\\\\\\\\\n'\n",
    "    print(latex_result)\n",
    "    return results\n",
    "\n",
    "# Define some variables:\n",
    "var('d0 d1 d2 d3 d4 d5 d6')\n",
    "var('A0 A1 A2 A3 A4 A5 A6')\n",
    "d = d0*S0 + d1*S1 + d2*S2 + d3*S3 + d4*S4 + d5*S5 + d6*S6\n",
    "A = A0*S0 + A1*S1 + A2*S2 + A3*S3 + A4*S4 + A5*S5 + A6*S6\n",
    "\n",
    "\n",
    "show('---------------------')\n",
    "show('Quick test of get_basis4(1, A):')\n",
    "get_basis4(1, A)\n",
    "\n",
    "show('----------------------')\n",
    "show('The terms of G = dA:')\n",
    "get_basis4(2, d*A)\n",
    "\n",
    "show('----------------------')\n",
    "show('The terms of dd:')\n",
    "get_basis4(2, d*d)"
   ]
  },
  {
   "cell_type": "code",
   "execution_count": 13,
   "metadata": {},
   "outputs": [
    {
     "data": {
      "text/html": [
       "<html><script type=\"math/tex; mode=display\">\\newcommand{\\Bold}[1]{\\mathbf{#1}}\\verb|Quick|\\phantom{\\verb!x!}\\verb|test|\\phantom{\\verb!x!}\\verb|of|\\phantom{\\verb!x!}\\verb|the|\\phantom{\\verb!x!}\\verb|Hodge|\\phantom{\\verb!x!}\\verb|star|\\phantom{\\verb!x!}\\verb|operator:|</script></html>"
      ],
      "text/plain": [
       "'Quick test of the Hodge star operator:'"
      ]
     },
     "metadata": {},
     "output_type": "display_data"
    },
    {
     "data": {
      "text/html": [
       "<html><script type=\"math/tex; mode=display\">\\newcommand{\\Bold}[1]{\\mathbf{#1}}\\verb|A|\\phantom{\\verb!x!}\\verb|A|\\phantom{\\verb!x!}\\verb|**|\\phantom{\\verb!x!}\\verb|A:|</script></html>"
      ],
      "text/plain": [
       "'A A ** A:'"
      ]
     },
     "metadata": {},
     "output_type": "display_data"
    },
    {
     "data": {
      "text/html": [
       "<html><script type=\"math/tex; mode=display\">\\newcommand{\\Bold}[1]{\\mathbf{#1}}\\verb|D00112233445566| \\verb|::| A_{0}^{3} + A_{1}^{3} + A_{2}^{3} - 3 \\, A_{1} A_{2} A_{3} + A_{3}^{3} - 3 \\, A_{0} A_{1} A_{4} + A_{4}^{3} - 3 \\, A_{0} A_{2} A_{5} + A_{5}^{3} - 3 \\, A_{0} A_{3} A_{6} - 3 \\, A_{4} A_{5} A_{6} + A_{6}^{3}</script></html>"
      ],
      "text/plain": [
       "'D00112233445566' '::' A0^3 + A1^3 + A2^3 - 3*A1*A2*A3 + A3^3 - 3*A0*A1*A4 + A4^3 - 3*A0*A2*A5 + A5^3 - 3*A0*A3*A6 - 3*A4*A5*A6 + A6^3"
      ]
     },
     "metadata": {},
     "output_type": "display_data"
    },
    {
     "name": "stdout",
     "output_type": "stream",
     "text": [
      "& \\text{\\texttt{D00112233445566:{ }}} A_0^{3} + A_1^{3} + A_2^{3} +  - 3 A_1 A_2 A_3 + A_3^{3} +  - 3 A_0 A_1 A_4 + A_4^{3} +  - 3 A_0 A_2 A_5 + A_5^{3} +  - 3 A_0 A_3 A_6 +  - 3 A_4 A_5 A_6 + A_6^{3} \\\\\n",
      "\n"
     ]
    },
    {
     "data": {
      "text/html": [
       "<html><script type=\"math/tex; mode=display\">\\newcommand{\\Bold}[1]{\\mathbf{#1}}\\verb|A|\\phantom{\\verb!x!}\\verb|*|\\phantom{\\verb!x!}\\verb|A:|</script></html>"
      ],
      "text/plain": [
       "'A * A:'"
      ]
     },
     "metadata": {},
     "output_type": "display_data"
    },
    {
     "data": {
      "text/html": [
       "<html><script type=\"math/tex; mode=display\">\\newcommand{\\Bold}[1]{\\mathbf{#1}}\\verb|D00112233445566| \\verb|::| A_{0}^{2} + A_{1}^{2} + A_{2}^{2} + A_{3}^{2} + A_{4}^{2} + A_{5}^{2} + A_{6}^{2}</script></html>"
      ],
      "text/plain": [
       "'D00112233445566' '::' A0^2 + A1^2 + A2^2 + A3^2 + A4^2 + A5^2 + A6^2"
      ]
     },
     "metadata": {},
     "output_type": "display_data"
    },
    {
     "name": "stdout",
     "output_type": "stream",
     "text": [
      "& \\text{\\texttt{D00112233445566:{ }}} A_0^{2} + A_1^{2} + A_2^{2} + A_3^{2} + A_4^{2} + A_5^{2} + A_6^{2} \\\\\n",
      "\n"
     ]
    },
    {
     "data": {
      "text/plain": [
       "{'D00112233445566': A0^2 + A1^2 + A2^2 + A3^2 + A4^2 + A5^2 + A6^2}"
      ]
     },
     "execution_count": 13,
     "metadata": {},
     "output_type": "execute_result"
    }
   ],
   "source": [
    "# Now define the w-inverse:\n",
    "def w_inverse(r):\n",
    "    r = w_mod(expand(r))\n",
    "    if r == 0:\n",
    "        return r\n",
    "    if r.operator() != (sym1 + sym2).operator():\n",
    "        term = r.substitute({w: 1})\n",
    "        coeff = expand(r/term)\n",
    "        if coeff == 1:\n",
    "            return r\n",
    "        if coeff == w:\n",
    "            return w_mod(expand(w^2*term))\n",
    "        if coeff == w^2:\n",
    "            return w_mod(expand(w*term))\n",
    "        return\n",
    "    if r.operator() == (sym1 + sym2).operator():\n",
    "        result = 0\n",
    "        for term in r.operands():\n",
    "            result += w_inverse(term)\n",
    "        return result\n",
    "\n",
    "# Now define k-form Hodge star:\n",
    "def Hstar_k(k,q,A, use_improved_tidy = False):\n",
    "    if k not in unique_basis4_labels:\n",
    "        return\n",
    "    labels = unique_basis4_labels[k]\n",
    "    if False and k == 2 and q == 3:\n",
    "        # labels = ['D01', 'D02', 'D03', 'D04', 'D05', 'D06', 'D14', 'D15', 'D16']\n",
    "        labels = ['D01', 'D02', 'D03', 'D04', 'D05', 'D06', 'D41', 'D15', 'D16']\n",
    "    r = ZZ9\n",
    "    for label in labels:\n",
    "        matrix = basis4_matrices[label]\n",
    "        term = (expand(A*matrix^2)).trace()/9\n",
    "        term = expand(term)\n",
    "        term = w_mod(term)\n",
    "        # term = expand_w(term)\n",
    "        if use_improved_tidy:\n",
    "            term = improved_tidy(term)\n",
    "        if term != 0:\n",
    "            if q == 2:\n",
    "                term = w_inverse(term)\n",
    "                r += matrix^(3 - q + 1)*w*M^2*term\n",
    "            if q == 3:\n",
    "                r += matrix^(6 - q + 1)*w*M^2*term\n",
    "    # return matrix_expand_w(matrix_w_mod(expand(r)))\n",
    "    return matrix_w_mod(expand(r))\n",
    "\n",
    "show('Quick test of the Hodge star operator:')\n",
    "show('A A ** A:')\n",
    "get_basis4(14, A*A*Hstar_k(1, 3, A))\n",
    "show('A * A:')\n",
    "get_basis4(14, A*Hstar_k(1, 2, A))"
   ]
  },
  {
   "cell_type": "code",
   "execution_count": 15,
   "metadata": {},
   "outputs": [
    {
     "data": {
      "text/html": [
       "<html><script type=\"math/tex; mode=display\">\\newcommand{\\Bold}[1]{\\mathbf{#1}}\\verb|Maxwell|\\phantom{\\verb!x!}\\verb|equations|\\phantom{\\verb!x!}\\verb|as|\\phantom{\\verb!x!}\\verb|1-forms:|</script></html>"
      ],
      "text/plain": [
       "'Maxwell equations as 1-forms:'"
      ]
     },
     "metadata": {},
     "output_type": "display_data"
    },
    {
     "data": {
      "text/html": [
       "<html><script type=\"math/tex; mode=display\">\\newcommand{\\Bold}[1]{\\mathbf{#1}}\\verb|D0| \\verb|::| -B_{1} d_{0} d_{1} w^{2} - B_{2} d_{0} d_{2} w^{2} - B_{3} d_{0} d_{3} w^{2} - E_{1} d_{0} d_{4} w - E_{2} d_{0} d_{5} w - E_{3} d_{0} d_{6} w + B_{1} e_{4} w^{2} + B_{2} e_{5} w^{2} + B_{3} e_{6} w^{2} + E_{1} e_{1} w + E_{2} e_{2} w + E_{3} e_{3} w + 2 \\, C_{2} Z_{1} - C_{3} Z_{2} + C_{1} e_{0}</script></html>"
      ],
      "text/plain": [
       "'D0' '::' -B1*d0*d1*w^2 - B2*d0*d2*w^2 - B3*d0*d3*w^2 - E1*d0*d4*w - E2*d0*d5*w - E3*d0*d6*w + B1*e4*w^2 + B2*e5*w^2 + B3*e6*w^2 + E1*e1*w + E2*e2*w + E3*e3*w + 2*C2*Z1 - C3*Z2 + C1*e0"
      ]
     },
     "metadata": {},
     "output_type": "display_data"
    },
    {
     "data": {
      "text/html": [
       "<html><script type=\"math/tex; mode=display\">\\newcommand{\\Bold}[1]{\\mathbf{#1}}\\verb|D1| \\verb|::| -C_{1} d_{0} d_{1} w^{2} - B_{3} d_{0} d_{5} w^{2} - C_{2} d_{0} d_{2} w - B_{1} d_{0} d_{4} w + 2 \\, E_{3} Z_{1} w^{2} + B_{3} e_{2} w^{2} + C_{1} e_{4} w^{2} - C_{3} d_{0} d_{3} - B_{2} d_{0} d_{6} - E_{2} Z_{2} w + B_{1} e_{1} w + C_{2} e_{5} w + E_{1} e_{0} + B_{2} e_{3} + C_{3} e_{6}</script></html>"
      ],
      "text/plain": [
       "'D1' '::' -C1*d0*d1*w^2 - B3*d0*d5*w^2 - C2*d0*d2*w - B1*d0*d4*w + 2*E3*Z1*w^2 + B3*e2*w^2 + C1*e4*w^2 - C3*d0*d3 - B2*d0*d6 - E2*Z2*w + B1*e1*w + C2*e5*w + E1*e0 + B2*e3 + C3*e6"
      ]
     },
     "metadata": {},
     "output_type": "display_data"
    },
    {
     "data": {
      "text/html": [
       "<html><script type=\"math/tex; mode=display\">\\newcommand{\\Bold}[1]{\\mathbf{#1}}\\verb|D2| \\verb|::| -C_{1} d_{0} d_{2} w^{2} - B_{1} d_{0} d_{6} w^{2} - C_{2} d_{0} d_{3} w - B_{2} d_{0} d_{5} w + 2 \\, E_{1} Z_{1} w^{2} + B_{1} e_{3} w^{2} + C_{1} e_{5} w^{2} - C_{3} d_{0} d_{1} - B_{3} d_{0} d_{4} - E_{3} Z_{2} w + B_{2} e_{2} w + C_{2} e_{6} w + E_{2} e_{0} + B_{3} e_{1} + C_{3} e_{4}</script></html>"
      ],
      "text/plain": [
       "'D2' '::' -C1*d0*d2*w^2 - B1*d0*d6*w^2 - C2*d0*d3*w - B2*d0*d5*w + 2*E1*Z1*w^2 + B1*e3*w^2 + C1*e5*w^2 - C3*d0*d1 - B3*d0*d4 - E3*Z2*w + B2*e2*w + C2*e6*w + E2*e0 + B3*e1 + C3*e4"
      ]
     },
     "metadata": {},
     "output_type": "display_data"
    },
    {
     "data": {
      "text/html": [
       "<html><script type=\"math/tex; mode=display\">\\newcommand{\\Bold}[1]{\\mathbf{#1}}\\verb|D3| \\verb|::| -C_{1} d_{0} d_{3} w^{2} - B_{2} d_{0} d_{4} w^{2} - C_{2} d_{0} d_{1} w - B_{3} d_{0} d_{6} w + 2 \\, E_{2} Z_{1} w^{2} + B_{2} e_{1} w^{2} + C_{1} e_{6} w^{2} - C_{3} d_{0} d_{2} - B_{1} d_{0} d_{5} - E_{1} Z_{2} w + B_{3} e_{3} w + C_{2} e_{4} w + E_{3} e_{0} + B_{1} e_{2} + C_{3} e_{5}</script></html>"
      ],
      "text/plain": [
       "'D3' '::' -C1*d0*d3*w^2 - B2*d0*d4*w^2 - C2*d0*d1*w - B3*d0*d6*w + 2*E2*Z1*w^2 + B2*e1*w^2 + C1*e6*w^2 - C3*d0*d2 - B1*d0*d5 - E1*Z2*w + B3*e3*w + C2*e4*w + E3*e0 + B1*e2 + C3*e5"
      ]
     },
     "metadata": {},
     "output_type": "display_data"
    },
    {
     "data": {
      "text/html": [
       "<html><script type=\"math/tex; mode=display\">\\newcommand{\\Bold}[1]{\\mathbf{#1}}\\verb|D4| \\verb|::| -E_{1} d_{0} d_{1} w^{2} - C_{2} d_{0} d_{6} w^{2} - E_{2} d_{0} d_{3} w - C_{1} d_{0} d_{4} w - B_{3} Z_{2} w^{2} + C_{2} e_{3} w^{2} + E_{1} e_{4} w^{2} - E_{3} d_{0} d_{2} - C_{3} d_{0} d_{5} + 2 \\, B_{2} Z_{1} w + C_{1} e_{1} w + E_{2} e_{6} w + B_{1} e_{0} + C_{3} e_{2} + E_{3} e_{5}</script></html>"
      ],
      "text/plain": [
       "'D4' '::' -E1*d0*d1*w^2 - C2*d0*d6*w^2 - E2*d0*d3*w - C1*d0*d4*w - B3*Z2*w^2 + C2*e3*w^2 + E1*e4*w^2 - E3*d0*d2 - C3*d0*d5 + 2*B2*Z1*w + C1*e1*w + E2*e6*w + B1*e0 + C3*e2 + E3*e5"
      ]
     },
     "metadata": {},
     "output_type": "display_data"
    },
    {
     "data": {
      "text/html": [
       "<html><script type=\"math/tex; mode=display\">\\newcommand{\\Bold}[1]{\\mathbf{#1}}\\verb|D5| \\verb|::| -E_{2} d_{0} d_{2} w^{2} - C_{2} d_{0} d_{4} w^{2} - E_{3} d_{0} d_{1} w - C_{1} d_{0} d_{5} w - B_{1} Z_{2} w^{2} + C_{2} e_{1} w^{2} + E_{2} e_{5} w^{2} - E_{1} d_{0} d_{3} - C_{3} d_{0} d_{6} + 2 \\, B_{3} Z_{1} w + C_{1} e_{2} w + E_{3} e_{4} w + B_{2} e_{0} + C_{3} e_{3} + E_{1} e_{6}</script></html>"
      ],
      "text/plain": [
       "'D5' '::' -E2*d0*d2*w^2 - C2*d0*d4*w^2 - E3*d0*d1*w - C1*d0*d5*w - B1*Z2*w^2 + C2*e1*w^2 + E2*e5*w^2 - E1*d0*d3 - C3*d0*d6 + 2*B3*Z1*w + C1*e2*w + E3*e4*w + B2*e0 + C3*e3 + E1*e6"
      ]
     },
     "metadata": {},
     "output_type": "display_data"
    },
    {
     "data": {
      "text/html": [
       "<html><script type=\"math/tex; mode=display\">\\newcommand{\\Bold}[1]{\\mathbf{#1}}\\verb|D6| \\verb|::| -E_{3} d_{0} d_{3} w^{2} - C_{2} d_{0} d_{5} w^{2} - E_{1} d_{0} d_{2} w - C_{1} d_{0} d_{6} w - B_{2} Z_{2} w^{2} + C_{2} e_{2} w^{2} + E_{3} e_{6} w^{2} - E_{2} d_{0} d_{1} - C_{3} d_{0} d_{4} + 2 \\, B_{1} Z_{1} w + C_{1} e_{3} w + E_{1} e_{5} w + B_{3} e_{0} + C_{3} e_{1} + E_{2} e_{4}</script></html>"
      ],
      "text/plain": [
       "'D6' '::' -E3*d0*d3*w^2 - C2*d0*d5*w^2 - E1*d0*d2*w - C1*d0*d6*w - B2*Z2*w^2 + C2*e2*w^2 + E3*e6*w^2 - E2*d0*d1 - C3*d0*d4 + 2*B1*Z1*w + C1*e3*w + E1*e5*w + B3*e0 + C3*e1 + E2*e4"
      ]
     },
     "metadata": {},
     "output_type": "display_data"
    },
    {
     "name": "stdout",
     "output_type": "stream",
     "text": [
      "& \\text{\\texttt{D0:{ }}} - w^{ 2 } \\partial_0 \\partial_1 B_1 +  - w^{ 2 } \\partial_0 \\partial_2 B_2 +  - w^{ 2 } \\partial_0 \\partial_3 B_3 +  - w \\partial_0 \\partial_4 E_1 +  - w \\partial_0 \\partial_5 E_2 +  - w \\partial_0 \\partial_6 E_3 + w^{ 2 } e_4 B_1 + w^{ 2 } e_5 B_2 + w^{ 2 } e_6 B_3 + w e_1 E_1 + w e_2 E_2 + w e_3 E_3 + 2 C_2 +  - Z_{2} C_3 + e_0 C_1 \\\\\n",
      " & \\text{\\texttt{D1:{ }}} - w^{ 2 } \\partial_0 \\partial_1 C_1 +  - w^{ 2 } \\partial_0 \\partial_5 B_3 +  - w \\partial_0 \\partial_2 C_2 +  - w \\partial_0 \\partial_4 B_1 + 2 w^{ 2 } E_3 + w^{ 2 } e_2 B_3 + w^{ 2 } e_4 C_1 +  - \\partial_0 \\partial_3 C_3 +  - \\partial_0 \\partial_6 B_2 +  - Z_{2} w E_2 + w e_1 B_1 + w e_5 C_2 + e_0 E_1 + e_3 B_2 + e_6 C_3 \\\\\n",
      " & \\text{\\texttt{D2:{ }}} - w^{ 2 } \\partial_0 \\partial_2 C_1 +  - w^{ 2 } \\partial_0 \\partial_6 B_1 +  - w \\partial_0 \\partial_3 C_2 +  - w \\partial_0 \\partial_5 B_2 + 2 w^{ 2 } E_1 + w^{ 2 } e_3 B_1 + w^{ 2 } e_5 C_1 +  - \\partial_0 \\partial_1 C_3 +  - \\partial_0 \\partial_4 B_3 +  - Z_{2} w E_3 + w e_2 B_2 + w e_6 C_2 + e_0 E_2 + e_1 B_3 + e_4 C_3 \\\\\n",
      " & \\text{\\texttt{D3:{ }}} - w^{ 2 } \\partial_0 \\partial_3 C_1 +  - w^{ 2 } \\partial_0 \\partial_4 B_2 +  - w \\partial_0 \\partial_1 C_2 +  - w \\partial_0 \\partial_6 B_3 + 2 w^{ 2 } E_2 + w^{ 2 } e_1 B_2 + w^{ 2 } e_6 C_1 +  - \\partial_0 \\partial_2 C_3 +  - \\partial_0 \\partial_5 B_1 +  - Z_{2} w E_1 + w e_3 B_3 + w e_4 C_2 + e_0 E_3 + e_2 B_1 + e_5 C_3 \\\\\n",
      " & \\text{\\texttt{D4:{ }}} - w^{ 2 } \\partial_0 \\partial_1 E_1 +  - w^{ 2 } \\partial_0 \\partial_6 C_2 +  - w \\partial_0 \\partial_3 E_2 +  - w \\partial_0 \\partial_4 C_1 +  - Z_{2} w^{ 2 } B_3 + w^{ 2 } e_3 C_2 + w^{ 2 } e_4 E_1 +  - \\partial_0 \\partial_2 E_3 +  - \\partial_0 \\partial_5 C_3 + 2 w B_2 + w e_1 C_1 + w e_6 E_2 + e_0 B_1 + e_2 C_3 + e_5 E_3 \\\\\n",
      " & \\text{\\texttt{D5:{ }}} - w^{ 2 } \\partial_0 \\partial_2 E_2 +  - w^{ 2 } \\partial_0 \\partial_4 C_2 +  - w \\partial_0 \\partial_1 E_3 +  - w \\partial_0 \\partial_5 C_1 +  - Z_{2} w^{ 2 } B_1 + w^{ 2 } e_1 C_2 + w^{ 2 } e_5 E_2 +  - \\partial_0 \\partial_3 E_1 +  - \\partial_0 \\partial_6 C_3 + 2 w B_3 + w e_2 C_1 + w e_4 E_3 + e_0 B_2 + e_3 C_3 + e_6 E_1 \\\\\n",
      " & \\text{\\texttt{D6:{ }}} - w^{ 2 } \\partial_0 \\partial_3 E_3 +  - w^{ 2 } \\partial_0 \\partial_5 C_2 +  - w \\partial_0 \\partial_2 E_1 +  - w \\partial_0 \\partial_6 C_1 +  - Z_{2} w^{ 2 } B_2 + w^{ 2 } e_2 C_2 + w^{ 2 } e_6 E_3 +  - \\partial_0 \\partial_1 E_2 +  - \\partial_0 \\partial_4 C_3 + 2 w B_1 + w e_3 C_1 + w e_5 E_1 + e_0 B_3 + e_1 C_3 + e_4 E_2 \\\\\n",
      "\n"
     ]
    },
    {
     "data": {
      "text/html": [
       "<html><script type=\"math/tex; mode=display\">\\newcommand{\\Bold}[1]{\\mathbf{#1}}\\verb|Maxwell|\\phantom{\\verb!x!}\\verb|equations|\\phantom{\\verb!x!}\\verb|as|\\phantom{\\verb!x!}\\verb|4-forms:|</script></html>"
      ],
      "text/plain": [
       "'Maxwell equations as 4-forms:'"
      ]
     },
     "metadata": {},
     "output_type": "display_data"
    },
    {
     "data": {
      "text/html": [
       "<html><script type=\"math/tex; mode=display\">\\newcommand{\\Bold}[1]{\\mathbf{#1}}\\verb|D0011| \\verb|::| -E_{2} d_{0} d_{3} w^{2} - C_{1} d_{0} d_{4} w^{2} - E_{3} d_{0} d_{2} w - C_{3} d_{0} d_{5} w + 2 \\, B_{2} Z_{1} w^{2} + C_{1} e_{1} w^{2} + E_{2} e_{6} w^{2} - E_{1} d_{0} d_{1} - C_{2} d_{0} d_{6} + B_{1} e_{0} w + C_{3} e_{2} w + E_{3} e_{5} w - B_{3} Z_{2} + C_{2} e_{3} + E_{1} e_{4}</script></html>"
      ],
      "text/plain": [
       "'D0011' '::' -E2*d0*d3*w^2 - C1*d0*d4*w^2 - E3*d0*d2*w - C3*d0*d5*w + 2*B2*Z1*w^2 + C1*e1*w^2 + E2*e6*w^2 - E1*d0*d1 - C2*d0*d6 + B1*e0*w + C3*e2*w + E3*e5*w - B3*Z2 + C2*e3 + E1*e4"
      ]
     },
     "metadata": {},
     "output_type": "display_data"
    },
    {
     "data": {
      "text/html": [
       "<html><script type=\"math/tex; mode=display\">\\newcommand{\\Bold}[1]{\\mathbf{#1}}\\verb|D0012| \\verb|::| -E_{3} d_{0} d_{3} w^{2} - C_{2} d_{0} d_{5} w^{2} - E_{1} d_{0} d_{2} w - C_{1} d_{0} d_{6} w - B_{2} Z_{2} w^{2} + C_{2} e_{2} w^{2} + E_{3} e_{6} w^{2} - E_{2} d_{0} d_{1} - C_{3} d_{0} d_{4} + 2 \\, B_{1} Z_{1} w + C_{1} e_{3} w + E_{1} e_{5} w + B_{3} e_{0} + C_{3} e_{1} + E_{2} e_{4}</script></html>"
      ],
      "text/plain": [
       "'D0012' '::' -E3*d0*d3*w^2 - C2*d0*d5*w^2 - E1*d0*d2*w - C1*d0*d6*w - B2*Z2*w^2 + C2*e2*w^2 + E3*e6*w^2 - E2*d0*d1 - C3*d0*d4 + 2*B1*Z1*w + C1*e3*w + E1*e5*w + B3*e0 + C3*e1 + E2*e4"
      ]
     },
     "metadata": {},
     "output_type": "display_data"
    },
    {
     "data": {
      "text/html": [
       "<html><script type=\"math/tex; mode=display\">\\newcommand{\\Bold}[1]{\\mathbf{#1}}\\verb|D0013| \\verb|::| -E_{1} d_{0} d_{3} w^{2} - C_{3} d_{0} d_{6} w^{2} - E_{2} d_{0} d_{2} w - C_{2} d_{0} d_{4} w + B_{2} e_{0} w^{2} + C_{3} e_{3} w^{2} + E_{1} e_{6} w^{2} - E_{3} d_{0} d_{1} - C_{1} d_{0} d_{5} - B_{1} Z_{2} w + C_{2} e_{1} w + E_{2} e_{5} w + 2 \\, B_{3} Z_{1} + C_{1} e_{2} + E_{3} e_{4}</script></html>"
      ],
      "text/plain": [
       "'D0013' '::' -E1*d0*d3*w^2 - C3*d0*d6*w^2 - E2*d0*d2*w - C2*d0*d4*w + B2*e0*w^2 + C3*e3*w^2 + E1*e6*w^2 - E3*d0*d1 - C1*d0*d5 - B1*Z2*w + C2*e1*w + E2*e5*w + 2*B3*Z1 + C1*e2 + E3*e4"
      ]
     },
     "metadata": {},
     "output_type": "display_data"
    },
    {
     "data": {
      "text/html": [
       "<html><script type=\"math/tex; mode=display\">\\newcommand{\\Bold}[1]{\\mathbf{#1}}\\verb|D0014| \\verb|::| -E_{1} d_{0} d_{4} w^{2} - E_{2} d_{0} d_{5} w^{2} - E_{3} d_{0} d_{6} w^{2} + E_{1} e_{1} w^{2} + E_{2} e_{2} w^{2} + E_{3} e_{3} w^{2} - B_{1} d_{0} d_{1} - B_{2} d_{0} d_{2} - B_{3} d_{0} d_{3} + 2 \\, C_{2} Z_{1} w - C_{3} Z_{2} w + C_{1} e_{0} w + B_{1} e_{4} + B_{2} e_{5} + B_{3} e_{6}</script></html>"
      ],
      "text/plain": [
       "'D0014' '::' -E1*d0*d4*w^2 - E2*d0*d5*w^2 - E3*d0*d6*w^2 + E1*e1*w^2 + E2*e2*w^2 + E3*e3*w^2 - B1*d0*d1 - B2*d0*d2 - B3*d0*d3 + 2*C2*Z1*w - C3*Z2*w + C1*e0*w + B1*e4 + B2*e5 + B3*e6"
      ]
     },
     "metadata": {},
     "output_type": "display_data"
    },
    {
     "data": {
      "text/html": [
       "<html><script type=\"math/tex; mode=display\">\\newcommand{\\Bold}[1]{\\mathbf{#1}}\\verb|D0015| \\verb|::| -E_{3} d_{0} d_{4} w - E_{1} d_{0} d_{5} w - E_{2} d_{0} d_{6} w + 2 \\, C_{3} Z_{1} w^{2} - C_{1} Z_{2} w^{2} + C_{2} e_{0} w^{2} - B_{2} d_{0} d_{1} - B_{3} d_{0} d_{2} - B_{1} d_{0} d_{3} + E_{3} e_{1} w + E_{1} e_{2} w + E_{2} e_{3} w + B_{2} e_{4} + B_{3} e_{5} + B_{1} e_{6}</script></html>"
      ],
      "text/plain": [
       "'D0015' '::' -E3*d0*d4*w - E1*d0*d5*w - E2*d0*d6*w + 2*C3*Z1*w^2 - C1*Z2*w^2 + C2*e0*w^2 - B2*d0*d1 - B3*d0*d2 - B1*d0*d3 + E3*e1*w + E1*e2*w + E2*e3*w + B2*e4 + B3*e5 + B1*e6"
      ]
     },
     "metadata": {},
     "output_type": "display_data"
    },
    {
     "data": {
      "text/html": [
       "<html><script type=\"math/tex; mode=display\">\\newcommand{\\Bold}[1]{\\mathbf{#1}}\\verb|D0016| \\verb|::| -B_{3} d_{0} d_{1} - B_{1} d_{0} d_{2} - B_{2} d_{0} d_{3} - E_{2} d_{0} d_{4} - E_{3} d_{0} d_{5} - E_{1} d_{0} d_{6} + 2 \\, C_{1} Z_{1} - C_{2} Z_{2} + C_{3} e_{0} + E_{2} e_{1} + E_{3} e_{2} + E_{1} e_{3} + B_{3} e_{4} + B_{1} e_{5} + B_{2} e_{6}</script></html>"
      ],
      "text/plain": [
       "'D0016' '::' -B3*d0*d1 - B1*d0*d2 - B2*d0*d3 - E2*d0*d4 - E3*d0*d5 - E1*d0*d6 + 2*C1*Z1 - C2*Z2 + C3*e0 + E2*e1 + E3*e2 + E1*e3 + B3*e4 + B1*e5 + B2*e6"
      ]
     },
     "metadata": {},
     "output_type": "display_data"
    },
    {
     "data": {
      "text/html": [
       "<html><script type=\"math/tex; mode=display\">\\newcommand{\\Bold}[1]{\\mathbf{#1}}\\verb|D0044| \\verb|::| -C_{3} d_{0} d_{3} w^{2} - B_{2} d_{0} d_{6} w^{2} - C_{1} d_{0} d_{1} w - B_{3} d_{0} d_{5} w + E_{1} e_{0} w^{2} + B_{2} e_{3} w^{2} + C_{3} e_{6} w^{2} - C_{2} d_{0} d_{2} - B_{1} d_{0} d_{4} + 2 \\, E_{3} Z_{1} w + B_{3} e_{2} w + C_{1} e_{4} w - E_{2} Z_{2} + B_{1} e_{1} + C_{2} e_{5}</script></html>"
      ],
      "text/plain": [
       "'D0044' '::' -C3*d0*d3*w^2 - B2*d0*d6*w^2 - C1*d0*d1*w - B3*d0*d5*w + E1*e0*w^2 + B2*e3*w^2 + C3*e6*w^2 - C2*d0*d2 - B1*d0*d4 + 2*E3*Z1*w + B3*e2*w + C1*e4*w - E2*Z2 + B1*e1 + C2*e5"
      ]
     },
     "metadata": {},
     "output_type": "display_data"
    },
    {
     "data": {
      "text/html": [
       "<html><script type=\"math/tex; mode=display\">\\newcommand{\\Bold}[1]{\\mathbf{#1}}\\verb|D0045| \\verb|::| -C_{2} d_{0} d_{1} w^{2} - B_{3} d_{0} d_{6} w^{2} - C_{3} d_{0} d_{2} w - B_{1} d_{0} d_{5} w - E_{1} Z_{2} w^{2} + B_{3} e_{3} w^{2} + C_{2} e_{4} w^{2} - C_{1} d_{0} d_{3} - B_{2} d_{0} d_{4} + E_{3} e_{0} w + B_{1} e_{2} w + C_{3} e_{5} w + 2 \\, E_{2} Z_{1} + B_{2} e_{1} + C_{1} e_{6}</script></html>"
      ],
      "text/plain": [
       "'D0045' '::' -C2*d0*d1*w^2 - B3*d0*d6*w^2 - C3*d0*d2*w - B1*d0*d5*w - E1*Z2*w^2 + B3*e3*w^2 + C2*e4*w^2 - C1*d0*d3 - B2*d0*d4 + E3*e0*w + B1*e2*w + C3*e5*w + 2*E2*Z1 + B2*e1 + C1*e6"
      ]
     },
     "metadata": {},
     "output_type": "display_data"
    },
    {
     "data": {
      "text/html": [
       "<html><script type=\"math/tex; mode=display\">\\newcommand{\\Bold}[1]{\\mathbf{#1}}\\verb|D0046| \\verb|::| -C_{1} d_{0} d_{2} w^{2} - B_{1} d_{0} d_{6} w^{2} - C_{2} d_{0} d_{3} w - B_{2} d_{0} d_{5} w + 2 \\, E_{1} Z_{1} w^{2} + B_{1} e_{3} w^{2} + C_{1} e_{5} w^{2} - C_{3} d_{0} d_{1} - B_{3} d_{0} d_{4} - E_{3} Z_{2} w + B_{2} e_{2} w + C_{2} e_{6} w + E_{2} e_{0} + B_{3} e_{1} + C_{3} e_{4}</script></html>"
      ],
      "text/plain": [
       "'D0046' '::' -C1*d0*d2*w^2 - B1*d0*d6*w^2 - C2*d0*d3*w - B2*d0*d5*w + 2*E1*Z1*w^2 + B1*e3*w^2 + C1*e5*w^2 - C3*d0*d1 - B3*d0*d4 - E3*Z2*w + B2*e2*w + C2*e6*w + E2*e0 + B3*e1 + C3*e4"
      ]
     },
     "metadata": {},
     "output_type": "display_data"
    },
    {
     "name": "stdout",
     "output_type": "stream",
     "text": [
      "& \\text{\\texttt{D0011:{ }}} - w^{ 2 } \\partial_0 \\partial_3 E_2 +  - w^{ 2 } \\partial_0 \\partial_4 C_1 +  - w \\partial_0 \\partial_2 E_3 +  - w \\partial_0 \\partial_5 C_3 + 2 w^{ 2 } B_2 + w^{ 2 } e_1 C_1 + w^{ 2 } e_6 E_2 +  - \\partial_0 \\partial_1 E_1 +  - \\partial_0 \\partial_6 C_2 + w e_0 B_1 + w e_2 C_3 + w e_5 E_3 +  - Z_{2} B_3 + e_3 C_2 + e_4 E_1 \\\\\n",
      " & \\text{\\texttt{D0012:{ }}} - w^{ 2 } \\partial_0 \\partial_3 E_3 +  - w^{ 2 } \\partial_0 \\partial_5 C_2 +  - w \\partial_0 \\partial_2 E_1 +  - w \\partial_0 \\partial_6 C_1 +  - Z_{2} w^{ 2 } B_2 + w^{ 2 } e_2 C_2 + w^{ 2 } e_6 E_3 +  - \\partial_0 \\partial_1 E_2 +  - \\partial_0 \\partial_4 C_3 + 2 w B_1 + w e_3 C_1 + w e_5 E_1 + e_0 B_3 + e_1 C_3 + e_4 E_2 \\\\\n",
      " & \\text{\\texttt{D0013:{ }}} - w^{ 2 } \\partial_0 \\partial_3 E_1 +  - w^{ 2 } \\partial_0 \\partial_6 C_3 +  - w \\partial_0 \\partial_2 E_2 +  - w \\partial_0 \\partial_4 C_2 + w^{ 2 } e_0 B_2 + w^{ 2 } e_3 C_3 + w^{ 2 } e_6 E_1 +  - \\partial_0 \\partial_1 E_3 +  - \\partial_0 \\partial_5 C_1 +  - Z_{2} w B_1 + w e_1 C_2 + w e_5 E_2 + 2 B_3 + e_2 C_1 + e_4 E_3 \\\\\n",
      " & \\text{\\texttt{D0014:{ }}} - w^{ 2 } \\partial_0 \\partial_4 E_1 +  - w^{ 2 } \\partial_0 \\partial_5 E_2 +  - w^{ 2 } \\partial_0 \\partial_6 E_3 + w^{ 2 } e_1 E_1 + w^{ 2 } e_2 E_2 + w^{ 2 } e_3 E_3 +  - \\partial_0 \\partial_1 B_1 +  - \\partial_0 \\partial_2 B_2 +  - \\partial_0 \\partial_3 B_3 + 2 w C_2 +  - Z_{2} w C_3 + w e_0 C_1 + e_4 B_1 + e_5 B_2 + e_6 B_3 \\\\\n",
      " & \\text{\\texttt{D0015:{ }}} - w \\partial_0 \\partial_4 E_3 +  - w \\partial_0 \\partial_5 E_1 +  - w \\partial_0 \\partial_6 E_2 + 2 w^{ 2 } C_3 +  - Z_{2} w^{ 2 } C_1 + w^{ 2 } e_0 C_2 +  - \\partial_0 \\partial_1 B_2 +  - \\partial_0 \\partial_2 B_3 +  - \\partial_0 \\partial_3 B_1 + w e_1 E_3 + w e_2 E_1 + w e_3 E_2 + e_4 B_2 + e_5 B_3 + e_6 B_1 \\\\\n",
      " & \\text{\\texttt{D0016:{ }}} - \\partial_0 \\partial_1 B_3 +  - \\partial_0 \\partial_2 B_1 +  - \\partial_0 \\partial_3 B_2 +  - \\partial_0 \\partial_4 E_2 +  - \\partial_0 \\partial_5 E_3 +  - \\partial_0 \\partial_6 E_1 + 2 C_1 +  - Z_{2} C_2 + e_0 C_3 + e_1 E_2 + e_2 E_3 + e_3 E_1 + e_4 B_3 + e_5 B_1 + e_6 B_2 \\\\\n",
      " & \\text{\\texttt{D0044:{ }}} - w^{ 2 } \\partial_0 \\partial_3 C_3 +  - w^{ 2 } \\partial_0 \\partial_6 B_2 +  - w \\partial_0 \\partial_1 C_1 +  - w \\partial_0 \\partial_5 B_3 + w^{ 2 } e_0 E_1 + w^{ 2 } e_3 B_2 + w^{ 2 } e_6 C_3 +  - \\partial_0 \\partial_2 C_2 +  - \\partial_0 \\partial_4 B_1 + 2 w E_3 + w e_2 B_3 + w e_4 C_1 +  - Z_{2} E_2 + e_1 B_1 + e_5 C_2 \\\\\n",
      " & \\text{\\texttt{D0045:{ }}} - w^{ 2 } \\partial_0 \\partial_1 C_2 +  - w^{ 2 } \\partial_0 \\partial_6 B_3 +  - w \\partial_0 \\partial_2 C_3 +  - w \\partial_0 \\partial_5 B_1 +  - Z_{2} w^{ 2 } E_1 + w^{ 2 } e_3 B_3 + w^{ 2 } e_4 C_2 +  - \\partial_0 \\partial_3 C_1 +  - \\partial_0 \\partial_4 B_2 + w e_0 E_3 + w e_2 B_1 + w e_5 C_3 + 2 E_2 + e_1 B_2 + e_6 C_1 \\\\\n",
      " & \\text{\\texttt{D0046:{ }}} - w^{ 2 } \\partial_0 \\partial_2 C_1 +  - w^{ 2 } \\partial_0 \\partial_6 B_1 +  - w \\partial_0 \\partial_3 C_2 +  - w \\partial_0 \\partial_5 B_2 + 2 w^{ 2 } E_1 + w^{ 2 } e_3 B_1 + w^{ 2 } e_5 C_1 +  - \\partial_0 \\partial_1 C_3 +  - \\partial_0 \\partial_4 B_3 +  - Z_{2} w E_3 + w e_2 B_2 + w e_6 C_2 + e_0 E_2 + e_1 B_3 + e_4 C_3 \\\\\n",
      "\n"
     ]
    },
    {
     "data": {
      "text/html": [
       "<html><script type=\"math/tex; mode=display\">\\newcommand{\\Bold}[1]{\\mathbf{#1}}\\verb|--------------------------------------------|</script></html>"
      ],
      "text/plain": [
       "'--------------------------------------------'"
      ]
     },
     "metadata": {},
     "output_type": "display_data"
    },
    {
     "data": {
      "text/html": [
       "<html><script type=\"math/tex; mode=display\">\\newcommand{\\Bold}[1]{\\mathbf{#1}}\\verb|The|\\phantom{\\verb!x!}\\verb|extracted|\\phantom{\\verb!x!}\\verb|out|\\phantom{\\verb!x!}\\verb|q|\\phantom{\\verb!x!}\\verb|=|\\phantom{\\verb!x!}\\verb|3|\\phantom{\\verb!x!}\\verb|Maxwell|\\phantom{\\verb!x!}\\verb|equations:|</script></html>"
      ],
      "text/plain": [
       "'The extracted out q = 3 Maxwell equations:'"
      ]
     },
     "metadata": {},
     "output_type": "display_data"
    },
    {
     "data": {
      "text/html": [
       "<html><script type=\"math/tex; mode=display\">\\newcommand{\\Bold}[1]{\\mathbf{#1}}C1: \\bar{Z}\\cdot(C1,2 C_2, - C_3) + w e\\cdot(E_1,E_2,E_3) + w^2 \\bar{e}\\cdot(B_1,B_2,B_3) -w^2 \\partial_0\\nabla\\cdot(B_1,B_2,B_3) -w \\partial_0\\bar{\\nabla}\\cdot(E_1,E_2,E_3)</script></html>"
      ],
      "text/plain": [
       "C1: \\bar{Z}\\cdot(C1,2 C_2, - C_3) + w e\\cdot(E_1,E_2,E_3) + w^2 \\bar{e}\\cdot(B_1,B_2,B_3) -w^2 \\partial_0\\nabla\\cdot(B_1,B_2,B_3) -w \\partial_0\\bar{\\nabla}\\cdot(E_1,E_2,E_3)"
      ]
     },
     "metadata": {},
     "output_type": "display_data"
    },
    {
     "data": {
      "text/html": [
       "<html><script type=\"math/tex; mode=display\">\\newcommand{\\Bold}[1]{\\mathbf{#1}}C2: \\bar{Z}\\cdot(C2,2 C_3, - C_1) + w^2 e\\cdot(E_3,E_1,E_2) + w \\bar{e}\\cdot(B_2,B_3,B_1) -w \\partial_0\\nabla\\cdot(B_2,B_3,B_1) -w^2 \\partial_0\\bar{\\nabla}\\cdot(E_3,E_1,E_2)</script></html>"
      ],
      "text/plain": [
       "C2: \\bar{Z}\\cdot(C2,2 C_3, - C_1) + w^2 e\\cdot(E_3,E_1,E_2) + w \\bar{e}\\cdot(B_2,B_3,B_1) -w \\partial_0\\nabla\\cdot(B_2,B_3,B_1) -w^2 \\partial_0\\bar{\\nabla}\\cdot(E_3,E_1,E_2)"
      ]
     },
     "metadata": {},
     "output_type": "display_data"
    },
    {
     "data": {
      "text/html": [
       "<html><script type=\"math/tex; mode=display\">\\newcommand{\\Bold}[1]{\\mathbf{#1}}C3: \\bar{Z}\\cdot(C3,2 C_1, - C_2) +  e\\cdot(E_2,E_3,E_1) +  \\bar{e}\\cdot(B_3,B_1,B_2) - \\partial_0\\nabla\\cdot(B_3,B_1,B_2) - \\partial_0\\bar{\\nabla}\\cdot(E_2,E_3,E_1)</script></html>"
      ],
      "text/plain": [
       "C3: \\bar{Z}\\cdot(C3,2 C_1, - C_2) +  e\\cdot(E_2,E_3,E_1) +  \\bar{e}\\cdot(B_3,B_1,B_2) - \\partial_0\\nabla\\cdot(B_3,B_1,B_2) - \\partial_0\\bar{\\nabla}\\cdot(E_2,E_3,E_1)"
      ]
     },
     "metadata": {},
     "output_type": "display_data"
    },
    {
     "data": {
      "text/html": [
       "<html><script type=\"math/tex; mode=display\">\\newcommand{\\Bold}[1]{\\mathbf{#1}}</script></html>"
      ],
      "text/plain": [
       "'   '"
      ]
     },
     "metadata": {},
     "output_type": "display_data"
    },
    {
     "data": {
      "text/html": [
       "<html><script type=\"math/tex; mode=display\">\\newcommand{\\Bold}[1]{\\mathbf{#1}}E1: \\bar{Z}\\cdot(E1,2 w^{ 2 } E_3, - w E_2) + w e\\cdot(B_1,w B_3,w^{ 2 } B_2) + w^2 \\bar{e}\\cdot(C_1,w^{ 2 } C_2,w C_3) -w^2 \\partial_0\\nabla\\cdot(C_1,w^{ 2 } C_2,w C_3) -w \\partial_0\\bar{\\nabla}\\cdot(B_1,w B_3,w^{ 2 } B_2)</script></html>"
      ],
      "text/plain": [
       "E1: \\bar{Z}\\cdot(E1,2 w^{ 2 } E_3, - w E_2) + w e\\cdot(B_1,w B_3,w^{ 2 } B_2) + w^2 \\bar{e}\\cdot(C_1,w^{ 2 } C_2,w C_3) -w^2 \\partial_0\\nabla\\cdot(C_1,w^{ 2 } C_2,w C_3) -w \\partial_0\\bar{\\nabla}\\cdot(B_1,w B_3,w^{ 2 } B_2)"
      ]
     },
     "metadata": {},
     "output_type": "display_data"
    },
    {
     "data": {
      "text/html": [
       "<html><script type=\"math/tex; mode=display\">\\newcommand{\\Bold}[1]{\\mathbf{#1}}E2: \\bar{Z}\\cdot(E2,2 w^{ 2 } E_1, - w E_3) + w^2 e\\cdot(w B_3,w^{ 2 } B_2,B_1) + w^2 \\bar{e}\\cdot(w C_3,C_1,w^{ 2 } C_2) -w^2 \\partial_0\\nabla\\cdot(w C_3,C_1,w^{ 2 } C_2) -w^2 \\partial_0\\bar{\\nabla}\\cdot(w B_3,w^{ 2 } B_2,B_1)</script></html>"
      ],
      "text/plain": [
       "E2: \\bar{Z}\\cdot(E2,2 w^{ 2 } E_1, - w E_3) + w^2 e\\cdot(w B_3,w^{ 2 } B_2,B_1) + w^2 \\bar{e}\\cdot(w C_3,C_1,w^{ 2 } C_2) -w^2 \\partial_0\\nabla\\cdot(w C_3,C_1,w^{ 2 } C_2) -w^2 \\partial_0\\bar{\\nabla}\\cdot(w B_3,w^{ 2 } B_2,B_1)"
      ]
     },
     "metadata": {},
     "output_type": "display_data"
    },
    {
     "data": {
      "text/html": [
       "<html><script type=\"math/tex; mode=display\">\\newcommand{\\Bold}[1]{\\mathbf{#1}}E3: \\bar{Z}\\cdot(E3,2 w^{ 2 } E_2, - w E_1) +  e\\cdot(w^{ 2 } B_2,B_1,w B_3) + w^2 \\bar{e}\\cdot(w^{ 2 } C_2,w C_3,C_1) -w^2 \\partial_0\\nabla\\cdot(w^{ 2 } C_2,w C_3,C_1) - \\partial_0\\bar{\\nabla}\\cdot(w^{ 2 } B_2,B_1,w B_3)</script></html>"
      ],
      "text/plain": [
       "E3: \\bar{Z}\\cdot(E3,2 w^{ 2 } E_2, - w E_1) +  e\\cdot(w^{ 2 } B_2,B_1,w B_3) + w^2 \\bar{e}\\cdot(w^{ 2 } C_2,w C_3,C_1) -w^2 \\partial_0\\nabla\\cdot(w^{ 2 } C_2,w C_3,C_1) - \\partial_0\\bar{\\nabla}\\cdot(w^{ 2 } B_2,B_1,w B_3)"
      ]
     },
     "metadata": {},
     "output_type": "display_data"
    },
    {
     "data": {
      "text/html": [
       "<html><script type=\"math/tex; mode=display\">\\newcommand{\\Bold}[1]{\\mathbf{#1}}</script></html>"
      ],
      "text/plain": [
       "'   '"
      ]
     },
     "metadata": {},
     "output_type": "display_data"
    },
    {
     "data": {
      "text/html": [
       "<html><script type=\"math/tex; mode=display\">\\newcommand{\\Bold}[1]{\\mathbf{#1}}B1: \\bar{Z}\\cdot(B1,2 w B_2, - w^{ 2 } B_3) + w e\\cdot(C_1,w^{ 2 } C_3,w C_2) + w^2 \\bar{e}\\cdot(E_1,w E_3,w^{ 2 } E_2) -w^2 \\partial_0\\nabla\\cdot(E_1,w E_3,w^{ 2 } E_2) -w \\partial_0\\bar{\\nabla}\\cdot(C_1,w^{ 2 } C_3,w C_2)</script></html>"
      ],
      "text/plain": [
       "B1: \\bar{Z}\\cdot(B1,2 w B_2, - w^{ 2 } B_3) + w e\\cdot(C_1,w^{ 2 } C_3,w C_2) + w^2 \\bar{e}\\cdot(E_1,w E_3,w^{ 2 } E_2) -w^2 \\partial_0\\nabla\\cdot(E_1,w E_3,w^{ 2 } E_2) -w \\partial_0\\bar{\\nabla}\\cdot(C_1,w^{ 2 } C_3,w C_2)"
      ]
     },
     "metadata": {},
     "output_type": "display_data"
    },
    {
     "data": {
      "text/html": [
       "<html><script type=\"math/tex; mode=display\">\\newcommand{\\Bold}[1]{\\mathbf{#1}}B2: \\bar{Z}\\cdot(B2,2 w B_3, - w^{ 2 } B_1) + w e\\cdot(w C_2,C_1,w^{ 2 } C_3) +  \\bar{e}\\cdot(w E_3,w^{ 2 } E_2,E_1) - \\partial_0\\nabla\\cdot(w E_3,w^{ 2 } E_2,E_1) -w \\partial_0\\bar{\\nabla}\\cdot(w C_2,C_1,w^{ 2 } C_3)</script></html>"
      ],
      "text/plain": [
       "B2: \\bar{Z}\\cdot(B2,2 w B_3, - w^{ 2 } B_1) + w e\\cdot(w C_2,C_1,w^{ 2 } C_3) +  \\bar{e}\\cdot(w E_3,w^{ 2 } E_2,E_1) - \\partial_0\\nabla\\cdot(w E_3,w^{ 2 } E_2,E_1) -w \\partial_0\\bar{\\nabla}\\cdot(w C_2,C_1,w^{ 2 } C_3)"
      ]
     },
     "metadata": {},
     "output_type": "display_data"
    },
    {
     "data": {
      "text/html": [
       "<html><script type=\"math/tex; mode=display\">\\newcommand{\\Bold}[1]{\\mathbf{#1}}B3: \\bar{Z}\\cdot(B3,2 w B_1, - w^{ 2 } B_2) + w e\\cdot(w^{ 2 } C_3,w C_2,C_1) + w \\bar{e}\\cdot(w^{ 2 } E_2,E_1,w E_3) -w \\partial_0\\nabla\\cdot(w^{ 2 } E_2,E_1,w E_3) -w \\partial_0\\bar{\\nabla}\\cdot(w^{ 2 } C_3,w C_2,C_1)</script></html>"
      ],
      "text/plain": [
       "B3: \\bar{Z}\\cdot(B3,2 w B_1, - w^{ 2 } B_2) + w e\\cdot(w^{ 2 } C_3,w C_2,C_1) + w \\bar{e}\\cdot(w^{ 2 } E_2,E_1,w E_3) -w \\partial_0\\nabla\\cdot(w^{ 2 } E_2,E_1,w E_3) -w \\partial_0\\bar{\\nabla}\\cdot(w^{ 2 } C_3,w C_2,C_1)"
      ]
     },
     "metadata": {},
     "output_type": "display_data"
    }
   ],
   "source": [
    "# Given an expression, extract out the e_i terms:\n",
    "# Note, currently breaks if r is not in terms of e_i and d_i.\n",
    "def extract_e_terms(r, prefix=''):\n",
    "    r = expand(r)\n",
    "    r = w_mod(r)\n",
    "    data = {}\n",
    "    data['rest'] = r.substitute({e0: 0, Z1: 0, Z2: 0, e1: 0, e2: 0, e3: 0, e4: 0, e5: 0, e6: 0})\n",
    "    data['e0'] = r.substitute({e0: 1, Z1: 0, Z2: 0, e1: 0, e2: 0, e3: 0, e4: 0, e5: 0, e6: 0, d0: 0})\n",
    "    data['Z1'] = r.substitute({e0: 0, Z1: 1, Z2: 0, e1: 0, e2: 0, e3: 0, e4: 0, e5: 0, e6: 0, d0: 0})\n",
    "    data['Z2'] = r.substitute({e0: 0, Z1: 0, Z2: 1, e1: 0, e2: 0, e3: 0, e4: 0, e5: 0, e6: 0, d0: 0})\n",
    "    data['e1'] = r.substitute({e0: 0, Z1: 0, Z2: 0, e1: 1, e2: 0, e3: 0, e4: 0, e5: 0, e6: 0, d0: 0})\n",
    "    data['e2'] = r.substitute({e0: 0, Z1: 0, Z2: 0, e1: 0, e2: 1, e3: 0, e4: 0, e5: 0, e6: 0, d0: 0})\n",
    "    data['e3'] = r.substitute({e0: 0, Z1: 0, Z2: 0, e1: 0, e2: 0, e3: 1, e4: 0, e5: 0, e6: 0, d0: 0})\n",
    "    data['e4'] = r.substitute({e0: 0, Z1: 0, Z2: 0, e1: 0, e2: 0, e3: 0, e4: 1, e5: 0, e6: 0, d0: 0})\n",
    "    data['e5'] = r.substitute({e0: 0, Z1: 0, Z2: 0, e1: 0, e2: 0, e3: 0, e4: 0, e5: 1, e6: 0, d0: 0})\n",
    "    data['e6'] = r.substitute({e0: 0, Z1: 0, Z2: 0, e1: 0, e2: 0, e3: 0, e4: 0, e5: 0, e6: 1, d0: 0})\n",
    "    # data['d0'] = data['rest'].substitute({d0: 1})\n",
    "    data['d0d1'] = data['rest'].substitute({d0: 1, d1: 1, d2: 0, d3: 0, d4: 0, d5: 0, d6: 0})\n",
    "    data['d0d2'] = data['rest'].substitute({d0: 1, d1: 0, d2: 1, d3: 0, d4: 0, d5: 0, d6: 0})\n",
    "    data['d0d3'] = data['rest'].substitute({d0: 1, d1: 0, d2: 0, d3: 1, d4: 0, d5: 0, d6: 0})\n",
    "    data['d0d4'] = data['rest'].substitute({d0: 1, d1: 0, d2: 0, d3: 0, d4: 1, d5: 0, d6: 0})\n",
    "    data['d0d5'] = data['rest'].substitute({d0: 1, d1: 0, d2: 0, d3: 0, d4: 0, d5: 1, d6: 0})\n",
    "    data['d0d6'] = data['rest'].substitute({d0: 1, d1: 0, d2: 0, d3: 0, d4: 0, d5: 0, d6: 1})\n",
    "    data['rest'] = data['rest'].substitute({d0: 0})\n",
    "    \n",
    "    # data['d0d1'] = data['rest'].substitute({d0*d1: 1, d0*d2: 0, d0*d3: 0, d0*d4: 0, d0*d5: 0, d0*d6: 0})\n",
    "    # data['d0d2'] = data['rest'].substitute({d0*d1: 0, d0*d2: 1, d0*d3: 0, d0*d4: 0, d0*d5: 0, d0*d6: 0})\n",
    "    # data['d0d3'] = data['rest'].substitute({d0*d1: 0, d0*d2: 0, d0*d3: 1, d0*d4: 0, d0*d5: 0, d0*d6: 0})\n",
    "    # data['d0d4'] = data['rest'].substitute({d0*d1: 0, d0*d2: 0, d0*d3: 0, d0*d4: 1, d0*d5: 0, d0*d6: 0})\n",
    "    # data['d0d5'] = data['rest'].substitute({d0*d1: 0, d0*d2: 0, d0*d3: 0, d0*d4: 0, d0*d5: 1, d0*d6: 0})\n",
    "    # data['d0d6'] = data['rest'].substitute({d0*d1: 0, d0*d2: 0, d0*d3: 0, d0*d4: 0, d0*d5: 0, d0*d6: 1})\n",
    "    # data['rest'] = data['rest'].substitute({d0*d1: 0, d0*d2: 0, d0*d3: 0, d0*d4: 0, d0*d5: 0, d0*d6: 0})\n",
    "    \n",
    "    # data['d1'] = data['rest'].substitute({d0: 1, d1: 1, d2: 0, d3: 0, d4: 0, d5: 0, d6: 0}) # Slightly broken!\n",
    "    # data['d2'] = data['rest'].substitute({d0: 1, d1: 0, d2: 1, d3: 0, d4: 0, d5: 0, d6: 0}) # Assumes d0*di terms.\n",
    "    # data['d3'] = data['rest'].substitute({d0: 1, d1: 0, d2: 0, d3: 1, d4: 0, d5: 0, d6: 0})\n",
    "    # data['d4'] = data['rest'].substitute({d0: 1, d1: 0, d2: 0, d3: 0, d4: 1, d5: 0, d6: 0})\n",
    "    # data['d5'] = data['rest'].substitute({d0: 1, d1: 0, d2: 0, d3: 0, d4: 0, d5: 1, d6: 0})\n",
    "    # data['d6'] = data['rest'].substitute({d0: 1, d1: 0, d2: 0, d3: 0, d4: 0, d5: 0, d6: 1})\n",
    "    # data['rest'] = data['rest'].substitute({d0: 1, d1: 0, d2: 0, d3: 0, d4: 0, d5: 0, d6: 0})\n",
    "    \n",
    "    e_coeff = data['e1'].substitute({E1: 1, B1: 1, C1: 1, E2: 0, E3: 0, B2: 0, B3: 0, C2: 0, C3: 0})\n",
    "    e_coeff += data['e2'].substitute({E1: 1, B1: 1, C1: 1, E2: 0, E3: 0, B2: 0, B3: 0, C2: 0, C3: 0})\n",
    "    e_coeff += data['e3'].substitute({E1: 1, B1: 1, C1: 1, E2: 0, E3: 0, B2: 0, B3: 0, C2: 0, C3: 0})\n",
    "    e_vec_1 = custom_latex(w_mod(w_inverse(e_coeff)*data['e1']))\n",
    "    e_vec_2 = custom_latex(w_mod(w_inverse(e_coeff)*data['e2']))\n",
    "    e_vec_3 = custom_latex(w_mod(w_inverse(e_coeff)*data['e3']))\n",
    "    \n",
    "    eb_coeff = data['e4'].substitute({E1: 1, B1: 1, C1: 1, E2: 0, E3: 0, B2: 0, B3: 0, C2: 0, C3: 0})\n",
    "    eb_coeff += data['e5'].substitute({E1: 1, B1: 1, C1: 1, E2: 0, E3: 0, B2: 0, B3: 0, C2: 0, C3: 0})\n",
    "    eb_coeff += data['e6'].substitute({E1: 1, B1: 1, C1: 1, E2: 0, E3: 0, B2: 0, B3: 0, C2: 0, C3: 0})\n",
    "    eb_vec_1 = custom_latex(w_mod(w_inverse(eb_coeff)*data['e4']))\n",
    "    eb_vec_2 = custom_latex(w_mod(w_inverse(eb_coeff)*data['e5']))\n",
    "    eb_vec_3 = custom_latex(w_mod(w_inverse(eb_coeff)*data['e6']))\n",
    "    \n",
    "    d0_del_coeff = data['d0d1'].substitute({E1: 1, B1: 1, C1: 1, E2: 0, E3: 0, B2: 0, B3: 0, C2: 0, C3: 0})\n",
    "    d0_del_coeff += data['d0d2'].substitute({E1: 1, B1: 1, C1: 1, E2: 0, E3: 0, B2: 0, B3: 0, C2: 0, C3: 0})\n",
    "    d0_del_coeff += data['d0d3'].substitute({E1: 1, B1: 1, C1: 1, E2: 0, E3: 0, B2: 0, B3: 0, C2: 0, C3: 0})\n",
    "    d0_del_vec_1 = custom_latex(w_mod(w_inverse(d0_del_coeff)*data['d0d1']))\n",
    "    d0_del_vec_2 = custom_latex(w_mod(w_inverse(d0_del_coeff)*data['d0d2']))\n",
    "    d0_del_vec_3 = custom_latex(w_mod(w_inverse(d0_del_coeff)*data['d0d3']))\n",
    "    \n",
    "    d0_delb_coeff = data['d0d4'].substitute({E1: 1, B1: 1, C1: 1, E2: 0, E3: 0, B2: 0, B3: 0, C2: 0, C3: 0})\n",
    "    d0_delb_coeff += data['d0d5'].substitute({E1: 1, B1: 1, C1: 1, E2: 0, E3: 0, B2: 0, B3: 0, C2: 0, C3: 0})\n",
    "    d0_delb_coeff += data['d0d6'].substitute({E1: 1, B1: 1, C1: 1, E2: 0, E3: 0, B2: 0, B3: 0, C2: 0, C3: 0})\n",
    "    d0_delb_vec_1 = custom_latex(w_mod(w_inverse(d0_delb_coeff)*data['d0d4']))\n",
    "    d0_delb_vec_2 = custom_latex(w_mod(w_inverse(d0_delb_coeff)*data['d0d5']))\n",
    "    d0_delb_vec_3 = custom_latex(w_mod(w_inverse(d0_delb_coeff)*data['d0d6']))\n",
    "    \n",
    "    if e_coeff == 1:\n",
    "        e_coeff = ''\n",
    "    if eb_coeff == 1:\n",
    "        eb_coeff = ''\n",
    "    if d0_del_coeff == 1:\n",
    "        d0_del_coeff = ''\n",
    "    if d0_delb_coeff == 1:\n",
    "        d0_delb_coeff = ''\n",
    "    \n",
    "    if e_coeff == -1:\n",
    "        e_coeff = '-'\n",
    "    if eb_coeff == -1:\n",
    "        eb_coeff = '-'\n",
    "    if d0_del_coeff == -1:\n",
    "        d0_del_coeff = '-'\n",
    "    if d0_delb_coeff == -1:\n",
    "        d0_delb_coeff = '-'\n",
    "    \n",
    "    \n",
    "    expr = ''\n",
    "    if prefix != '':\n",
    "        expr += prefix + r': '\n",
    "    expr += r'\\bar{Z}\\cdot(%s,%s,%s)' % (data['e0'], custom_latex(data['Z1']), custom_latex(data['Z2']))\n",
    "    expr += r' + %s e\\cdot(%s,%s,%s)' % (e_coeff, e_vec_1, e_vec_2, e_vec_3)\n",
    "    expr += r' + %s \\bar{e}\\cdot(%s,%s,%s)' % (eb_coeff, eb_vec_1, eb_vec_2, eb_vec_3)\n",
    "    if data['d0d1'] != 0:\n",
    "        # expr += r'\\\\ + \\partial_0\\nabla\\cdot(%s,%s,%s)' % (data['d0d1'], data['d0d2'], data['d0d3'])\n",
    "        # expr += r'\\\\ + %s \\partial_0\\nabla\\cdot(%s,%s,%s)' % (d0_del_coeff, d0_del_vec_1, d0_del_vec_2, d0_del_vec_3)\n",
    "        expr += r' + %s \\partial_0\\nabla\\cdot(%s,%s,%s)' % (d0_del_coeff, d0_del_vec_1, d0_del_vec_2, d0_del_vec_3)\n",
    "    # if data['d0d4'] != 0:\n",
    "        # expr += r' + \\partial_0\\bar{\\nabla}\\cdot(%s,%s,%s)' % (data['d0d4'], data['d0d5'], data['d0d6'])\n",
    "        expr += r' + %s \\partial_0\\bar{\\nabla}\\cdot(%s,%s,%s)' % (d0_delb_coeff, d0_delb_vec_1, d0_delb_vec_2, d0_delb_vec_3)\n",
    "    if data['rest'] != 0:\n",
    "        expr += r'\\\\ + %s' % data['rest']\n",
    "    expr = expr.replace('+ -', '-')\n",
    "    show(LatexExpr(expr))\n",
    "    # return data\n",
    "    return LatexExpr(expr)\n",
    "\n",
    "# Quick test:\n",
    "# extract_e_terms(w^2*B1_eqn, 'B1')\n",
    "\n",
    "var('E1 E2 E3')\n",
    "var('B1 B2 B3')\n",
    "var('C1 C2 C3')\n",
    "\n",
    "# Define our Maxwell matrix:\n",
    "G = E1*S0*S1 + E2*S0*S2 + E3*S0*S3\n",
    "G += B1*S0*S4 + B2*S0*S5 + B3*S0*S6\n",
    "G += C1*S0^2 + w^2*C2*S1*S5 + C3*S1*S6\n",
    "\n",
    "show('Maxwell equations as 1-forms:')\n",
    "test_improved_tidy_eqns = get_basis4(1, d*d*G)\n",
    "\n",
    "show('Maxwell equations as 4-forms:')\n",
    "eqns_dim_4 = get_basis4(4, d*d*G)\n",
    "\n",
    "show('--------------------------------------------')\n",
    "show('The extracted out q = 3 Maxwell equations:')\n",
    "C1_latex = extract_e_terms(test_improved_tidy_eqns['D0'], 'C1')\n",
    "C2_latex = extract_e_terms(w*eqns_dim_4['D0015'], 'C2')\n",
    "C3_latex = extract_e_terms(eqns_dim_4['D0016'], 'C3')\n",
    "show('   ')\n",
    "E1_latex = extract_e_terms(test_improved_tidy_eqns['D1'], 'E1')\n",
    "E2_latex = extract_e_terms(test_improved_tidy_eqns['D2'], 'E2')\n",
    "E3_latex = extract_e_terms(test_improved_tidy_eqns['D3'], 'E3')\n",
    "show('   ')\n",
    "B1_latex = extract_e_terms(test_improved_tidy_eqns['D4'], 'B1')\n",
    "B2_latex = extract_e_terms(test_improved_tidy_eqns['D5'], 'B2')\n",
    "B3_latex = extract_e_terms(test_improved_tidy_eqns['D6'], 'B3')"
   ]
  },
  {
   "cell_type": "code",
   "execution_count": 17,
   "metadata": {},
   "outputs": [],
   "source": [
    "# Given a 3x3 matrix, extract the Pauli matrix coefficients:\n",
    "def get_pauli_basis(A):\n",
    "    labels = ['I', 'T1', 'T2', 'T3', 'Tau1', 'Tau2', 'Tau3', 'T4', 'Tau4']\n",
    "    matrices = [I3, T1, T2, T3, Tau1, Tau2, Tau3, T4, Tau4]\n",
    "    indecies = [0, 1, 2, 3, 4, 5, 6, 7, 8]\n",
    "    results = []\n",
    "    for idx in range(len(labels)):\n",
    "        matrix = matrices[idx]\n",
    "        term = (matrix^2*A).trace()/3\n",
    "        term = expand(term)\n",
    "        term = w_mod(term)\n",
    "        term = expand_w(term)\n",
    "        if term != 0:\n",
    "            results += [(idx, term)]\n",
    "            label = labels[idx]\n",
    "            index = indecies[idx]\n",
    "            show(label, ':: ', term)\n",
    "    return results"
   ]
  },
  {
   "cell_type": "code",
   "execution_count": null,
   "metadata": {},
   "outputs": [],
   "source": []
  }
 ],
 "metadata": {
  "kernelspec": {
   "display_name": "SageMath 9.0",
   "language": "sage",
   "name": "sagemath"
  },
  "language_info": {
   "codemirror_mode": {
    "name": "ipython",
    "version": 3
   },
   "file_extension": ".py",
   "mimetype": "text/x-python",
   "name": "python",
   "nbconvert_exporter": "python",
   "pygments_lexer": "ipython3",
   "version": "3.7.3"
  }
 },
 "nbformat": 4,
 "nbformat_minor": 2
}
