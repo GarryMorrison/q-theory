{
 "cells": [
  {
   "cell_type": "code",
   "execution_count": 2,
   "metadata": {},
   "outputs": [
    {
     "data": {
      "text/html": [
       "<html><script type=\"math/tex; mode=display\">\\newcommand{\\Bold}[1]{\\mathbf{#1}}\\verb|The|\\phantom{\\verb!x!}\\verb|Pauli|\\phantom{\\verb!x!}\\verb|matrices:|</script></html>"
      ],
      "text/plain": [
       "'The Pauli matrices:'"
      ]
     },
     "metadata": {},
     "output_type": "display_data"
    },
    {
     "data": {
      "text/html": [
       "<html><script type=\"math/tex; mode=display\">\\newcommand{\\Bold}[1]{\\mathbf{#1}}\\verb|s1:| \\left(\\begin{array}{rr}\n",
       "0 & 1 \\\\\n",
       "1 & 0\n",
       "\\end{array}\\right)</script></html>"
      ],
      "text/plain": [
       "'s1: ' [0 1]\n",
       "[1 0]"
      ]
     },
     "metadata": {},
     "output_type": "display_data"
    },
    {
     "data": {
      "text/html": [
       "<html><script type=\"math/tex; mode=display\">\\newcommand{\\Bold}[1]{\\mathbf{#1}}\\verb|s2:| \\left(\\begin{array}{rr}\n",
       "0 & -i \\\\\n",
       "i & 0\n",
       "\\end{array}\\right)</script></html>"
      ],
      "text/plain": [
       "'s2: ' [ 0 -I]\n",
       "[ I  0]"
      ]
     },
     "metadata": {},
     "output_type": "display_data"
    },
    {
     "data": {
      "text/html": [
       "<html><script type=\"math/tex; mode=display\">\\newcommand{\\Bold}[1]{\\mathbf{#1}}\\verb|s3:| \\left(\\begin{array}{rr}\n",
       "1 & 0 \\\\\n",
       "0 & -1\n",
       "\\end{array}\\right)</script></html>"
      ],
      "text/plain": [
       "'s3: ' [ 1  0]\n",
       "[ 0 -1]"
      ]
     },
     "metadata": {},
     "output_type": "display_data"
    },
    {
     "data": {
      "text/html": [
       "<html><script type=\"math/tex; mode=display\">\\newcommand{\\Bold}[1]{\\mathbf{#1}}\\verb|The|\\phantom{\\verb!x!}\\verb|Dirac|\\phantom{\\verb!x!}\\verb|matrices:|</script></html>"
      ],
      "text/plain": [
       "'The Dirac matrices:'"
      ]
     },
     "metadata": {},
     "output_type": "display_data"
    },
    {
     "data": {
      "text/html": [
       "<html><script type=\"math/tex; mode=display\">\\newcommand{\\Bold}[1]{\\mathbf{#1}}\\verb|g0:| \\left(\\begin{array}{rr|rr}\n",
       "1 & 0 & 0 & 0 \\\\\n",
       "0 & 1 & 0 & 0 \\\\\n",
       "\\hline\n",
       " 0 & 0 & -1 & 0 \\\\\n",
       "0 & 0 & 0 & -1\n",
       "\\end{array}\\right)</script></html>"
      ],
      "text/plain": [
       "'g0: ' [ 1  0| 0  0]\n",
       "[ 0  1| 0  0]\n",
       "[-----+-----]\n",
       "[ 0  0|-1  0]\n",
       "[ 0  0| 0 -1]"
      ]
     },
     "metadata": {},
     "output_type": "display_data"
    },
    {
     "data": {
      "text/html": [
       "<html><script type=\"math/tex; mode=display\">\\newcommand{\\Bold}[1]{\\mathbf{#1}}\\verb|g1:| \\left(\\begin{array}{rrrr}\n",
       "0 & 0 & 0 & i \\\\\n",
       "0 & 0 & i & 0 \\\\\n",
       "0 & i & 0 & 0 \\\\\n",
       "i & 0 & 0 & 0\n",
       "\\end{array}\\right)</script></html>"
      ],
      "text/plain": [
       "'g1: ' [0 0 0 I]\n",
       "[0 0 I 0]\n",
       "[0 I 0 0]\n",
       "[I 0 0 0]"
      ]
     },
     "metadata": {},
     "output_type": "display_data"
    },
    {
     "data": {
      "text/html": [
       "<html><script type=\"math/tex; mode=display\">\\newcommand{\\Bold}[1]{\\mathbf{#1}}\\verb|g2:| \\left(\\begin{array}{rrrr}\n",
       "0 & 0 & 0 & 1 \\\\\n",
       "0 & 0 & -1 & 0 \\\\\n",
       "0 & 1 & 0 & 0 \\\\\n",
       "-1 & 0 & 0 & 0\n",
       "\\end{array}\\right)</script></html>"
      ],
      "text/plain": [
       "'g2: ' [ 0  0  0  1]\n",
       "[ 0  0 -1  0]\n",
       "[ 0  1  0  0]\n",
       "[-1  0  0  0]"
      ]
     },
     "metadata": {},
     "output_type": "display_data"
    },
    {
     "data": {
      "text/html": [
       "<html><script type=\"math/tex; mode=display\">\\newcommand{\\Bold}[1]{\\mathbf{#1}}\\verb|g3:| \\left(\\begin{array}{rrrr}\n",
       "0 & 0 & i & 0 \\\\\n",
       "0 & 0 & 0 & -i \\\\\n",
       "i & 0 & 0 & 0 \\\\\n",
       "0 & -i & 0 & 0\n",
       "\\end{array}\\right)</script></html>"
      ],
      "text/plain": [
       "'g3: ' [ 0  0  I  0]\n",
       "[ 0  0  0 -I]\n",
       "[ I  0  0  0]\n",
       "[ 0 -I  0  0]"
      ]
     },
     "metadata": {},
     "output_type": "display_data"
    },
    {
     "data": {
      "text/html": [
       "<html><script type=\"math/tex; mode=display\">\\newcommand{\\Bold}[1]{\\mathbf{#1}}\\verb|g5:| \\left(\\begin{array}{rrrr}\n",
       "0 & 0 & i & 0 \\\\\n",
       "0 & 0 & 0 & i \\\\\n",
       "-i & 0 & 0 & 0 \\\\\n",
       "0 & -i & 0 & 0\n",
       "\\end{array}\\right)</script></html>"
      ],
      "text/plain": [
       "'g5: ' [ 0  0  I  0]\n",
       "[ 0  0  0  I]\n",
       "[-I  0  0  0]\n",
       "[ 0 -I  0  0]"
      ]
     },
     "metadata": {},
     "output_type": "display_data"
    },
    {
     "data": {
      "text/html": [
       "<html><script type=\"math/tex; mode=display\">\\newcommand{\\Bold}[1]{\\mathbf{#1}}\\verb|P^2:| \\left(\\begin{array}{rrrr}\n",
       "E^{2} - p_{1}^{2} - p_{2}^{2} - p_{3}^{2} & 0 & 0 & 0 \\\\\n",
       "0 & E^{2} - p_{1}^{2} - p_{2}^{2} - p_{3}^{2} & 0 & 0 \\\\\n",
       "0 & 0 & E^{2} - p_{1}^{2} - p_{2}^{2} - p_{3}^{2} & 0 \\\\\n",
       "0 & 0 & 0 & E^{2} - p_{1}^{2} - p_{2}^{2} - p_{3}^{2}\n",
       "\\end{array}\\right)</script></html>"
      ],
      "text/plain": [
       "'P^2: ' [E^2 - p1^2 - p2^2 - p3^2                        0                        0                        0]\n",
       "[                       0 E^2 - p1^2 - p2^2 - p3^2                        0                        0]\n",
       "[                       0                        0 E^2 - p1^2 - p2^2 - p3^2                        0]\n",
       "[                       0                        0                        0 E^2 - p1^2 - p2^2 - p3^2]"
      ]
     },
     "metadata": {},
     "output_type": "display_data"
    },
    {
     "data": {
      "text/html": [
       "<html><script type=\"math/tex; mode=display\">\\newcommand{\\Bold}[1]{\\mathbf{#1}}\\verb|Quick|\\phantom{\\verb!x!}\\verb|test|\\phantom{\\verb!x!}\\verb|of|\\phantom{\\verb!x!}\\verb|get_matrix_basis(A):|</script></html>"
      ],
      "text/plain": [
       "'Quick test of get_matrix_basis(A):'"
      ]
     },
     "metadata": {},
     "output_type": "display_data"
    },
    {
     "data": {
      "text/html": [
       "<html><script type=\"math/tex; mode=display\">\\newcommand{\\Bold}[1]{\\mathbf{#1}}\\verb|get_matrix_basis(P):|</script></html>"
      ],
      "text/plain": [
       "'get_matrix_basis(P):'"
      ]
     },
     "metadata": {},
     "output_type": "display_data"
    },
    {
     "data": {
      "text/html": [
       "<html><script type=\"math/tex; mode=display\">\\newcommand{\\Bold}[1]{\\mathbf{#1}}\\verb|g0| \\verb|::| E</script></html>"
      ],
      "text/plain": [
       "'g0' '::' E"
      ]
     },
     "metadata": {},
     "output_type": "display_data"
    },
    {
     "data": {
      "text/html": [
       "<html><script type=\"math/tex; mode=display\">\\newcommand{\\Bold}[1]{\\mathbf{#1}}\\verb|g1| \\verb|::| p_{1}</script></html>"
      ],
      "text/plain": [
       "'g1' '::' p1"
      ]
     },
     "metadata": {},
     "output_type": "display_data"
    },
    {
     "data": {
      "text/html": [
       "<html><script type=\"math/tex; mode=display\">\\newcommand{\\Bold}[1]{\\mathbf{#1}}\\verb|g2| \\verb|::| p_{2}</script></html>"
      ],
      "text/plain": [
       "'g2' '::' p2"
      ]
     },
     "metadata": {},
     "output_type": "display_data"
    },
    {
     "data": {
      "text/html": [
       "<html><script type=\"math/tex; mode=display\">\\newcommand{\\Bold}[1]{\\mathbf{#1}}\\verb|g3| \\verb|::| p_{3}</script></html>"
      ],
      "text/plain": [
       "'g3' '::' p3"
      ]
     },
     "metadata": {},
     "output_type": "display_data"
    },
    {
     "data": {
      "text/html": [
       "<html><script type=\"math/tex; mode=display\">\\newcommand{\\Bold}[1]{\\mathbf{#1}}\\verb|get_matrix_basis(P^2):|</script></html>"
      ],
      "text/plain": [
       "'get_matrix_basis(P^2):'"
      ]
     },
     "metadata": {},
     "output_type": "display_data"
    },
    {
     "data": {
      "text/html": [
       "<html><script type=\"math/tex; mode=display\">\\newcommand{\\Bold}[1]{\\mathbf{#1}}\\verb|I4| \\verb|::| E^{2} - p_{1}^{2} - p_{2}^{2} - p_{3}^{2}</script></html>"
      ],
      "text/plain": [
       "'I4' '::' E^2 - p1^2 - p2^2 - p3^2"
      ]
     },
     "metadata": {},
     "output_type": "display_data"
    },
    {
     "data": {
      "text/html": [
       "<html><script type=\"math/tex; mode=display\">\\newcommand{\\Bold}[1]{\\mathbf{#1}}\\verb|Quick|\\phantom{\\verb!x!}\\verb|test|\\phantom{\\verb!x!}\\verb|of|\\phantom{\\verb!x!}\\verb|get_d_basis(k,|\\phantom{\\verb!x!}\\verb|A):|</script></html>"
      ],
      "text/plain": [
       "'Quick test of get_d_basis(k, A):'"
      ]
     },
     "metadata": {},
     "output_type": "display_data"
    },
    {
     "data": {
      "text/html": [
       "<html><script type=\"math/tex; mode=display\">\\newcommand{\\Bold}[1]{\\mathbf{#1}}\\verb|The|\\phantom{\\verb!x!}\\verb|P|\\phantom{\\verb!x!}\\verb|matrix:|</script></html>"
      ],
      "text/plain": [
       "'The P matrix:'"
      ]
     },
     "metadata": {},
     "output_type": "display_data"
    },
    {
     "data": {
      "text/html": [
       "<html><script type=\"math/tex; mode=display\">\\newcommand{\\Bold}[1]{\\mathbf{#1}}\\verb|D0| \\verb|::| E</script></html>"
      ],
      "text/plain": [
       "'D0' '::' E"
      ]
     },
     "metadata": {},
     "output_type": "display_data"
    },
    {
     "data": {
      "text/html": [
       "<html><script type=\"math/tex; mode=display\">\\newcommand{\\Bold}[1]{\\mathbf{#1}}\\verb|D1| \\verb|::| p_{1}</script></html>"
      ],
      "text/plain": [
       "'D1' '::' p1"
      ]
     },
     "metadata": {},
     "output_type": "display_data"
    },
    {
     "data": {
      "text/html": [
       "<html><script type=\"math/tex; mode=display\">\\newcommand{\\Bold}[1]{\\mathbf{#1}}\\verb|D2| \\verb|::| p_{2}</script></html>"
      ],
      "text/plain": [
       "'D2' '::' p2"
      ]
     },
     "metadata": {},
     "output_type": "display_data"
    },
    {
     "data": {
      "text/html": [
       "<html><script type=\"math/tex; mode=display\">\\newcommand{\\Bold}[1]{\\mathbf{#1}}\\verb|D3| \\verb|::| p_{3}</script></html>"
      ],
      "text/plain": [
       "'D3' '::' p3"
      ]
     },
     "metadata": {},
     "output_type": "display_data"
    },
    {
     "data": {
      "text/html": [
       "<html><script type=\"math/tex; mode=display\">\\newcommand{\\Bold}[1]{\\mathbf{#1}}\\verb|The|\\phantom{\\verb!x!}\\verb|F|\\phantom{\\verb!x!}\\verb|matrix:|</script></html>"
      ],
      "text/plain": [
       "'The F matrix:'"
      ]
     },
     "metadata": {},
     "output_type": "display_data"
    },
    {
     "data": {
      "text/html": [
       "<html><script type=\"math/tex; mode=display\">\\newcommand{\\Bold}[1]{\\mathbf{#1}}\\verb|D01| \\verb|::| -E_{1}</script></html>"
      ],
      "text/plain": [
       "'D01' '::' -E1"
      ]
     },
     "metadata": {},
     "output_type": "display_data"
    },
    {
     "data": {
      "text/html": [
       "<html><script type=\"math/tex; mode=display\">\\newcommand{\\Bold}[1]{\\mathbf{#1}}\\verb|D02| \\verb|::| -E_{2}</script></html>"
      ],
      "text/plain": [
       "'D02' '::' -E2"
      ]
     },
     "metadata": {},
     "output_type": "display_data"
    },
    {
     "data": {
      "text/html": [
       "<html><script type=\"math/tex; mode=display\">\\newcommand{\\Bold}[1]{\\mathbf{#1}}\\verb|D03| \\verb|::| -E_{3}</script></html>"
      ],
      "text/plain": [
       "'D03' '::' -E3"
      ]
     },
     "metadata": {},
     "output_type": "display_data"
    },
    {
     "data": {
      "text/html": [
       "<html><script type=\"math/tex; mode=display\">\\newcommand{\\Bold}[1]{\\mathbf{#1}}\\verb|D23| \\verb|::| B_{1}</script></html>"
      ],
      "text/plain": [
       "'D23' '::' B1"
      ]
     },
     "metadata": {},
     "output_type": "display_data"
    },
    {
     "data": {
      "text/html": [
       "<html><script type=\"math/tex; mode=display\">\\newcommand{\\Bold}[1]{\\mathbf{#1}}\\verb|D31| \\verb|::| B_{2}</script></html>"
      ],
      "text/plain": [
       "'D31' '::' B2"
      ]
     },
     "metadata": {},
     "output_type": "display_data"
    },
    {
     "data": {
      "text/html": [
       "<html><script type=\"math/tex; mode=display\">\\newcommand{\\Bold}[1]{\\mathbf{#1}}\\verb|D12| \\verb|::| B_{3}</script></html>"
      ],
      "text/plain": [
       "'D12' '::' B3"
      ]
     },
     "metadata": {},
     "output_type": "display_data"
    },
    {
     "data": {
      "text/html": [
       "<html><script type=\"math/tex; mode=display\">\\newcommand{\\Bold}[1]{\\mathbf{#1}}\\verb|--------------------|</script></html>"
      ],
      "text/plain": [
       "'--------------------'"
      ]
     },
     "metadata": {},
     "output_type": "display_data"
    },
    {
     "data": {
      "text/html": [
       "<html><script type=\"math/tex; mode=display\">\\newcommand{\\Bold}[1]{\\mathbf{#1}}\\verb|dF|\\phantom{\\verb!x!}\\verb|as|\\phantom{\\verb!x!}\\verb|a|\\phantom{\\verb!x!}\\verb|3-form:|</script></html>"
      ],
      "text/plain": [
       "'dF as a 3-form:'"
      ]
     },
     "metadata": {},
     "output_type": "display_data"
    },
    {
     "data": {
      "text/html": [
       "<html><script type=\"math/tex; mode=display\">\\newcommand{\\Bold}[1]{\\mathbf{#1}}\\verb|D023| \\verb|::| B_{1} d_{0} + E_{3} d_{2} - E_{2} d_{3}</script></html>"
      ],
      "text/plain": [
       "'D023' '::' B1*d0 + E3*d2 - E2*d3"
      ]
     },
     "metadata": {},
     "output_type": "display_data"
    },
    {
     "data": {
      "text/html": [
       "<html><script type=\"math/tex; mode=display\">\\newcommand{\\Bold}[1]{\\mathbf{#1}}\\verb|D031| \\verb|::| B_{2} d_{0} - E_{3} d_{1} + E_{1} d_{3}</script></html>"
      ],
      "text/plain": [
       "'D031' '::' B2*d0 - E3*d1 + E1*d3"
      ]
     },
     "metadata": {},
     "output_type": "display_data"
    },
    {
     "data": {
      "text/html": [
       "<html><script type=\"math/tex; mode=display\">\\newcommand{\\Bold}[1]{\\mathbf{#1}}\\verb|D012| \\verb|::| B_{3} d_{0} + E_{2} d_{1} - E_{1} d_{2}</script></html>"
      ],
      "text/plain": [
       "'D012' '::' B3*d0 + E2*d1 - E1*d2"
      ]
     },
     "metadata": {},
     "output_type": "display_data"
    },
    {
     "data": {
      "text/html": [
       "<html><script type=\"math/tex; mode=display\">\\newcommand{\\Bold}[1]{\\mathbf{#1}}\\verb|D123| \\verb|::| B_{1} d_{1} + B_{2} d_{2} + B_{3} d_{3}</script></html>"
      ],
      "text/plain": [
       "'D123' '::' B1*d1 + B2*d2 + B3*d3"
      ]
     },
     "metadata": {},
     "output_type": "display_data"
    },
    {
     "data": {
      "text/html": [
       "<html><script type=\"math/tex; mode=display\">\\newcommand{\\Bold}[1]{\\mathbf{#1}}\\verb|--------------------|</script></html>"
      ],
      "text/plain": [
       "'--------------------'"
      ]
     },
     "metadata": {},
     "output_type": "display_data"
    },
    {
     "data": {
      "text/html": [
       "<html><script type=\"math/tex; mode=display\">\\newcommand{\\Bold}[1]{\\mathbf{#1}}\\verb|dF|\\phantom{\\verb!x!}\\verb|as|\\phantom{\\verb!x!}\\verb|matrix|\\phantom{\\verb!x!}\\verb|basis:|</script></html>"
      ],
      "text/plain": [
       "'dF as matrix basis:'"
      ]
     },
     "metadata": {},
     "output_type": "display_data"
    },
    {
     "data": {
      "text/html": [
       "<html><script type=\"math/tex; mode=display\">\\newcommand{\\Bold}[1]{\\mathbf{#1}}\\verb|g0| \\verb|::| -E_{1} d_{1} - E_{2} d_{2} - E_{3} d_{3}</script></html>"
      ],
      "text/plain": [
       "'g0' '::' -E1*d1 - E2*d2 - E3*d3"
      ]
     },
     "metadata": {},
     "output_type": "display_data"
    },
    {
     "data": {
      "text/html": [
       "<html><script type=\"math/tex; mode=display\">\\newcommand{\\Bold}[1]{\\mathbf{#1}}\\verb|g1| \\verb|::| -E_{1} d_{0} + B_{3} d_{2} - B_{2} d_{3}</script></html>"
      ],
      "text/plain": [
       "'g1' '::' -E1*d0 + B3*d2 - B2*d3"
      ]
     },
     "metadata": {},
     "output_type": "display_data"
    },
    {
     "data": {
      "text/html": [
       "<html><script type=\"math/tex; mode=display\">\\newcommand{\\Bold}[1]{\\mathbf{#1}}\\verb|g2| \\verb|::| -E_{2} d_{0} - B_{3} d_{1} + B_{1} d_{3}</script></html>"
      ],
      "text/plain": [
       "'g2' '::' -E2*d0 - B3*d1 + B1*d3"
      ]
     },
     "metadata": {},
     "output_type": "display_data"
    },
    {
     "data": {
      "text/html": [
       "<html><script type=\"math/tex; mode=display\">\\newcommand{\\Bold}[1]{\\mathbf{#1}}\\verb|g3| \\verb|::| -E_{3} d_{0} + B_{2} d_{1} - B_{1} d_{2}</script></html>"
      ],
      "text/plain": [
       "'g3' '::' -E3*d0 + B2*d1 - B1*d2"
      ]
     },
     "metadata": {},
     "output_type": "display_data"
    },
    {
     "data": {
      "text/html": [
       "<html><script type=\"math/tex; mode=display\">\\newcommand{\\Bold}[1]{\\mathbf{#1}}\\verb|--------------------|</script></html>"
      ],
      "text/plain": [
       "'--------------------'"
      ]
     },
     "metadata": {},
     "output_type": "display_data"
    },
    {
     "data": {
      "text/html": [
       "<html><script type=\"math/tex; mode=display\">\\newcommand{\\Bold}[1]{\\mathbf{#1}}\\verb|dF|\\phantom{\\verb!x!}\\verb|as|\\phantom{\\verb!x!}\\verb|a|\\phantom{\\verb!x!}\\verb|1-form:|</script></html>"
      ],
      "text/plain": [
       "'dF as a 1-form:'"
      ]
     },
     "metadata": {},
     "output_type": "display_data"
    },
    {
     "data": {
      "text/html": [
       "<html><script type=\"math/tex; mode=display\">\\newcommand{\\Bold}[1]{\\mathbf{#1}}\\verb|D0| \\verb|::| -E_{1} d_{1} - E_{2} d_{2} - E_{3} d_{3}</script></html>"
      ],
      "text/plain": [
       "'D0' '::' -E1*d1 - E2*d2 - E3*d3"
      ]
     },
     "metadata": {},
     "output_type": "display_data"
    },
    {
     "data": {
      "text/html": [
       "<html><script type=\"math/tex; mode=display\">\\newcommand{\\Bold}[1]{\\mathbf{#1}}\\verb|D1| \\verb|::| -E_{1} d_{0} + B_{3} d_{2} - B_{2} d_{3}</script></html>"
      ],
      "text/plain": [
       "'D1' '::' -E1*d0 + B3*d2 - B2*d3"
      ]
     },
     "metadata": {},
     "output_type": "display_data"
    },
    {
     "data": {
      "text/html": [
       "<html><script type=\"math/tex; mode=display\">\\newcommand{\\Bold}[1]{\\mathbf{#1}}\\verb|D2| \\verb|::| -E_{2} d_{0} - B_{3} d_{1} + B_{1} d_{3}</script></html>"
      ],
      "text/plain": [
       "'D2' '::' -E2*d0 - B3*d1 + B1*d3"
      ]
     },
     "metadata": {},
     "output_type": "display_data"
    },
    {
     "data": {
      "text/html": [
       "<html><script type=\"math/tex; mode=display\">\\newcommand{\\Bold}[1]{\\mathbf{#1}}\\verb|D3| \\verb|::| -E_{3} d_{0} + B_{2} d_{1} - B_{1} d_{2}</script></html>"
      ],
      "text/plain": [
       "'D3' '::' -E3*d0 + B2*d1 - B1*d2"
      ]
     },
     "metadata": {},
     "output_type": "display_data"
    },
    {
     "data": {
      "text/html": [
       "<html><script type=\"math/tex; mode=display\">\\newcommand{\\Bold}[1]{\\mathbf{#1}}\\verb|-------------------------|</script></html>"
      ],
      "text/plain": [
       "'-------------------------'"
      ]
     },
     "metadata": {},
     "output_type": "display_data"
    },
    {
     "data": {
      "text/html": [
       "<html><script type=\"math/tex; mode=display\">\\newcommand{\\Bold}[1]{\\mathbf{#1}}\\verb|Test|\\phantom{\\verb!x!}\\verb|of|\\phantom{\\verb!x!}\\verb|the|\\phantom{\\verb!x!}\\verb|Hodge|\\phantom{\\verb!x!}\\verb|star|\\phantom{\\verb!x!}\\verb|operator:|</script></html>"
      ],
      "text/plain": [
       "'Test of the Hodge star operator:'"
      ]
     },
     "metadata": {},
     "output_type": "display_data"
    },
    {
     "data": {
      "text/html": [
       "<html><script type=\"math/tex; mode=display\">\\newcommand{\\Bold}[1]{\\mathbf{#1}}\\verb|P|\\phantom{\\verb!x!}\\verb|wedge|\\phantom{\\verb!x!}\\verb|star|\\phantom{\\verb!x!}\\verb|P:|</script></html>"
      ],
      "text/plain": [
       "'P wedge star P:'"
      ]
     },
     "metadata": {},
     "output_type": "display_data"
    },
    {
     "data": {
      "text/html": [
       "<html><script type=\"math/tex; mode=display\">\\newcommand{\\Bold}[1]{\\mathbf{#1}}\\verb|D0123| \\verb|::| E^{2} - p_{1}^{2} - p_{2}^{2} - p_{3}^{2}</script></html>"
      ],
      "text/plain": [
       "'D0123' '::' E^2 - p1^2 - p2^2 - p3^2"
      ]
     },
     "metadata": {},
     "output_type": "display_data"
    },
    {
     "data": {
      "text/html": [
       "<html><script type=\"math/tex; mode=display\">\\newcommand{\\Bold}[1]{\\mathbf{#1}}\\verb|-------------------------|</script></html>"
      ],
      "text/plain": [
       "'-------------------------'"
      ]
     },
     "metadata": {},
     "output_type": "display_data"
    },
    {
     "data": {
      "text/html": [
       "<html><script type=\"math/tex; mode=display\">\\newcommand{\\Bold}[1]{\\mathbf{#1}}\\verb|F|\\phantom{\\verb!x!}\\verb|wedge|\\phantom{\\verb!x!}\\verb|F,|\\phantom{\\verb!x!}\\verb|as|\\phantom{\\verb!x!}\\verb|a|\\phantom{\\verb!x!}\\verb|4-form:|</script></html>"
      ],
      "text/plain": [
       "'F wedge F, as a 4-form:'"
      ]
     },
     "metadata": {},
     "output_type": "display_data"
    },
    {
     "data": {
      "text/html": [
       "<html><script type=\"math/tex; mode=display\">\\newcommand{\\Bold}[1]{\\mathbf{#1}}\\verb|D0123| \\verb|::| -B_{1}^{2} - B_{2}^{2} - B_{3}^{2} + E_{1}^{2} + E_{2}^{2} + E_{3}^{2}</script></html>"
      ],
      "text/plain": [
       "'D0123' '::' -B1^2 - B2^2 - B3^2 + E1^2 + E2^2 + E3^2"
      ]
     },
     "metadata": {},
     "output_type": "display_data"
    },
    {
     "data": {
      "text/html": [
       "<html><script type=\"math/tex; mode=display\">\\newcommand{\\Bold}[1]{\\mathbf{#1}}\\verb|----------------------------------------|</script></html>"
      ],
      "text/plain": [
       "'----------------------------------------'"
      ]
     },
     "metadata": {},
     "output_type": "display_data"
    },
    {
     "data": {
      "text/html": [
       "<html><script type=\"math/tex; mode=display\">\\newcommand{\\Bold}[1]{\\mathbf{#1}}\\verb|d|\\phantom{\\verb!x!}\\verb|star|\\phantom{\\verb!x!}\\verb|J,|\\phantom{\\verb!x!}\\verb|as|\\phantom{\\verb!x!}\\verb|a|\\phantom{\\verb!x!}\\verb|4-form:|</script></html>"
      ],
      "text/plain": [
       "'d star J, as a 4-form:'"
      ]
     },
     "metadata": {},
     "output_type": "display_data"
    },
    {
     "data": {
      "text/html": [
       "<html><script type=\"math/tex; mode=display\">\\newcommand{\\Bold}[1]{\\mathbf{#1}}\\verb|D0123| \\verb|::| -J_{1} d_{1} - J_{2} d_{2} - J_{3} d_{3} - d_{0} \\rho</script></html>"
      ],
      "text/plain": [
       "'D0123' '::' -J1*d1 - J2*d2 - J3*d3 - d0*rho"
      ]
     },
     "metadata": {},
     "output_type": "display_data"
    },
    {
     "data": {
      "text/html": [
       "<html><script type=\"math/tex; mode=display\">\\newcommand{\\Bold}[1]{\\mathbf{#1}}\\verb|--------------------------------------------------|</script></html>"
      ],
      "text/plain": [
       "'--------------------------------------------------'"
      ]
     },
     "metadata": {},
     "output_type": "display_data"
    },
    {
     "data": {
      "text/html": [
       "<html><script type=\"math/tex; mode=display\">\\newcommand{\\Bold}[1]{\\mathbf{#1}}\\verb|Test|\\phantom{\\verb!x!}\\verb|the|\\phantom{\\verb!x!}\\verb|Pauli|\\phantom{\\verb!x!}\\verb|identity:|</script></html>"
      ],
      "text/plain": [
       "'Test the Pauli identity:'"
      ]
     },
     "metadata": {},
     "output_type": "display_data"
    },
    {
     "data": {
      "text/html": [
       "<html><script type=\"math/tex; mode=display\">\\newcommand{\\Bold}[1]{\\mathbf{#1}}\\verb|(a.s)*(b.s):|</script></html>"
      ],
      "text/plain": [
       "'(a.s)*(b.s):'"
      ]
     },
     "metadata": {},
     "output_type": "display_data"
    },
    {
     "data": {
      "text/html": [
       "<html><script type=\"math/tex; mode=display\">\\newcommand{\\Bold}[1]{\\mathbf{#1}}\\verb|I2| \\verb|::| a_{1} b_{1} + a_{2} b_{2} + a_{3} b_{3}</script></html>"
      ],
      "text/plain": [
       "'I2' '::' a1*b1 + a2*b2 + a3*b3"
      ]
     },
     "metadata": {},
     "output_type": "display_data"
    },
    {
     "data": {
      "text/html": [
       "<html><script type=\"math/tex; mode=display\">\\newcommand{\\Bold}[1]{\\mathbf{#1}}\\verb|s1| \\verb|::| -i \\, a_{3} b_{2} + i \\, a_{2} b_{3}</script></html>"
      ],
      "text/plain": [
       "'s1' '::' -I*a3*b2 + I*a2*b3"
      ]
     },
     "metadata": {},
     "output_type": "display_data"
    },
    {
     "data": {
      "text/html": [
       "<html><script type=\"math/tex; mode=display\">\\newcommand{\\Bold}[1]{\\mathbf{#1}}\\verb|s2| \\verb|::| i \\, a_{3} b_{1} - i \\, a_{1} b_{3}</script></html>"
      ],
      "text/plain": [
       "'s2' '::' I*a3*b1 - I*a1*b3"
      ]
     },
     "metadata": {},
     "output_type": "display_data"
    },
    {
     "data": {
      "text/html": [
       "<html><script type=\"math/tex; mode=display\">\\newcommand{\\Bold}[1]{\\mathbf{#1}}\\verb|s3| \\verb|::| -i \\, a_{2} b_{1} + i \\, a_{1} b_{2}</script></html>"
      ],
      "text/plain": [
       "'s3' '::' -I*a2*b1 + I*a1*b2"
      ]
     },
     "metadata": {},
     "output_type": "display_data"
    },
    {
     "data": {
      "text/html": [
       "<html><script type=\"math/tex; mode=display\">\\newcommand{\\Bold}[1]{\\mathbf{#1}}\\verb|-------------------|</script></html>"
      ],
      "text/plain": [
       "'-------------------'"
      ]
     },
     "metadata": {},
     "output_type": "display_data"
    },
    {
     "data": {
      "text/html": [
       "<html><script type=\"math/tex; mode=display\">\\newcommand{\\Bold}[1]{\\mathbf{#1}}\\verb|Test|\\phantom{\\verb!x!}\\verb|of|\\phantom{\\verb!x!}\\verb|Hodge|\\phantom{\\verb!x!}\\verb|star|\\phantom{\\verb!x!}\\verb|for|\\phantom{\\verb!x!}\\verb|1-forms:|</script></html>"
      ],
      "text/plain": [
       "'Test of Hodge star for 1-forms:'"
      ]
     },
     "metadata": {},
     "output_type": "display_data"
    },
    {
     "data": {
      "text/html": [
       "<html><script type=\"math/tex; mode=display\">\\newcommand{\\Bold}[1]{\\mathbf{#1}}\\verb|A|\\phantom{\\verb!x!}\\verb|wedge|\\phantom{\\verb!x!}\\verb|star|\\phantom{\\verb!x!}\\verb|B,|\\phantom{\\verb!x!}\\verb|as|\\phantom{\\verb!x!}\\verb|a|\\phantom{\\verb!x!}\\verb|4-form:|</script></html>"
      ],
      "text/plain": [
       "'A wedge star B, as a 4-form:'"
      ]
     },
     "metadata": {},
     "output_type": "display_data"
    },
    {
     "data": {
      "text/html": [
       "<html><script type=\"math/tex; mode=display\">\\newcommand{\\Bold}[1]{\\mathbf{#1}}\\verb|D0123| \\verb|::| A_{0} B_{0} - A_{1} B_{1} - A_{2} B_{2} - A_{3} B_{3}</script></html>"
      ],
      "text/plain": [
       "'D0123' '::' A0*B0 - A1*B1 - A2*B2 - A3*B3"
      ]
     },
     "metadata": {},
     "output_type": "display_data"
    },
    {
     "data": {
      "text/html": [
       "<html><script type=\"math/tex; mode=display\">\\newcommand{\\Bold}[1]{\\mathbf{#1}}\\verb|--------------------------|</script></html>"
      ],
      "text/plain": [
       "'--------------------------'"
      ]
     },
     "metadata": {},
     "output_type": "display_data"
    },
    {
     "data": {
      "text/html": [
       "<html><script type=\"math/tex; mode=display\">\\newcommand{\\Bold}[1]{\\mathbf{#1}}\\verb|Ditto,|\\phantom{\\verb!x!}\\verb|this|\\phantom{\\verb!x!}\\verb|time|\\phantom{\\verb!x!}\\verb|using|\\phantom{\\verb!x!}\\verb|get_matrix_basis:|</script></html>"
      ],
      "text/plain": [
       "'Ditto, this time using get_matrix_basis:'"
      ]
     },
     "metadata": {},
     "output_type": "display_data"
    },
    {
     "data": {
      "text/html": [
       "<html><script type=\"math/tex; mode=display\">\\newcommand{\\Bold}[1]{\\mathbf{#1}}\\verb|g5| \\verb|::| -i \\, A_{0} B_{0} + i \\, A_{1} B_{1} + i \\, A_{2} B_{2} + i \\, A_{3} B_{3}</script></html>"
      ],
      "text/plain": [
       "'g5' '::' -I*A0*B0 + I*A1*B1 + I*A2*B2 + I*A3*B3"
      ]
     },
     "metadata": {},
     "output_type": "display_data"
    }
   ],
   "source": [
    "# q = 2 Maxwell and Dirac matrices along with differential forms:\n",
    "\n",
    "# First, define the Pauli matrices:\n",
    "s1 = matrix([[0, 1], [1,0]])\n",
    "s2 = matrix([[0, -I], [I, 0]])\n",
    "s3 = matrix([[1, 0], [0, -1]])\n",
    "\n",
    "show('The Pauli matrices:')\n",
    "show('s1: ', s1)\n",
    "show('s2: ', s2)\n",
    "show('s3: ', s3)\n",
    "\n",
    "# Now define identity and the empty 2x2 matrices:\n",
    "I2 = matrix([[1,0],[0,1]])\n",
    "ZZ2 = matrix([[0,0],[0,0]])\n",
    "\n",
    "# Define the Dirac matrices using tensor product:\n",
    "I4 = I2.tensor_product(I2)\n",
    "g0 = s3.tensor_product(I2)\n",
    "g1 = I*s1.tensor_product(s1)\n",
    "g2 = I*s1.tensor_product(s2)\n",
    "g3 = I*s1.tensor_product(s3)\n",
    "g5 = I*g0*g1*g2*g3\n",
    "\n",
    "# Now take a look at them:\n",
    "show('The Dirac matrices:')\n",
    "show('g0: ', g0)\n",
    "show('g1: ', g1)\n",
    "show('g2: ', g2)\n",
    "show('g3: ', g3)\n",
    "show('g5: ', g5)\n",
    "\n",
    "# Now define p-slash, call it P:\n",
    "var('E p1 p2 p3')\n",
    "P = E*g0 + p1*g1 + p2*g2 + p3*g3\n",
    "\n",
    "# Now check it works:\n",
    "show('P^2: ', expand(P^2))\n",
    "# show('g5^2: ', expand(g5^2))\n",
    "\n",
    "# Variables for custom_latex() function:\n",
    "var('d0 d1 d2 d3')\n",
    "var('A0 A1 A2 A3')\n",
    "var('E1 E2 E3')\n",
    "var('B1 B2 B3')\n",
    "var('rho J1 J2 J3')\n",
    "\n",
    "# The order of the terms in this list, is the order they will be sorted to in expressions:\n",
    "custom_latex_sort_order = [-1]\n",
    "custom_latex_sort_order += [d0, d1, d2, d3]\n",
    "custom_latex_sort_order += [A0, A1, A2, A3]\n",
    "custom_latex_sort_order += [E1, E2, E3]\n",
    "custom_latex_sort_order += [B1, B2, B3]\n",
    "# custom_latex_sort_order += [B1^2, B2^2, B3^2]\n",
    "custom_latex_sort_order += [rho, J1, J2, J3]\n",
    "\n",
    "# Maps indecies to their associated latex:\n",
    "custom_latex_string = ['-']\n",
    "custom_latex_string += [r'\\partial_0', r'\\partial_1', r'\\partial_2', r'\\partial_3']\n",
    "custom_latex_string += ['A_0', 'A_1', 'A_2', 'A_3']\n",
    "custom_latex_string += ['E_1', 'E_2', 'E_3']\n",
    "custom_latex_string += ['B_1', 'B_2', 'B_3']\n",
    "# custom_latex_string += ['B_1^2', 'B_2^2', 'B_3^2']\n",
    "custom_latex_string += [r'\\rho', 'J_1', 'J_2', 'J_3']\n",
    "\n",
    "\n",
    "# Variables we need to help walk the parse tree:\n",
    "var('sym1 sym2')\n",
    "\n",
    "# The function that maps expression to our custom latex:\n",
    "def first_custom_latex(r):\n",
    "    r = expand(r)\n",
    "    latex_result = ''\n",
    "    if r.operator() == (sym1 * sym2).operator():\n",
    "        idx_list = []\n",
    "        for t in r.operands():\n",
    "            idx = custom_latex_sort_order.index(t)\n",
    "            idx_list.append(idx)\n",
    "        idx_list.sort()\n",
    "        latex_result += ' '.join(custom_latex_string[i] for i in idx_list)\n",
    "    elif r.operator() == (sym1 + sym2).operator():\n",
    "        latex_result += ' + '.join(custom_latex(term) for term in r.operands())\n",
    "    elif r.operator() == (sym1^sym2).operator():\n",
    "        head, tail = r.operands()\n",
    "        head_idx = custom_latex_sort_order.index(head)\n",
    "        latex_result += '%s^{%s}' % (custom_latex_string[head_idx], latex(tail))\n",
    "    else:\n",
    "        idx = custom_latex_sort_order.index(r)\n",
    "        latex_result += custom_latex_string[idx]\n",
    "    return latex_result.replace(' + - ', ' - ')\n",
    "\n",
    "# Improved version:\n",
    "def custom_latex(r):\n",
    "    r = expand(r)\n",
    "    latex_result = ''\n",
    "    if r.operator() == (sym1 * sym2).operator():\n",
    "        # show('r.operands:', r.operands())\n",
    "        match = False\n",
    "        for x in r.operands():\n",
    "            if x < 0:\n",
    "                match = True\n",
    "        if match:\n",
    "            # show('Match!')\n",
    "            latex_result += ' - ' + custom_latex(-r)\n",
    "        else:\n",
    "            idx_list = []\n",
    "            power_term_tails = {}\n",
    "            number = 1\n",
    "            for t in r.operands():\n",
    "                # show('t:', t)\n",
    "                if t.operator() == (sym1^sym2).operator():\n",
    "                    head, tail = t.operands()\n",
    "                    idx = custom_latex_sort_order.index(head)\n",
    "                    idx_list.append(idx)\n",
    "                    power_term_tails[idx] = tail\n",
    "                else:\n",
    "                    if t not in custom_latex_sort_order:\n",
    "                        number = t\n",
    "                    else:\n",
    "                        idx = custom_latex_sort_order.index(t)\n",
    "                        idx_list.append(idx)\n",
    "            idx_list.sort()\n",
    "            result_list = []\n",
    "            if number != 1:\n",
    "                result_list.append(str(number))\n",
    "            for i in idx_list:\n",
    "                if i in power_term_tails:\n",
    "                    result_list.append(custom_latex_string[i] + '^{' + latex(power_term_tails[i]) + '}')\n",
    "                else:\n",
    "                    result_list.append(custom_latex_string[i])\n",
    "            latex_result += ' '.join(x for x in result_list)\n",
    "    elif r.operator() == (sym1 + sym2).operator():\n",
    "        latex_result += ' + '.join(custom_latex(term) for term in r.operands())\n",
    "    elif r.operator() == (sym1^sym2).operator():\n",
    "        head, tail = r.operands()\n",
    "        head_idx = custom_latex_sort_order.index(head)\n",
    "        latex_result += '%s^{%s}' % (custom_latex_string[head_idx], latex(tail))\n",
    "    else:\n",
    "        idx = custom_latex_sort_order.index(r)\n",
    "        latex_result += custom_latex_string[idx]\n",
    "    # return latex_result\n",
    "    return latex_result.replace(' +  - ', ' - ')\n",
    "\n",
    "    \n",
    "basis_matrices = [I2, s1, s2, s3, I4, g0, g1, g2, g3, g5]\n",
    "basis_labels = ['I2', 's1', 's2', 's3', 'I4', 'g0', 'g1', 'g2', 'g3', 'g5']\n",
    "\n",
    "# Given a matrix, extract out the component matrices:\n",
    "# Handles both Pauli and Dirac matrices\n",
    "def get_matrix_basis(A):\n",
    "    for idx in range(len(basis_matrices)):\n",
    "        matrix = basis_matrices[idx]\n",
    "        if A.dimensions() != matrix.dimensions():\n",
    "            continue\n",
    "        n = A.nrows()  # Assume A is a square matrix\n",
    "        term = (expand(A*matrix^3)).trace()/n\n",
    "        if term != 0:\n",
    "            label = basis_labels[idx]\n",
    "            show(label, '::', term)\n",
    "\n",
    "# Quick test:\n",
    "show('Quick test of get_matrix_basis(A):')\n",
    "show('get_matrix_basis(P):')\n",
    "get_matrix_basis(P)\n",
    "\n",
    "show('get_matrix_basis(P^2):')\n",
    "get_matrix_basis(P^2)\n",
    "\n",
    "# Define our differential form basis matrices:\n",
    "D0 = g0\n",
    "D1 = g1\n",
    "D2 = g2\n",
    "D3 = g3\n",
    "D01 = g0*g1\n",
    "D02 = g0*g2\n",
    "D03 = g0*g3\n",
    "D23 = g2*g3\n",
    "# D13 = g1*g3\n",
    "D31 = g3*g1\n",
    "D12 = g1*g2\n",
    "D023 = g0*g2*g3\n",
    "# D013 = g0*g1*g3\n",
    "D031 = g0*g3*g1\n",
    "D012 = g0*g1*g2\n",
    "D123 = g1*g2*g3\n",
    "D0123 = g0*g1*g2*g3\n",
    "\n",
    "# Define our matrices with respect to k:\n",
    "d_basis_matrices = {}\n",
    "d_basis_labels = {}\n",
    "\n",
    "d_basis_matrices[0] = [I2]\n",
    "d_basis_labels[0] = ['I2']\n",
    "\n",
    "d_basis_matrices[1] = [D0, D1, D2, D3]\n",
    "d_basis_labels[1] = ['D0', 'D1', 'D2', 'D3']\n",
    "\n",
    "# d_basis_matrices[2] = [D01, D02, D03, D23, D13, D12]\n",
    "# d_basis_labels[2] = ['D01', 'D02', 'D03', 'D23', 'D13', 'D12']\n",
    "\n",
    "d_basis_matrices[2] = [D01, D02, D03, D23, D31, D12]\n",
    "d_basis_labels[2] = ['D01', 'D02', 'D03', 'D23', 'D31', 'D12']\n",
    "\n",
    "# d_basis_matrices[3] = [D023, D013, D012, D123]\n",
    "# d_basis_labels[3] = ['D023', 'D013', 'D012', 'D123']\n",
    "\n",
    "d_basis_matrices[3] = [D023, D031, D012, D123]\n",
    "d_basis_labels[3] = ['D023', 'D031', 'D012', 'D123']\n",
    "\n",
    "d_basis_matrices[4] = [D0123]\n",
    "d_basis_labels[4] = ['D0123']\n",
    "\n",
    "# Now our extract basis function:\n",
    "def get_d_basis(k, A, use_latex=False):\n",
    "    if k not in d_basis_matrices:\n",
    "        return\n",
    "    latex_result = \"\"\n",
    "    matrices = d_basis_matrices[k]\n",
    "    labels = d_basis_labels[k]\n",
    "    for idx in range(len(matrices)):\n",
    "        matrix = matrices[idx]\n",
    "        if A.dimensions() != matrix.dimensions():\n",
    "            continue\n",
    "        n = A.nrows()  # Assume A is a square matrix\n",
    "        term = (expand(A*matrix^3)).trace()/n\n",
    "        if term != 0:\n",
    "            label = labels[idx]\n",
    "            if not use_latex:\n",
    "                show(label, '::', term)\n",
    "            else:\n",
    "                # sterm = label + ': ' + str(term)\n",
    "                # latex(sterm)\n",
    "                latex_result += '& ' + latex(label + ': ') + custom_latex(term) + \"\\\\\\\\\\n\"\n",
    "    if not use_latex:\n",
    "        return\n",
    "    print(latex_result)\n",
    "    return latex_result\n",
    "                \n",
    " \n",
    "# Now define our exterior derivative for q = 2, dim = 4:\n",
    "var('d0 d1 d2 d3')\n",
    "d = d0*D0 + d1*D1 + d2*D2 + d3*D3\n",
    "\n",
    "# Now define a couple of 1-forms:\n",
    "var('A0 A1 A2 A3')\n",
    "var('B0 B1 B2 B3')\n",
    "A = A0*D0 + A1*D1 + A2*D2 + A3*D3\n",
    "B = B0*D0 + B1*D1 + B2*D2 + B3*D3\n",
    "\n",
    "# Now define Maxwell's F:\n",
    "var('E1 E2 E3 B1 B2 B3')\n",
    "F = - E1*D01 - E2*D02 - E3*D03 + B1*D23 + B2*D31 + B3*D12\n",
    "\n",
    "# Now a quick test:\n",
    "show('Quick test of get_d_basis(k, A):')\n",
    "show('The P matrix:')\n",
    "get_d_basis(1, P)\n",
    "\n",
    "show('The F matrix:')\n",
    "get_d_basis(2, F)\n",
    "\n",
    "# Now dF:\n",
    "show('--------------------')\n",
    "show('dF as a 3-form:')\n",
    "get_d_basis(3, d*F)\n",
    "\n",
    "show('--------------------')\n",
    "show('dF as matrix basis:')\n",
    "get_matrix_basis(d*F)\n",
    "\n",
    "show('--------------------')\n",
    "show('dF as a 1-form:')\n",
    "get_d_basis(1, d*F)\n",
    "\n",
    "\n",
    "# define the Hodge star operator:\n",
    "# NB: Only works for 1-forms:\n",
    "def star(A):\n",
    "    r = 0\n",
    "    for idx in range(len(basis_matrices)):\n",
    "        matrix = basis_matrices[idx]\n",
    "        if A.dimensions() != matrix.dimensions():\n",
    "            continue\n",
    "        n = A.nrows()  # Assume A is a square matrix\n",
    "        term = (expand(A*matrix^3)).trace()/n\n",
    "        if term != 0:\n",
    "            r += term*matrix*D0123\n",
    "    return r\n",
    "\n",
    "# Now test the Hodge star operator:\n",
    "show('-------------------------')\n",
    "show('Test of the Hodge star operator:')\n",
    "show('P wedge star P:')\n",
    "get_d_basis(4, P*star(P))\n",
    "\n",
    "# show('-------------------------')\n",
    "# get_d_basis(4, F*star(F))\n",
    "\n",
    "# Improved Hodge star operator:\n",
    "def star_k(k, A):\n",
    "    if k not in d_basis_matrices:\n",
    "        return\n",
    "    matrices = d_basis_matrices[k]\n",
    "    labels = d_basis_labels[k]\n",
    "    r = 0\n",
    "    for idx in range(len(matrices)):\n",
    "        matrix = matrices[idx]\n",
    "        if A.dimensions() != matrix.dimensions():\n",
    "            continue\n",
    "        n = A.nrows()  # Assume A is a square matrix\n",
    "        term = (expand(A*matrix^3)).trace()/n\n",
    "        if term != 0:\n",
    "            r += term*matrix*D0123\n",
    "    return r\n",
    "\n",
    "show('-------------------------')\n",
    "show('F wedge F, as a 4-form:')\n",
    "get_d_basis(4, F*star_k(2, F))\n",
    "\n",
    "# show('----------------------')\n",
    "# show('dA as a 2-form:')\n",
    "# get_d_basis(2, d*A)\n",
    "\n",
    "\n",
    "# Now define the vector current:\n",
    "show('----------------------------------------')\n",
    "var('rho J1 J2 J3')\n",
    "J = - rho*D0 + J1*D1 + J2*D2 + J3*D3\n",
    "\n",
    "show('d star J, as a 4-form:')\n",
    "get_d_basis(4, d*star(J))\n",
    "\n",
    "\n",
    "# Now quick test of the Pauli identity:\n",
    "show('--------------------------------------------------')\n",
    "var('a1 a2 a3')\n",
    "var('b1 b2 b3')\n",
    "\n",
    "a = a1*s1 + a2*s2 + a3*s3\n",
    "b = b1*s1 + b2*s2 + b3*s3\n",
    "show('Test the Pauli identity:')\n",
    "show('(a.s)*(b.s):')\n",
    "get_matrix_basis(a*b)\n",
    "\n",
    "\n",
    "# Now a quick test of Hodge star dual for two 1-forms:\n",
    "show('-------------------')\n",
    "show('Test of Hodge star for 1-forms:')\n",
    "show('A wedge star B, as a 4-form:')\n",
    "get_d_basis(4, A*star(B))\n",
    "\n",
    "show('--------------------------')\n",
    "show('Ditto, this time using get_matrix_basis:')\n",
    "get_matrix_basis(A*star(B))"
   ]
  },
  {
   "cell_type": "code",
   "execution_count": 4,
   "metadata": {},
   "outputs": [
    {
     "data": {
      "text/html": [
       "<html><script type=\"math/tex; mode=display\">\\newcommand{\\Bold}[1]{\\mathbf{#1}}\\verb|The|\\phantom{\\verb!x!}\\verb|4|\\phantom{\\verb!x!}\\verb|dimension|\\phantom{\\verb!x!}\\verb|space-time,|\\phantom{\\verb!x!}\\verb|q|\\phantom{\\verb!x!}\\verb|=|\\phantom{\\verb!x!}\\verb|2,|\\phantom{\\verb!x!}\\verb|k-form|\\phantom{\\verb!x!}\\verb|dimension|\\phantom{\\verb!x!}\\verb|table:|</script></html>"
      ],
      "text/plain": [
       "'The 4 dimension space-time, q = 2, k-form dimension table:'"
      ]
     },
     "metadata": {},
     "output_type": "display_data"
    },
    {
     "data": {
      "text/html": [
       "<div class=\"notruncate\">\n",
       "<table  class=\"table_form\">\n",
       "<tbody>\n",
       "<tr>\n",
       "<th>k</th>\n",
       "<th>dim</th>\n",
       "<th>basis</th>\n",
       "</tr>\n",
       "<tr class =\"row-a\">\n",
       "<td><script type=\"math/tex\">0</script></td>\n",
       "<td><script type=\"math/tex\">1</script></td>\n",
       "<td></td>\n",
       "</tr>\n",
       "<tr class =\"row-b\">\n",
       "<td><script type=\"math/tex\">1</script></td>\n",
       "<td><script type=\"math/tex\">4</script></td>\n",
       "<td>0 1 2 3</td>\n",
       "</tr>\n",
       "<tr class =\"row-a\">\n",
       "<td><script type=\"math/tex\">2</script></td>\n",
       "<td><script type=\"math/tex\">6</script></td>\n",
       "<td>01 02 03 12 13 23</td>\n",
       "</tr>\n",
       "<tr class =\"row-b\">\n",
       "<td><script type=\"math/tex\">3</script></td>\n",
       "<td><script type=\"math/tex\">4</script></td>\n",
       "<td>012 013 023 123</td>\n",
       "</tr>\n",
       "<tr class =\"row-a\">\n",
       "<td><script type=\"math/tex\">4</script></td>\n",
       "<td><script type=\"math/tex\">1</script></td>\n",
       "<td>0123</td>\n",
       "</tr>\n",
       "</tbody>\n",
       "</table>\n",
       "</div>"
      ],
      "text/plain": [
       "  k   dim   basis\n",
       "+---+-----+-------------------+\n",
       "  0   1\n",
       "  1   4     0 1 2 3\n",
       "  2   6     01 02 03 12 13 23\n",
       "  3   4     012 013 023 123\n",
       "  4   1     0123"
      ]
     },
     "metadata": {},
     "output_type": "display_data"
    },
    {
     "name": "stdout",
     "output_type": "stream",
     "text": [
      "\\begin{tabular}{lll}\n",
      "k & dim & basis \\\\ \\hline\n",
      "$0$ & $1$ &  \\\\\n",
      "$1$ & $4$ & 0 1 2 3 \\\\\n",
      "$2$ & $6$ & 01 02 03 12 13 23 \\\\\n",
      "$3$ & $4$ & 012 013 023 123 \\\\\n",
      "$4$ & $1$ & 0123 \\\\\n",
      "\\end{tabular}\n"
     ]
    }
   ],
   "source": [
    "# In this section we define the dim-table function\n",
    "# Ie, the dimensions of k-forms for a given d and q\n",
    "import itertools\n",
    "# from collections import Counter\n",
    "\n",
    "def dim_table(d, q):\n",
    "    basis_indices = []\n",
    "    if d == 3 and q == 2:\n",
    "        basis_indices = [1,2,3]\n",
    "    if d == 4 and q == 2:\n",
    "        basis_indices = [0,1,2,3]\n",
    "    if d == 3 and q == 3:\n",
    "        basis_indices = [1,2,3]\n",
    "    if d == 4 and q == 3:\n",
    "        basis_indices = [0,1,2,3,4,5,6]\n",
    "    basis_dict = {}\n",
    "    k = 0\n",
    "    while True:\n",
    "        basis_dict[k] = []\n",
    "        basis_count = 0\n",
    "        for elt in itertools.combinations_with_replacement(basis_indices, k):\n",
    "            match = False\n",
    "            for b in basis_indices:\n",
    "                if elt.count(b) >= q:\n",
    "                    match = True\n",
    "                    break\n",
    "            if match:\n",
    "                continue\n",
    "            # print(elt)\n",
    "            basis_dict[k] += [elt]\n",
    "            basis_count += 1\n",
    "        k += 1\n",
    "        if basis_count == 0:\n",
    "            break\n",
    "    rows = [['k', 'dim', 'basis']]\n",
    "    for i in range(k - 1):\n",
    "        basis_result = basis_dict[i]\n",
    "        str_basis_result = \" \".join(\"\".join(str(x) for x in b) for b in basis_result)\n",
    "        rows += [[i, len(basis_result), str_basis_result]]\n",
    "    show(table(rows, header_row=True))\n",
    "    print(latex(table(rows, header_row=True, frame=False)))\n",
    "    \n",
    "    # return basis_dict\n",
    "\n",
    "show('The 4 dimension space-time, q = 2, k-form dimension table:')\n",
    "dim_table(4, 2)"
   ]
  },
  {
   "cell_type": "code",
   "execution_count": 6,
   "metadata": {},
   "outputs": [
    {
     "data": {
      "text/html": [
       "<html><script type=\"math/tex; mode=display\">\\newcommand{\\Bold}[1]{\\mathbf{#1}}\\verb|Summary|\\phantom{\\verb!x!}\\verb|of|\\phantom{\\verb!x!}\\verb|Maxwells|\\phantom{\\verb!x!}\\verb|equations:|</script></html>"
      ],
      "text/plain": [
       "'Summary of Maxwells equations:'"
      ]
     },
     "metadata": {},
     "output_type": "display_data"
    },
    {
     "data": {
      "text/html": [
       "<html><script type=\"math/tex; mode=display\">\\newcommand{\\Bold}[1]{\\mathbf{#1}}\\verb|F|\\phantom{\\verb!x!}\\verb|as|\\phantom{\\verb!x!}\\verb|a|\\phantom{\\verb!x!}\\verb|2-form:|</script></html>"
      ],
      "text/plain": [
       "'F as a 2-form:'"
      ]
     },
     "metadata": {},
     "output_type": "display_data"
    },
    {
     "data": {
      "text/html": [
       "<html><script type=\"math/tex; mode=display\">\\newcommand{\\Bold}[1]{\\mathbf{#1}}\\verb|D01| \\verb|::| -E_{1}</script></html>"
      ],
      "text/plain": [
       "'D01' '::' -E1"
      ]
     },
     "metadata": {},
     "output_type": "display_data"
    },
    {
     "data": {
      "text/html": [
       "<html><script type=\"math/tex; mode=display\">\\newcommand{\\Bold}[1]{\\mathbf{#1}}\\verb|D02| \\verb|::| -E_{2}</script></html>"
      ],
      "text/plain": [
       "'D02' '::' -E2"
      ]
     },
     "metadata": {},
     "output_type": "display_data"
    },
    {
     "data": {
      "text/html": [
       "<html><script type=\"math/tex; mode=display\">\\newcommand{\\Bold}[1]{\\mathbf{#1}}\\verb|D03| \\verb|::| -E_{3}</script></html>"
      ],
      "text/plain": [
       "'D03' '::' -E3"
      ]
     },
     "metadata": {},
     "output_type": "display_data"
    },
    {
     "data": {
      "text/html": [
       "<html><script type=\"math/tex; mode=display\">\\newcommand{\\Bold}[1]{\\mathbf{#1}}\\verb|D23| \\verb|::| B_{1}</script></html>"
      ],
      "text/plain": [
       "'D23' '::' B1"
      ]
     },
     "metadata": {},
     "output_type": "display_data"
    },
    {
     "data": {
      "text/html": [
       "<html><script type=\"math/tex; mode=display\">\\newcommand{\\Bold}[1]{\\mathbf{#1}}\\verb|D31| \\verb|::| B_{2}</script></html>"
      ],
      "text/plain": [
       "'D31' '::' B2"
      ]
     },
     "metadata": {},
     "output_type": "display_data"
    },
    {
     "data": {
      "text/html": [
       "<html><script type=\"math/tex; mode=display\">\\newcommand{\\Bold}[1]{\\mathbf{#1}}\\verb|D12| \\verb|::| B_{3}</script></html>"
      ],
      "text/plain": [
       "'D12' '::' B3"
      ]
     },
     "metadata": {},
     "output_type": "display_data"
    },
    {
     "data": {
      "text/html": [
       "<html><script type=\"math/tex; mode=display\">\\newcommand{\\Bold}[1]{\\mathbf{#1}}\\verb|F|\\phantom{\\verb!x!}\\verb|wedge|\\phantom{\\verb!x!}\\verb|star|\\phantom{\\verb!x!}\\verb|F,|\\phantom{\\verb!x!}\\verb|as|\\phantom{\\verb!x!}\\verb|a|\\phantom{\\verb!x!}\\verb|4-form:|</script></html>"
      ],
      "text/plain": [
       "'F wedge star F, as a 4-form:'"
      ]
     },
     "metadata": {},
     "output_type": "display_data"
    },
    {
     "data": {
      "text/html": [
       "<html><script type=\"math/tex; mode=display\">\\newcommand{\\Bold}[1]{\\mathbf{#1}}\\verb|D0123| \\verb|::| -B_{1}^{2} - B_{2}^{2} - B_{3}^{2} + E_{1}^{2} + E_{2}^{2} + E_{3}^{2}</script></html>"
      ],
      "text/plain": [
       "'D0123' '::' -B1^2 - B2^2 - B3^2 + E1^2 + E2^2 + E3^2"
      ]
     },
     "metadata": {},
     "output_type": "display_data"
    },
    {
     "data": {
      "text/html": [
       "<html><script type=\"math/tex; mode=display\">\\newcommand{\\Bold}[1]{\\mathbf{#1}}\\verb|----------------------|</script></html>"
      ],
      "text/plain": [
       "'----------------------'"
      ]
     },
     "metadata": {},
     "output_type": "display_data"
    },
    {
     "data": {
      "text/html": [
       "<html><script type=\"math/tex; mode=display\">\\newcommand{\\Bold}[1]{\\mathbf{#1}}\\verb|Now|\\phantom{\\verb!x!}\\verb|as|\\phantom{\\verb!x!}\\verb|latex:|</script></html>"
      ],
      "text/plain": [
       "'Now as latex:'"
      ]
     },
     "metadata": {},
     "output_type": "display_data"
    },
    {
     "data": {
      "text/html": [
       "<html><script type=\"math/tex; mode=display\">\\newcommand{\\Bold}[1]{\\mathbf{#1}}\\verb|dF,|\\phantom{\\verb!x!}\\verb|1-form:|</script></html>"
      ],
      "text/plain": [
       "'dF, 1-form:'"
      ]
     },
     "metadata": {},
     "output_type": "display_data"
    },
    {
     "name": "stdout",
     "output_type": "stream",
     "text": [
      "& \\text{\\texttt{D0:{ }}} - \\partial_1 E_1 - \\partial_2 E_2 - \\partial_3 E_3 \\\\\n",
      " & \\text{\\texttt{D1:{ }}} - \\partial_0 E_1 + \\partial_2 B_3 - \\partial_3 B_2 \\\\\n",
      " & \\text{\\texttt{D2:{ }}} - \\partial_0 E_2 - \\partial_1 B_3 + \\partial_3 B_1 \\\\\n",
      " & \\text{\\texttt{D3:{ }}} - \\partial_0 E_3 + \\partial_1 B_2 - \\partial_2 B_1 \\\\\n",
      "\n"
     ]
    },
    {
     "data": {
      "text/html": [
       "<html><script type=\"math/tex; mode=display\">\\newcommand{\\Bold}[1]{\\mathbf{#1}}\\verb|----------------------|</script></html>"
      ],
      "text/plain": [
       "'----------------------'"
      ]
     },
     "metadata": {},
     "output_type": "display_data"
    },
    {
     "data": {
      "text/html": [
       "<html><script type=\"math/tex; mode=display\">\\newcommand{\\Bold}[1]{\\mathbf{#1}}\\verb|dF,|\\phantom{\\verb!x!}\\verb|3-form:|</script></html>"
      ],
      "text/plain": [
       "'dF, 3-form:'"
      ]
     },
     "metadata": {},
     "output_type": "display_data"
    },
    {
     "name": "stdout",
     "output_type": "stream",
     "text": [
      "& \\text{\\texttt{D023:{ }}} \\partial_0 B_1 + \\partial_2 E_3 - \\partial_3 E_2 \\\\\n",
      " & \\text{\\texttt{D031:{ }}} \\partial_0 B_2 - \\partial_1 E_3 + \\partial_3 E_1 \\\\\n",
      " & \\text{\\texttt{D012:{ }}} \\partial_0 B_3 + \\partial_1 E_2 - \\partial_2 E_1 \\\\\n",
      " & \\text{\\texttt{D123:{ }}} \\partial_1 B_1 + \\partial_2 B_2 + \\partial_3 B_3 \\\\\n",
      "\n"
     ]
    },
    {
     "data": {
      "text/html": [
       "<html><script type=\"math/tex; mode=display\">\\newcommand{\\Bold}[1]{\\mathbf{#1}}\\verb|----------------------|</script></html>"
      ],
      "text/plain": [
       "'----------------------'"
      ]
     },
     "metadata": {},
     "output_type": "display_data"
    },
    {
     "data": {
      "text/html": [
       "<html><script type=\"math/tex; mode=display\">\\newcommand{\\Bold}[1]{\\mathbf{#1}}\\verb|dA,|\\phantom{\\verb!x!}\\verb|2-form:|</script></html>"
      ],
      "text/plain": [
       "'dA, 2-form:'"
      ]
     },
     "metadata": {},
     "output_type": "display_data"
    },
    {
     "name": "stdout",
     "output_type": "stream",
     "text": [
      "& \\text{\\texttt{D01:{ }}} \\partial_0 A_1 - \\partial_1 A_0 \\\\\n",
      " & \\text{\\texttt{D02:{ }}} \\partial_0 A_2 - \\partial_2 A_0 \\\\\n",
      " & \\text{\\texttt{D03:{ }}} \\partial_0 A_3 - \\partial_3 A_0 \\\\\n",
      " & \\text{\\texttt{D23:{ }}} \\partial_2 A_3 - \\partial_3 A_2 \\\\\n",
      " & \\text{\\texttt{D31:{ }}} - \\partial_1 A_3 + \\partial_3 A_1 \\\\\n",
      " & \\text{\\texttt{D12:{ }}} \\partial_1 A_2 - \\partial_2 A_1 \\\\\n",
      "\n"
     ]
    },
    {
     "data": {
      "text/html": [
       "<html><script type=\"math/tex; mode=display\">\\newcommand{\\Bold}[1]{\\mathbf{#1}}\\verb|F|\\phantom{\\verb!x!}\\verb|wedge|\\phantom{\\verb!x!}\\verb|*F,|\\phantom{\\verb!x!}\\verb|4-form:|</script></html>"
      ],
      "text/plain": [
       "'F wedge *F, 4-form:'"
      ]
     },
     "metadata": {},
     "output_type": "display_data"
    },
    {
     "name": "stdout",
     "output_type": "stream",
     "text": [
      "& \\text{\\texttt{D0123:{ }}} - B_1^{2} - B_2^{2} - B_3^{2} + E_1^{2} + E_2^{2} + E_3^{2} \\\\\n",
      "\n"
     ]
    },
    {
     "data": {
      "text/html": [
       "<html><script type=\"math/tex; mode=display\">\\newcommand{\\Bold}[1]{\\mathbf{#1}}\\verb|d|\\phantom{\\verb!x!}\\verb|wedge|\\phantom{\\verb!x!}\\verb|*J,|\\phantom{\\verb!x!}\\verb|4-form:|</script></html>"
      ],
      "text/plain": [
       "'d wedge *J, 4-form:'"
      ]
     },
     "metadata": {},
     "output_type": "display_data"
    },
    {
     "name": "stdout",
     "output_type": "stream",
     "text": [
      "& \\text{\\texttt{D0123:{ }}} - \\partial_1 J_1 - \\partial_2 J_2 - \\partial_3 J_3 - \\partial_0 \\rho \\\\\n",
      "\n"
     ]
    },
    {
     "data": {
      "text/plain": [
       "& \\text{\\texttt{D0123:{ }}} - \\partial_1 J_1 - \\partial_2 J_2 - \\partial_3 J_3 - \\partial_0 \\rho \\\\\n"
      ]
     },
     "execution_count": 6,
     "metadata": {},
     "output_type": "execute_result"
    }
   ],
   "source": [
    "# A final summary of Maxwell's equations:\n",
    "show('Summary of Maxwells equations:')\n",
    "# Define the F matrix:\n",
    "F = - E1*D01 - E2*D02 - E3*D03 + B1*D23 + B2*D31 + B3*D12\n",
    "\n",
    "show('F as a 2-form:')\n",
    "get_d_basis(2, F)\n",
    "\n",
    "show('F wedge star F, as a 4-form:')\n",
    "get_d_basis(4, F*star_k(2, F))\n",
    "\n",
    "show('----------------------')\n",
    "show('Now as latex:')\n",
    "show('dF, 1-form:')\n",
    "get_d_basis(1, d*F, True)\n",
    "show('----------------------')\n",
    "show('dF, 3-form:')\n",
    "get_d_basis(3, d*F, True)\n",
    "\n",
    "show('----------------------')\n",
    "show('dA, 2-form:')\n",
    "get_d_basis(2, d*A, True)\n",
    "\n",
    "show('F wedge *F, 4-form:')\n",
    "get_d_basis(4, F*star_k(2, F), True)\n",
    "\n",
    "show('d wedge *J, 4-form:')\n",
    "get_d_basis(4, d*star_k(1, J), True)"
   ]
  },
  {
   "cell_type": "code",
   "execution_count": null,
   "metadata": {},
   "outputs": [],
   "source": []
  }
 ],
 "metadata": {
  "kernelspec": {
   "display_name": "SageMath 9.0",
   "language": "sage",
   "name": "sagemath"
  },
  "language_info": {
   "codemirror_mode": {
    "name": "ipython",
    "version": 3
   },
   "file_extension": ".py",
   "mimetype": "text/x-python",
   "name": "python",
   "nbconvert_exporter": "python",
   "pygments_lexer": "ipython3",
   "version": "3.7.3"
  }
 },
 "nbformat": 4,
 "nbformat_minor": 2
}
